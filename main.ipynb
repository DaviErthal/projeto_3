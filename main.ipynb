{
 "cells": [
  {
   "cell_type": "code",
   "execution_count": null,
   "id": "6658dcaa",
   "metadata": {},
   "outputs": [
    {
     "name": "stdout",
     "output_type": "stream",
     "text": [
      "--- Starting Workforce Simulation ---\n",
      "Simulating for 24 months.\n",
      "Conversion Rate: 0%\n",
      "\n",
      "--- Simulation Complete. DataFrame generated. ---\n",
      "\n",
      "--- Simulation Results DataFrame ---\n",
      "         Date  Converted Projects  PA Small  PA Medium  PA Large  AW Small  \\\n",
      "0  2026-01-01                   0         3          6         2         1   \n",
      "1  2026-02-01                   0         6         12         4         2   \n",
      "2  2026-03-01                   0         9         18         6         3   \n",
      "3  2026-04-01                   0         9         24         8         4   \n",
      "4  2026-05-01                   0         9         30         9         5   \n",
      "5  2026-06-01                   0         9         36        10         5   \n",
      "6  2026-07-01                   0         9         36        11         5   \n",
      "7  2026-08-01                   0         9         36        12         5   \n",
      "8  2026-09-01                   0         9         36        11         5   \n",
      "9  2026-10-01                   0         9         36        10         5   \n",
      "10 2026-11-01                   0         9         36         9         5   \n",
      "11 2026-12-01                   0         9         36         8         4   \n",
      "12 2027-01-01                   0         8         34         8         4   \n",
      "13 2027-02-01                   0         7         32         8         4   \n",
      "14 2027-03-01                   0         6         30         8         4   \n",
      "15 2027-04-01                   0         6         28         8         4   \n",
      "16 2027-05-01                   0         6         26         8         5   \n",
      "17 2027-06-01                   0         6         24         8         6   \n",
      "18 2027-07-01                   0         6         23         8         7   \n",
      "19 2027-08-01                   0         6         22         8         7   \n",
      "20 2027-09-01                   0         6         21         8         7   \n",
      "21 2027-10-01                   0         5         20         7         7   \n",
      "22 2027-11-01                   0         4         19         6         7   \n",
      "23 2027-12-01                   0         3         18         5         6   \n",
      "\n",
      "    AW Medium  AW Large  Analyst Hired (Small)  Analyst Hired (Medium)  ...  \\\n",
      "0           1         1                      1                       1  ...   \n",
      "1           2         2                      1                       1  ...   \n",
      "2           2         3                      1                       2  ...   \n",
      "3           2         4                      1                       2  ...   \n",
      "4           2         5                      1                       3  ...   \n",
      "5           2         6                      1                       4  ...   \n",
      "6           2         7                      1                       4  ...   \n",
      "7           2         8                      1                       4  ...   \n",
      "8           2         9                      1                       4  ...   \n",
      "9           2        10                      1                       4  ...   \n",
      "10          2        11                      1                       4  ...   \n",
      "11          2        12                      1                       4  ...   \n",
      "12          3        19                      1                       3  ...   \n",
      "13          3        26                      1                       3  ...   \n",
      "14          3        33                      1                       3  ...   \n",
      "15          3        40                      1                       3  ...   \n",
      "16          3        47                      1                       3  ...   \n",
      "17          3        54                      1                       2  ...   \n",
      "18          3        61                      1                       2  ...   \n",
      "19          3        68                      1                       2  ...   \n",
      "20          2        75                      1                       2  ...   \n",
      "21          1        81                      1                       2  ...   \n",
      "22          1        87                      1                       2  ...   \n",
      "23          1        93                      1                       2  ...   \n",
      "\n",
      "    Tax Engineer Hired (Large)  Tax Engineer Hired (Total)  \\\n",
      "0                            1                           3   \n",
      "1                            1                           3   \n",
      "2                            1                           3   \n",
      "3                            2                           4   \n",
      "4                            2                           4   \n",
      "5                            2                           4   \n",
      "6                            3                           5   \n",
      "7                            3                           5   \n",
      "8                            3                           5   \n",
      "9                            4                           6   \n",
      "10                           4                           6   \n",
      "11                           4                           6   \n",
      "12                           7                           9   \n",
      "13                           9                          11   \n",
      "14                          12                          14   \n",
      "15                          14                          16   \n",
      "16                          16                          18   \n",
      "17                          19                          21   \n",
      "18                          21                          23   \n",
      "19                          23                          25   \n",
      "20                          25                          27   \n",
      "21                          27                          29   \n",
      "22                          29                          31   \n",
      "23                          31                          33   \n",
      "\n",
      "    Tax Technical Hired (Small)  Tax Technical Hired (Medium)  \\\n",
      "0                             1                             1   \n",
      "1                             1                             1   \n",
      "2                             1                             1   \n",
      "3                             1                             1   \n",
      "4                             1                             1   \n",
      "5                             1                             1   \n",
      "6                             1                             1   \n",
      "7                             1                             1   \n",
      "8                             1                             1   \n",
      "9                             1                             1   \n",
      "10                            1                             1   \n",
      "11                            1                             1   \n",
      "12                            1                             1   \n",
      "13                            1                             1   \n",
      "14                            1                             1   \n",
      "15                            1                             1   \n",
      "16                            1                             1   \n",
      "17                            2                             1   \n",
      "18                            2                             1   \n",
      "19                            2                             1   \n",
      "20                            2                             1   \n",
      "21                            2                             1   \n",
      "22                            2                             1   \n",
      "23                            2                             1   \n",
      "\n",
      "    Tax Technical Hired (Large)  Tax Technical Hired (Total)  \\\n",
      "0                             1                            3   \n",
      "1                             2                            4   \n",
      "2                             3                            5   \n",
      "3                             4                            6   \n",
      "4                             5                            7   \n",
      "5                             6                            8   \n",
      "6                             7                            9   \n",
      "7                             8                           10   \n",
      "8                             9                           11   \n",
      "9                            10                           12   \n",
      "10                           11                           13   \n",
      "11                           12                           14   \n",
      "12                           19                           21   \n",
      "13                           26                           28   \n",
      "14                           33                           35   \n",
      "15                           40                           42   \n",
      "16                           47                           49   \n",
      "17                           54                           57   \n",
      "18                           61                           64   \n",
      "19                           68                           71   \n",
      "20                           75                           78   \n",
      "21                           81                           84   \n",
      "22                           87                           90   \n",
      "23                           93                           96   \n",
      "\n",
      "    Planning Engineer Hired (Small)  Planning Engineer Hired (Medium)  \\\n",
      "0                                 0                                 1   \n",
      "1                                 0                                 1   \n",
      "2                                 0                                 1   \n",
      "3                                 0                                 1   \n",
      "4                                 0                                 1   \n",
      "5                                 0                                 1   \n",
      "6                                 0                                 1   \n",
      "7                                 0                                 1   \n",
      "8                                 0                                 1   \n",
      "9                                 0                                 1   \n",
      "10                                0                                 1   \n",
      "11                                0                                 1   \n",
      "12                                0                                 1   \n",
      "13                                0                                 1   \n",
      "14                                0                                 1   \n",
      "15                                0                                 1   \n",
      "16                                0                                 1   \n",
      "17                                0                                 1   \n",
      "18                                0                                 1   \n",
      "19                                0                                 1   \n",
      "20                                0                                 1   \n",
      "21                                0                                 1   \n",
      "22                                0                                 1   \n",
      "23                                0                                 1   \n",
      "\n",
      "    Planning Engineer Hired (Large)  Planning Engineer Hired (Total)  \n",
      "0                                 1                                2  \n",
      "1                                 1                                2  \n",
      "2                                 1                                2  \n",
      "3                                 1                                2  \n",
      "4                                 1                                2  \n",
      "5                                 1                                2  \n",
      "6                                 2                                3  \n",
      "7                                 2                                3  \n",
      "8                                 2                                3  \n",
      "9                                 2                                3  \n",
      "10                                2                                3  \n",
      "11                                2                                3  \n",
      "12                                4                                5  \n",
      "13                                5                                6  \n",
      "14                                6                                7  \n",
      "15                                7                                8  \n",
      "16                                8                                9  \n",
      "17                               10                               11  \n",
      "18                               11                               12  \n",
      "19                               12                               13  \n",
      "20                               13                               14  \n",
      "21                               14                               15  \n",
      "22                               15                               16  \n",
      "23                               16                               17  \n",
      "\n",
      "[24 rows x 32 columns]\n"
     ]
    }
   ],
   "source": [
    "# workforce_simulator.py\n",
    "#\n",
    "# This script simulates workforce demand over time based on a pipeline of construction projects.\n",
    "# It uses predefined rules for project duration and staffing requirements to forecast\n",
    "# the number of employees needed for each role on a month-by-month basis.\n",
    "#\n",
    "# NEW: Fixed the bug where conversions always defaulted to the wrong scale.\n",
    "\n",
    "import math\n",
    "import random\n",
    "import pandas as pd\n",
    "from datetime import datetime\n",
    "import plotly.express as px\n",
    "import plotly.graph_objects as go # We need to import graph_objects to add shapes\n",
    "\n",
    "\n",
    "# --- PHASE 1: DEFINING THE CORE RULES & COEFFICIENTS ---\n",
    "# These dictionaries store the business logic you provided.\n",
    "\n",
    "# Rule 1: Project Durations in months (Updated as per your request)\n",
    "PROJECT_DURATIONS = {\n",
    "    \"Pre-analysis\": { \"Small\": 3, \"Medium\": 6, \"Large\": 8 },\n",
    "    \"Actual Work\": { \"Small\": 11, \"Medium\": 20, \"Large\": 25 }\n",
    "}\n",
    "\n",
    "# Rule 2: Staffing Coefficients (Fraction of one employee required per project)\n",
    "STAFFING_COEFFICIENTS = {\n",
    "    \"Pre-analysis\": {\n",
    "        \"Analyst\": {\"Small\": 1/20, \"Medium\": 1/12, \"Large\": 1/6},\n",
    "        \"Technical\": {\"Small\": 1/20, \"Medium\": 1/12, \"Large\": 1/6},\n",
    "    },\n",
    "    \"Actual Work\": {\n",
    "        \"Project Manager\": {\"Small\": 0, \"Medium\": 1/6, \"Large\": 1/6},\n",
    "        \"Tax Engineer\": {\"Small\": 1/12, \"Medium\": 1/6, \"Large\": 1/3},\n",
    "        \"Tax Technical\": {\"Small\": 1/5, \"Medium\": 1/5, \"Large\": 1.0},\n",
    "        \"Planning Engineer\": {\"Small\": 0, \"Medium\": 1/12, \"Large\": 1/6},\n",
    "    }\n",
    "}\n",
    "\n",
    "# --- PHASE 2: PROJECT AND SIMULATION SETUP ---\n",
    "\n",
    "class Project:\n",
    "    \"\"\"A class to represent a single construction project and track its progress.\"\"\"\n",
    "    def __init__(self, id, p_type, p_scale, start_month):\n",
    "        self.id = id\n",
    "        self.p_type = p_type\n",
    "        self.p_scale = p_scale\n",
    "        self.start_month = start_month\n",
    "        self.duration = PROJECT_DURATIONS[p_type][p_scale]\n",
    "        self.end_month = start_month + self.duration - 1\n",
    "\n",
    "    def is_active_in_month(self, month):\n",
    "        return self.start_month <= month <= self.end_month\n",
    "\n",
    "    def get_staffing_needs(self):\n",
    "        return STAFFING_COEFFICIENTS.get(self.p_type, {})\n",
    "\n",
    "def run_simulation(all_years_pa_counts, all_years_aw_base_counts, conversion_rate, simulation_duration_months, start_date_str='2026-01-01'):\n",
    "    \"\"\"\n",
    "    Runs the main workforce simulation and returns a DataFrame with the results.\n",
    "    \"\"\"\n",
    "    print(\"--- Starting Workforce Simulation ---\")\n",
    "    print(f\"Simulating for {simulation_duration_months} months.\")\n",
    "    print(f\"Conversion Rate: {conversion_rate * 100}%\\n\")\n",
    "\n",
    "    project_pipeline = []\n",
    "    project_id_counter = 0\n",
    "    results_data = []\n",
    "    start_date = datetime.strptime(start_date_str, '%Y-%m-%d')\n",
    "\n",
    "    roles = [\"Analyst\", \"Technical\", \"Project Manager\", \"Tax Engineer\", \"Tax Technical\", \"Planning Engineer\"]\n",
    "    scales = [\"Small\", \"Medium\", \"Laarge\"]\n",
    "\n",
    "    # --- PHASE 3: MONTH-BY-MONTH CALCULATION & DYNAMIC GENERATION ---\n",
    "    for month in range(1, simulation_duration_months + 1):\n",
    "        \n",
    "        # --- Part A: Generate new projects for this month ---\n",
    "        current_year_index = (month - 1) // 12\n",
    "        if current_year_index < len(all_years_pa_counts):\n",
    "            yearly_pa_counts = all_years_pa_counts[current_year_index]\n",
    "            yearly_aw_base_counts = all_years_aw_base_counts[current_year_index]\n",
    "            month_within_year = (month - 1) % 12\n",
    "            \n",
    "            for p_scale, yearly_count in yearly_pa_counts.items():\n",
    "                num_to_add = yearly_count // 12 + (1 if month_within_year < yearly_count % 12 else 0)\n",
    "                for _ in range(num_to_add):\n",
    "                    project_id_counter += 1\n",
    "                    project_pipeline.append(Project(f\"PA_{p_scale}_{project_id_counter}\", \"Pre-analysis\", p_scale, month))\n",
    "\n",
    "            for p_scale, yearly_count in yearly_aw_base_counts.items():\n",
    "                num_to_add = yearly_count // 12 + (1 if month_within_year < yearly_count % 12 else 0)\n",
    "                for _ in range(num_to_add):\n",
    "                    project_id_counter += 1\n",
    "                    project_pipeline.append(Project(f\"AW-base_{p_scale}_{project_id_counter}\", \"Actual Work\", p_scale, month))\n",
    "\n",
    "        # --- Part B: Handle conversions ---\n",
    "        converted_this_month = 0\n",
    "        finished_pa_projects = [p for p in project_pipeline if p.p_type == \"Pre-analysis\" and p.end_month == month - 1]\n",
    "        for proj in finished_pa_projects:\n",
    "            if random.random() < conversion_rate:\n",
    "                converted_this_month += 1\n",
    "                project_id_counter += 1\n",
    "                # FIXED: Use the scale from the original project ('proj.p_scale')\n",
    "                # instead of the leftover variable from the loop above.\n",
    "                project_pipeline.append(Project(f\"AW-Conv_{proj.p_scale}_{project_id_counter}\", \"Actual Work\", proj.p_scale, month))\n",
    "\n",
    "        # --- Part C: Calculate staffing and active project counts ---\n",
    "        monthly_demand = {role: {\"Small\": 0, \"Medium\": 0, \"Large\": 0} for role in roles}\n",
    "        active_project_counts = {\"PA Small\": 0, \"PA Medium\": 0, \"PA Large\": 0, \"AW Small\": 0, \"AW Medium\": 0, \"AW Large\": 0}\n",
    "\n",
    "        for proj in project_pipeline:\n",
    "            if proj.is_active_in_month(month):\n",
    "                key = f\"{'PA' if proj.p_type == 'Pre-analysis' else 'AW'} {proj.p_scale}\"\n",
    "                active_project_counts[key] += 1\n",
    "                \n",
    "                project_needs = proj.get_staffing_needs()\n",
    "                for role, requirements_by_scale in project_needs.items():\n",
    "                    if proj.p_scale in requirements_by_scale:\n",
    "                        demand_value = requirements_by_scale[proj.p_scale]\n",
    "                        monthly_demand[role][proj.p_scale] += demand_value\n",
    "        \n",
    "        # --- Part D: Store results for this month ---\n",
    "        current_date = start_date + pd.DateOffset(months=month - 1)\n",
    "        month_data = { \"Date\": current_date.strftime('%Y-%m'), \"Converted Projects\": converted_this_month, **active_project_counts }\n",
    "\n",
    "        for role in roles:\n",
    "            total_hired_for_role = 0\n",
    "            for scale in scales:\n",
    "                demand = monthly_demand[role][scale]\n",
    "                hired_count = math.ceil(demand)\n",
    "                month_data[f\"{role} Hired ({scale})\"] = hired_count\n",
    "                total_hired_for_role += hired_count\n",
    "            month_data[f\"{role} Hired (Total)\"] = total_hired_for_role\n",
    "        \n",
    "        results_data.append(month_data)\n",
    "\n",
    "    # --- PHASE 4: CREATE AND RETURN DATAFRAME ---\n",
    "    results_df = pd.DataFrame(results_data)\n",
    "    \n",
    "    column_order = [\"Date\", \"Converted Projects\", \"PA Small\", \"PA Medium\", \"PA Large\", \"AW Small\", \"AW Medium\", \"AW Large\"]\n",
    "    for role in roles:\n",
    "        for scale in scales:\n",
    "            column_order.append(f\"{role} Hired ({scale})\")\n",
    "        column_order.append(f\"{role} Hired (Total)\")\n",
    "\n",
    "    results_df = results_df.reindex(columns=column_order, fill_value=0)\n",
    "    \n",
    "    results_df['Date'] = pd.to_datetime(results_df['Date'])\n",
    "    \n",
    "    for col in results_df.columns:\n",
    "        if 'Hired' in col or 'Projects' in col:\n",
    "            results_df[col] = results_df[col].astype(int)\n",
    "\n",
    "    print(\"--- Simulation Complete. DataFrame generated. ---\")\n",
    "    return results_df\n",
    "\n",
    "\n",
    "# --- EXAMPLE USAGE (for a .py file or a notebook cell) ---\n",
    "if __name__ == \"__main__\":\n",
    "    ALL_YEARS_PA_PROJECTS = [\n",
    "        {\"Small\": 44, \"Medium\": 64, \"Large\": 12},  # Year 1\n",
    "        {\"Small\": 26, \"Medium\": 38, \"Large\": 7}    # Year 2\n",
    "    ]\n",
    "    ALL_YEARS_AW_BASE_PROJECTS = [\n",
    "        {\"Small\": 44, \"Medium\": 5, \"Large\": 10},   # Year 1\n",
    "        {\"Small\": 20, \"Medium\": 3, \"Large\": 12}    # Year 2\n",
    "    ]\n",
    "\n",
    "    ALL_YEARS_PA_PROJECTS_2 = [\n",
    "        {\"Small\": 36, \"Medium\": 40, \"Large\": 16},  # Year 1\n",
    "        {\"Small\": 21, \"Medium\": 24, \"Large\": 9}    # Year 2\n",
    "    ]\n",
    "    ALL_YEARS_AW_BASE_PROJECTS_2 = [\n",
    "        {\"Small\": 37, \"Medium\": 14, \"Large\": 16},   # Year 1\n",
    "        {\"Small\": 33, \"Medium\": 9, \"Large\": 9}    # Year 2\n",
    "    ]\n",
    "\n",
    "    ALL_YEARS_PA_PROJECTS_3 = [\n",
    "        #{\"Small\": 21, \"Medium\": 42, \"Large\": 9},\n",
    "        {\"Small\": 36, \"Medium\": 72, \"Large\": 16},  # Year 1\n",
    "        {\"Small\": 21, \"Medium\": 42, \"Large\": 9}    # Year 2\n",
    "    ]\n",
    "    ALL_YEARS_AW_BASE_PROJECTS_3 = [\n",
    "        #{\"Small\": 7, \"Medium\": 1, \"Large\": 81},\n",
    "        {\"Small\": 5, \"Medium\": 2, \"Large\": 12},   # Year 1\n",
    "        {\"Small\": 7, \"Medium\": 1, \"Large\": 81}    # Year 2\n",
    "    ]\n",
    "    \n",
    "    CONVERSION_RATE = 0\n",
    "\n",
    "    # In your notebook, you would run this cell to get the DataFrame\n",
    "    simulation_df = run_simulation(\n",
    "        all_years_pa_counts=ALL_YEARS_PA_PROJECTS_3,\n",
    "        all_years_aw_base_counts=ALL_YEARS_AW_BASE_PROJECTS_3,\n",
    "        conversion_rate=CONVERSION_RATE,\n",
    "        simulation_duration_months=24,\n",
    "        start_date_str='2026-01-01' # You can change the start date here\n",
    "    )\n",
    "\n",
    "    # Now you can work with the DataFrame in subsequent cells.\n",
    "    # For example, display the first few rows:\n",
    "    print(\"\\n--- Simulation Results DataFrame ---\")\n",
    "    print(simulation_df.head(60))\n"
   ]
  },
  {
   "cell_type": "code",
   "execution_count": 2,
   "id": "56516d89",
   "metadata": {},
   "outputs": [
    {
     "data": {
      "application/vnd.plotly.v1+json": {
       "config": {
        "plotlyServerURL": "https://plot.ly"
       },
       "data": [
        {
         "hovertemplate": "Employee Role=Analyst Hired (Total)<br>Date=%{x}<br>Number of Employees=%{y}<extra></extra>",
         "legendgroup": "Analyst Hired (Total)",
         "line": {
          "color": "#636efa",
          "dash": "solid"
         },
         "marker": {
          "symbol": "circle"
         },
         "mode": "lines",
         "name": "Analyst",
         "orientation": "v",
         "showlegend": true,
         "type": "scatter",
         "x": [
          "2026-01-01T00:00:00.000000000",
          "2026-02-01T00:00:00.000000000",
          "2026-03-01T00:00:00.000000000",
          "2026-04-01T00:00:00.000000000",
          "2026-05-01T00:00:00.000000000",
          "2026-06-01T00:00:00.000000000",
          "2026-07-01T00:00:00.000000000",
          "2026-08-01T00:00:00.000000000",
          "2026-09-01T00:00:00.000000000",
          "2026-10-01T00:00:00.000000000",
          "2026-11-01T00:00:00.000000000",
          "2026-12-01T00:00:00.000000000",
          "2027-01-01T00:00:00.000000000",
          "2027-02-01T00:00:00.000000000",
          "2027-03-01T00:00:00.000000000",
          "2027-04-01T00:00:00.000000000",
          "2027-05-01T00:00:00.000000000",
          "2027-06-01T00:00:00.000000000",
          "2027-07-01T00:00:00.000000000",
          "2027-08-01T00:00:00.000000000",
          "2027-09-01T00:00:00.000000000",
          "2027-10-01T00:00:00.000000000",
          "2027-11-01T00:00:00.000000000",
          "2027-12-01T00:00:00.000000000"
         ],
         "xaxis": "x",
         "y": {
          "bdata": "AwMEBQYHBwcHBwcHBgYGBgYFBQUFBQQE",
          "dtype": "i1"
         },
         "yaxis": "y"
        },
        {
         "hovertemplate": "Employee Role=Technical Hired (Total)<br>Date=%{x}<br>Number of Employees=%{y}<extra></extra>",
         "legendgroup": "Technical Hired (Total)",
         "line": {
          "color": "#EF553B",
          "dash": "solid"
         },
         "marker": {
          "symbol": "circle"
         },
         "mode": "lines",
         "name": "Technical",
         "orientation": "v",
         "showlegend": true,
         "type": "scatter",
         "x": [
          "2026-01-01T00:00:00.000000000",
          "2026-02-01T00:00:00.000000000",
          "2026-03-01T00:00:00.000000000",
          "2026-04-01T00:00:00.000000000",
          "2026-05-01T00:00:00.000000000",
          "2026-06-01T00:00:00.000000000",
          "2026-07-01T00:00:00.000000000",
          "2026-08-01T00:00:00.000000000",
          "2026-09-01T00:00:00.000000000",
          "2026-10-01T00:00:00.000000000",
          "2026-11-01T00:00:00.000000000",
          "2026-12-01T00:00:00.000000000",
          "2027-01-01T00:00:00.000000000",
          "2027-02-01T00:00:00.000000000",
          "2027-03-01T00:00:00.000000000",
          "2027-04-01T00:00:00.000000000",
          "2027-05-01T00:00:00.000000000",
          "2027-06-01T00:00:00.000000000",
          "2027-07-01T00:00:00.000000000",
          "2027-08-01T00:00:00.000000000",
          "2027-09-01T00:00:00.000000000",
          "2027-10-01T00:00:00.000000000",
          "2027-11-01T00:00:00.000000000",
          "2027-12-01T00:00:00.000000000"
         ],
         "xaxis": "x",
         "y": {
          "bdata": "AwMEBQYHBwcHBwcHBgYGBgYFBQUFBQQE",
          "dtype": "i1"
         },
         "yaxis": "y"
        },
        {
         "hovertemplate": "Employee Role=Project Manager Hired (Total)<br>Date=%{x}<br>Number of Employees=%{y}<extra></extra>",
         "legendgroup": "Project Manager Hired (Total)",
         "line": {
          "color": "#00cc96",
          "dash": "solid"
         },
         "marker": {
          "symbol": "circle"
         },
         "mode": "lines",
         "name": "Project Manager",
         "orientation": "v",
         "showlegend": true,
         "type": "scatter",
         "x": [
          "2026-01-01T00:00:00.000000000",
          "2026-02-01T00:00:00.000000000",
          "2026-03-01T00:00:00.000000000",
          "2026-04-01T00:00:00.000000000",
          "2026-05-01T00:00:00.000000000",
          "2026-06-01T00:00:00.000000000",
          "2026-07-01T00:00:00.000000000",
          "2026-08-01T00:00:00.000000000",
          "2026-09-01T00:00:00.000000000",
          "2026-10-01T00:00:00.000000000",
          "2026-11-01T00:00:00.000000000",
          "2026-12-01T00:00:00.000000000",
          "2027-01-01T00:00:00.000000000",
          "2027-02-01T00:00:00.000000000",
          "2027-03-01T00:00:00.000000000",
          "2027-04-01T00:00:00.000000000",
          "2027-05-01T00:00:00.000000000",
          "2027-06-01T00:00:00.000000000",
          "2027-07-01T00:00:00.000000000",
          "2027-08-01T00:00:00.000000000",
          "2027-09-01T00:00:00.000000000",
          "2027-10-01T00:00:00.000000000",
          "2027-11-01T00:00:00.000000000",
          "2027-12-01T00:00:00.000000000"
         ],
         "xaxis": "x",
         "y": {
          "bdata": "AgICAgICAwMDAwMDBQYHCAkLDA0ODxAR",
          "dtype": "i1"
         },
         "yaxis": "y"
        },
        {
         "hovertemplate": "Employee Role=Tax Engineer Hired (Total)<br>Date=%{x}<br>Number of Employees=%{y}<extra></extra>",
         "legendgroup": "Tax Engineer Hired (Total)",
         "line": {
          "color": "#ab63fa",
          "dash": "solid"
         },
         "marker": {
          "symbol": "circle"
         },
         "mode": "lines",
         "name": "Tax Engineer",
         "orientation": "v",
         "showlegend": true,
         "type": "scatter",
         "x": [
          "2026-01-01T00:00:00.000000000",
          "2026-02-01T00:00:00.000000000",
          "2026-03-01T00:00:00.000000000",
          "2026-04-01T00:00:00.000000000",
          "2026-05-01T00:00:00.000000000",
          "2026-06-01T00:00:00.000000000",
          "2026-07-01T00:00:00.000000000",
          "2026-08-01T00:00:00.000000000",
          "2026-09-01T00:00:00.000000000",
          "2026-10-01T00:00:00.000000000",
          "2026-11-01T00:00:00.000000000",
          "2026-12-01T00:00:00.000000000",
          "2027-01-01T00:00:00.000000000",
          "2027-02-01T00:00:00.000000000",
          "2027-03-01T00:00:00.000000000",
          "2027-04-01T00:00:00.000000000",
          "2027-05-01T00:00:00.000000000",
          "2027-06-01T00:00:00.000000000",
          "2027-07-01T00:00:00.000000000",
          "2027-08-01T00:00:00.000000000",
          "2027-09-01T00:00:00.000000000",
          "2027-10-01T00:00:00.000000000",
          "2027-11-01T00:00:00.000000000",
          "2027-12-01T00:00:00.000000000"
         ],
         "xaxis": "x",
         "y": {
          "bdata": "AwMDBAQEBQUFBgYGCQsOEBIVFxkbHR8h",
          "dtype": "i1"
         },
         "yaxis": "y"
        },
        {
         "hovertemplate": "Employee Role=Tax Technical Hired (Total)<br>Date=%{x}<br>Number of Employees=%{y}<extra></extra>",
         "legendgroup": "Tax Technical Hired (Total)",
         "line": {
          "color": "#FFA15A",
          "dash": "solid"
         },
         "marker": {
          "symbol": "circle"
         },
         "mode": "lines",
         "name": "Tax Technical",
         "orientation": "v",
         "showlegend": true,
         "type": "scatter",
         "x": [
          "2026-01-01T00:00:00.000000000",
          "2026-02-01T00:00:00.000000000",
          "2026-03-01T00:00:00.000000000",
          "2026-04-01T00:00:00.000000000",
          "2026-05-01T00:00:00.000000000",
          "2026-06-01T00:00:00.000000000",
          "2026-07-01T00:00:00.000000000",
          "2026-08-01T00:00:00.000000000",
          "2026-09-01T00:00:00.000000000",
          "2026-10-01T00:00:00.000000000",
          "2026-11-01T00:00:00.000000000",
          "2026-12-01T00:00:00.000000000",
          "2027-01-01T00:00:00.000000000",
          "2027-02-01T00:00:00.000000000",
          "2027-03-01T00:00:00.000000000",
          "2027-04-01T00:00:00.000000000",
          "2027-05-01T00:00:00.000000000",
          "2027-06-01T00:00:00.000000000",
          "2027-07-01T00:00:00.000000000",
          "2027-08-01T00:00:00.000000000",
          "2027-09-01T00:00:00.000000000",
          "2027-10-01T00:00:00.000000000",
          "2027-11-01T00:00:00.000000000",
          "2027-12-01T00:00:00.000000000"
         ],
         "xaxis": "x",
         "y": {
          "bdata": "AwQFBgcICQoLDA0OFRwjKjE5QEdOVFpg",
          "dtype": "i1"
         },
         "yaxis": "y"
        },
        {
         "hovertemplate": "Employee Role=Planning Engineer Hired (Total)<br>Date=%{x}<br>Number of Employees=%{y}<extra></extra>",
         "legendgroup": "Planning Engineer Hired (Total)",
         "line": {
          "color": "#19d3f3",
          "dash": "solid"
         },
         "marker": {
          "symbol": "circle"
         },
         "mode": "lines",
         "name": "Planning Engineer",
         "orientation": "v",
         "showlegend": true,
         "type": "scatter",
         "x": [
          "2026-01-01T00:00:00.000000000",
          "2026-02-01T00:00:00.000000000",
          "2026-03-01T00:00:00.000000000",
          "2026-04-01T00:00:00.000000000",
          "2026-05-01T00:00:00.000000000",
          "2026-06-01T00:00:00.000000000",
          "2026-07-01T00:00:00.000000000",
          "2026-08-01T00:00:00.000000000",
          "2026-09-01T00:00:00.000000000",
          "2026-10-01T00:00:00.000000000",
          "2026-11-01T00:00:00.000000000",
          "2026-12-01T00:00:00.000000000",
          "2027-01-01T00:00:00.000000000",
          "2027-02-01T00:00:00.000000000",
          "2027-03-01T00:00:00.000000000",
          "2027-04-01T00:00:00.000000000",
          "2027-05-01T00:00:00.000000000",
          "2027-06-01T00:00:00.000000000",
          "2027-07-01T00:00:00.000000000",
          "2027-08-01T00:00:00.000000000",
          "2027-09-01T00:00:00.000000000",
          "2027-10-01T00:00:00.000000000",
          "2027-11-01T00:00:00.000000000",
          "2027-12-01T00:00:00.000000000"
         ],
         "xaxis": "x",
         "y": {
          "bdata": "AgICAgICAwMDAwMDBQYHCAkLDA0ODxAR",
          "dtype": "i1"
         },
         "yaxis": "y"
        }
       ],
       "layout": {
        "legend": {
         "title": {
          "text": "Employee Role"
         },
         "tracegroupgap": 0
        },
        "template": {
         "data": {
          "bar": [
           {
            "error_x": {
             "color": "#2a3f5f"
            },
            "error_y": {
             "color": "#2a3f5f"
            },
            "marker": {
             "line": {
              "color": "#E5ECF6",
              "width": 0.5
             },
             "pattern": {
              "fillmode": "overlay",
              "size": 10,
              "solidity": 0.2
             }
            },
            "type": "bar"
           }
          ],
          "barpolar": [
           {
            "marker": {
             "line": {
              "color": "#E5ECF6",
              "width": 0.5
             },
             "pattern": {
              "fillmode": "overlay",
              "size": 10,
              "solidity": 0.2
             }
            },
            "type": "barpolar"
           }
          ],
          "carpet": [
           {
            "aaxis": {
             "endlinecolor": "#2a3f5f",
             "gridcolor": "white",
             "linecolor": "white",
             "minorgridcolor": "white",
             "startlinecolor": "#2a3f5f"
            },
            "baxis": {
             "endlinecolor": "#2a3f5f",
             "gridcolor": "white",
             "linecolor": "white",
             "minorgridcolor": "white",
             "startlinecolor": "#2a3f5f"
            },
            "type": "carpet"
           }
          ],
          "choropleth": [
           {
            "colorbar": {
             "outlinewidth": 0,
             "ticks": ""
            },
            "type": "choropleth"
           }
          ],
          "contour": [
           {
            "colorbar": {
             "outlinewidth": 0,
             "ticks": ""
            },
            "colorscale": [
             [
              0,
              "#0d0887"
             ],
             [
              0.1111111111111111,
              "#46039f"
             ],
             [
              0.2222222222222222,
              "#7201a8"
             ],
             [
              0.3333333333333333,
              "#9c179e"
             ],
             [
              0.4444444444444444,
              "#bd3786"
             ],
             [
              0.5555555555555556,
              "#d8576b"
             ],
             [
              0.6666666666666666,
              "#ed7953"
             ],
             [
              0.7777777777777778,
              "#fb9f3a"
             ],
             [
              0.8888888888888888,
              "#fdca26"
             ],
             [
              1,
              "#f0f921"
             ]
            ],
            "type": "contour"
           }
          ],
          "contourcarpet": [
           {
            "colorbar": {
             "outlinewidth": 0,
             "ticks": ""
            },
            "type": "contourcarpet"
           }
          ],
          "heatmap": [
           {
            "colorbar": {
             "outlinewidth": 0,
             "ticks": ""
            },
            "colorscale": [
             [
              0,
              "#0d0887"
             ],
             [
              0.1111111111111111,
              "#46039f"
             ],
             [
              0.2222222222222222,
              "#7201a8"
             ],
             [
              0.3333333333333333,
              "#9c179e"
             ],
             [
              0.4444444444444444,
              "#bd3786"
             ],
             [
              0.5555555555555556,
              "#d8576b"
             ],
             [
              0.6666666666666666,
              "#ed7953"
             ],
             [
              0.7777777777777778,
              "#fb9f3a"
             ],
             [
              0.8888888888888888,
              "#fdca26"
             ],
             [
              1,
              "#f0f921"
             ]
            ],
            "type": "heatmap"
           }
          ],
          "histogram": [
           {
            "marker": {
             "pattern": {
              "fillmode": "overlay",
              "size": 10,
              "solidity": 0.2
             }
            },
            "type": "histogram"
           }
          ],
          "histogram2d": [
           {
            "colorbar": {
             "outlinewidth": 0,
             "ticks": ""
            },
            "colorscale": [
             [
              0,
              "#0d0887"
             ],
             [
              0.1111111111111111,
              "#46039f"
             ],
             [
              0.2222222222222222,
              "#7201a8"
             ],
             [
              0.3333333333333333,
              "#9c179e"
             ],
             [
              0.4444444444444444,
              "#bd3786"
             ],
             [
              0.5555555555555556,
              "#d8576b"
             ],
             [
              0.6666666666666666,
              "#ed7953"
             ],
             [
              0.7777777777777778,
              "#fb9f3a"
             ],
             [
              0.8888888888888888,
              "#fdca26"
             ],
             [
              1,
              "#f0f921"
             ]
            ],
            "type": "histogram2d"
           }
          ],
          "histogram2dcontour": [
           {
            "colorbar": {
             "outlinewidth": 0,
             "ticks": ""
            },
            "colorscale": [
             [
              0,
              "#0d0887"
             ],
             [
              0.1111111111111111,
              "#46039f"
             ],
             [
              0.2222222222222222,
              "#7201a8"
             ],
             [
              0.3333333333333333,
              "#9c179e"
             ],
             [
              0.4444444444444444,
              "#bd3786"
             ],
             [
              0.5555555555555556,
              "#d8576b"
             ],
             [
              0.6666666666666666,
              "#ed7953"
             ],
             [
              0.7777777777777778,
              "#fb9f3a"
             ],
             [
              0.8888888888888888,
              "#fdca26"
             ],
             [
              1,
              "#f0f921"
             ]
            ],
            "type": "histogram2dcontour"
           }
          ],
          "mesh3d": [
           {
            "colorbar": {
             "outlinewidth": 0,
             "ticks": ""
            },
            "type": "mesh3d"
           }
          ],
          "parcoords": [
           {
            "line": {
             "colorbar": {
              "outlinewidth": 0,
              "ticks": ""
             }
            },
            "type": "parcoords"
           }
          ],
          "pie": [
           {
            "automargin": true,
            "type": "pie"
           }
          ],
          "scatter": [
           {
            "fillpattern": {
             "fillmode": "overlay",
             "size": 10,
             "solidity": 0.2
            },
            "type": "scatter"
           }
          ],
          "scatter3d": [
           {
            "line": {
             "colorbar": {
              "outlinewidth": 0,
              "ticks": ""
             }
            },
            "marker": {
             "colorbar": {
              "outlinewidth": 0,
              "ticks": ""
             }
            },
            "type": "scatter3d"
           }
          ],
          "scattercarpet": [
           {
            "marker": {
             "colorbar": {
              "outlinewidth": 0,
              "ticks": ""
             }
            },
            "type": "scattercarpet"
           }
          ],
          "scattergeo": [
           {
            "marker": {
             "colorbar": {
              "outlinewidth": 0,
              "ticks": ""
             }
            },
            "type": "scattergeo"
           }
          ],
          "scattergl": [
           {
            "marker": {
             "colorbar": {
              "outlinewidth": 0,
              "ticks": ""
             }
            },
            "type": "scattergl"
           }
          ],
          "scattermap": [
           {
            "marker": {
             "colorbar": {
              "outlinewidth": 0,
              "ticks": ""
             }
            },
            "type": "scattermap"
           }
          ],
          "scattermapbox": [
           {
            "marker": {
             "colorbar": {
              "outlinewidth": 0,
              "ticks": ""
             }
            },
            "type": "scattermapbox"
           }
          ],
          "scatterpolar": [
           {
            "marker": {
             "colorbar": {
              "outlinewidth": 0,
              "ticks": ""
             }
            },
            "type": "scatterpolar"
           }
          ],
          "scatterpolargl": [
           {
            "marker": {
             "colorbar": {
              "outlinewidth": 0,
              "ticks": ""
             }
            },
            "type": "scatterpolargl"
           }
          ],
          "scatterternary": [
           {
            "marker": {
             "colorbar": {
              "outlinewidth": 0,
              "ticks": ""
             }
            },
            "type": "scatterternary"
           }
          ],
          "surface": [
           {
            "colorbar": {
             "outlinewidth": 0,
             "ticks": ""
            },
            "colorscale": [
             [
              0,
              "#0d0887"
             ],
             [
              0.1111111111111111,
              "#46039f"
             ],
             [
              0.2222222222222222,
              "#7201a8"
             ],
             [
              0.3333333333333333,
              "#9c179e"
             ],
             [
              0.4444444444444444,
              "#bd3786"
             ],
             [
              0.5555555555555556,
              "#d8576b"
             ],
             [
              0.6666666666666666,
              "#ed7953"
             ],
             [
              0.7777777777777778,
              "#fb9f3a"
             ],
             [
              0.8888888888888888,
              "#fdca26"
             ],
             [
              1,
              "#f0f921"
             ]
            ],
            "type": "surface"
           }
          ],
          "table": [
           {
            "cells": {
             "fill": {
              "color": "#EBF0F8"
             },
             "line": {
              "color": "white"
             }
            },
            "header": {
             "fill": {
              "color": "#C8D4E3"
             },
             "line": {
              "color": "white"
             }
            },
            "type": "table"
           }
          ]
         },
         "layout": {
          "annotationdefaults": {
           "arrowcolor": "#2a3f5f",
           "arrowhead": 0,
           "arrowwidth": 1
          },
          "autotypenumbers": "strict",
          "coloraxis": {
           "colorbar": {
            "outlinewidth": 0,
            "ticks": ""
           }
          },
          "colorscale": {
           "diverging": [
            [
             0,
             "#8e0152"
            ],
            [
             0.1,
             "#c51b7d"
            ],
            [
             0.2,
             "#de77ae"
            ],
            [
             0.3,
             "#f1b6da"
            ],
            [
             0.4,
             "#fde0ef"
            ],
            [
             0.5,
             "#f7f7f7"
            ],
            [
             0.6,
             "#e6f5d0"
            ],
            [
             0.7,
             "#b8e186"
            ],
            [
             0.8,
             "#7fbc41"
            ],
            [
             0.9,
             "#4d9221"
            ],
            [
             1,
             "#276419"
            ]
           ],
           "sequential": [
            [
             0,
             "#0d0887"
            ],
            [
             0.1111111111111111,
             "#46039f"
            ],
            [
             0.2222222222222222,
             "#7201a8"
            ],
            [
             0.3333333333333333,
             "#9c179e"
            ],
            [
             0.4444444444444444,
             "#bd3786"
            ],
            [
             0.5555555555555556,
             "#d8576b"
            ],
            [
             0.6666666666666666,
             "#ed7953"
            ],
            [
             0.7777777777777778,
             "#fb9f3a"
            ],
            [
             0.8888888888888888,
             "#fdca26"
            ],
            [
             1,
             "#f0f921"
            ]
           ],
           "sequentialminus": [
            [
             0,
             "#0d0887"
            ],
            [
             0.1111111111111111,
             "#46039f"
            ],
            [
             0.2222222222222222,
             "#7201a8"
            ],
            [
             0.3333333333333333,
             "#9c179e"
            ],
            [
             0.4444444444444444,
             "#bd3786"
            ],
            [
             0.5555555555555556,
             "#d8576b"
            ],
            [
             0.6666666666666666,
             "#ed7953"
            ],
            [
             0.7777777777777778,
             "#fb9f3a"
            ],
            [
             0.8888888888888888,
             "#fdca26"
            ],
            [
             1,
             "#f0f921"
            ]
           ]
          },
          "colorway": [
           "#636efa",
           "#EF553B",
           "#00cc96",
           "#ab63fa",
           "#FFA15A",
           "#19d3f3",
           "#FF6692",
           "#B6E880",
           "#FF97FF",
           "#FECB52"
          ],
          "font": {
           "color": "#2a3f5f"
          },
          "geo": {
           "bgcolor": "white",
           "lakecolor": "white",
           "landcolor": "#E5ECF6",
           "showlakes": true,
           "showland": true,
           "subunitcolor": "white"
          },
          "hoverlabel": {
           "align": "left"
          },
          "hovermode": "closest",
          "mapbox": {
           "style": "light"
          },
          "paper_bgcolor": "white",
          "plot_bgcolor": "#E5ECF6",
          "polar": {
           "angularaxis": {
            "gridcolor": "white",
            "linecolor": "white",
            "ticks": ""
           },
           "bgcolor": "#E5ECF6",
           "radialaxis": {
            "gridcolor": "white",
            "linecolor": "white",
            "ticks": ""
           }
          },
          "scene": {
           "xaxis": {
            "backgroundcolor": "#E5ECF6",
            "gridcolor": "white",
            "gridwidth": 2,
            "linecolor": "white",
            "showbackground": true,
            "ticks": "",
            "zerolinecolor": "white"
           },
           "yaxis": {
            "backgroundcolor": "#E5ECF6",
            "gridcolor": "white",
            "gridwidth": 2,
            "linecolor": "white",
            "showbackground": true,
            "ticks": "",
            "zerolinecolor": "white"
           },
           "zaxis": {
            "backgroundcolor": "#E5ECF6",
            "gridcolor": "white",
            "gridwidth": 2,
            "linecolor": "white",
            "showbackground": true,
            "ticks": "",
            "zerolinecolor": "white"
           }
          },
          "shapedefaults": {
           "line": {
            "color": "#2a3f5f"
           }
          },
          "ternary": {
           "aaxis": {
            "gridcolor": "white",
            "linecolor": "white",
            "ticks": ""
           },
           "baxis": {
            "gridcolor": "white",
            "linecolor": "white",
            "ticks": ""
           },
           "bgcolor": "#E5ECF6",
           "caxis": {
            "gridcolor": "white",
            "linecolor": "white",
            "ticks": ""
           }
          },
          "title": {
           "x": 0.05
          },
          "xaxis": {
           "automargin": true,
           "gridcolor": "white",
           "linecolor": "white",
           "ticks": "",
           "title": {
            "standoff": 15
           },
           "zerolinecolor": "white",
           "zerolinewidth": 2
          },
          "yaxis": {
           "automargin": true,
           "gridcolor": "white",
           "linecolor": "white",
           "ticks": "",
           "title": {
            "standoff": 15
           },
           "zerolinecolor": "white",
           "zerolinewidth": 2
          }
         }
        },
        "title": {
         "text": "Total Hired Employees by Role Over Time"
        },
        "xaxis": {
         "anchor": "y",
         "domain": [
          0,
          1
         ],
         "title": {
          "text": "Date"
         }
        },
        "yaxis": {
         "anchor": "x",
         "domain": [
          0,
          1
         ],
         "title": {
          "text": "Number of Employees"
         }
        }
       }
      }
     },
     "metadata": {},
     "output_type": "display_data"
    }
   ],
   "source": [
    "# --- Plot 1: Total Hired Employees by Role ---\n",
    "\n",
    "# Select the columns that represent the total hired staff for each role\n",
    "hired_total_columns = [col for col in simulation_df.columns if 'Hired (Total)' in col]\n",
    "roles_to_plot = [col.replace(' Hired (Total)', '') for col in hired_total_columns]\n",
    "\n",
    "# Create the line plot\n",
    "fig_employees = px.line(\n",
    "    simulation_df,\n",
    "    x='Date',\n",
    "    y=hired_total_columns,\n",
    "    title='Total Hired Employees by Role Over Time',\n",
    "    labels={'value': 'Number of Employees', 'variable': 'Employee Role'}\n",
    ")\n",
    "\n",
    "# Update the legend to show clean role names\n",
    "fig_employees.for_each_trace(lambda t: t.update(name = t.name.replace(\" Hired (Total)\", \"\")))\n",
    "\n",
    "\n",
    "# Show the plot\n",
    "fig_employees.show()"
   ]
  },
  {
   "cell_type": "code",
   "execution_count": 3,
   "id": "981b47a3",
   "metadata": {},
   "outputs": [
    {
     "data": {
      "application/vnd.plotly.v1+json": {
       "config": {
        "plotlyServerURL": "https://plot.ly"
       },
       "data": [
        {
         "hovertemplate": "Employee Role=Analyst Hired (Total)<br>Date=%{x}<br>Number of Employees=%{y}<extra></extra>",
         "legendgroup": "Analyst Hired (Total)",
         "line": {
          "color": "#636efa",
          "dash": "solid"
         },
         "marker": {
          "symbol": "circle"
         },
         "mode": "lines",
         "name": "Analyst",
         "orientation": "v",
         "showlegend": true,
         "type": "scatter",
         "x": [
          "2026-01-01T00:00:00.000000000",
          "2026-02-01T00:00:00.000000000",
          "2026-03-01T00:00:00.000000000",
          "2026-04-01T00:00:00.000000000",
          "2026-05-01T00:00:00.000000000",
          "2026-06-01T00:00:00.000000000",
          "2026-07-01T00:00:00.000000000",
          "2026-08-01T00:00:00.000000000",
          "2026-09-01T00:00:00.000000000",
          "2026-10-01T00:00:00.000000000",
          "2026-11-01T00:00:00.000000000",
          "2026-12-01T00:00:00.000000000",
          "2027-01-01T00:00:00.000000000",
          "2027-02-01T00:00:00.000000000",
          "2027-03-01T00:00:00.000000000",
          "2027-04-01T00:00:00.000000000",
          "2027-05-01T00:00:00.000000000",
          "2027-06-01T00:00:00.000000000",
          "2027-07-01T00:00:00.000000000",
          "2027-08-01T00:00:00.000000000",
          "2027-09-01T00:00:00.000000000",
          "2027-10-01T00:00:00.000000000",
          "2027-11-01T00:00:00.000000000",
          "2027-12-01T00:00:00.000000000"
         ],
         "xaxis": "x",
         "y": {
          "bdata": "AwMEBQYHBwcHBwcHBgYGBgYFBQUFBQQE",
          "dtype": "i1"
         },
         "yaxis": "y"
        },
        {
         "hovertemplate": "Employee Role=Technical Hired (Total)<br>Date=%{x}<br>Number of Employees=%{y}<extra></extra>",
         "legendgroup": "Technical Hired (Total)",
         "line": {
          "color": "#EF553B",
          "dash": "solid"
         },
         "marker": {
          "symbol": "circle"
         },
         "mode": "lines",
         "name": "Technical",
         "orientation": "v",
         "showlegend": true,
         "type": "scatter",
         "x": [
          "2026-01-01T00:00:00.000000000",
          "2026-02-01T00:00:00.000000000",
          "2026-03-01T00:00:00.000000000",
          "2026-04-01T00:00:00.000000000",
          "2026-05-01T00:00:00.000000000",
          "2026-06-01T00:00:00.000000000",
          "2026-07-01T00:00:00.000000000",
          "2026-08-01T00:00:00.000000000",
          "2026-09-01T00:00:00.000000000",
          "2026-10-01T00:00:00.000000000",
          "2026-11-01T00:00:00.000000000",
          "2026-12-01T00:00:00.000000000",
          "2027-01-01T00:00:00.000000000",
          "2027-02-01T00:00:00.000000000",
          "2027-03-01T00:00:00.000000000",
          "2027-04-01T00:00:00.000000000",
          "2027-05-01T00:00:00.000000000",
          "2027-06-01T00:00:00.000000000",
          "2027-07-01T00:00:00.000000000",
          "2027-08-01T00:00:00.000000000",
          "2027-09-01T00:00:00.000000000",
          "2027-10-01T00:00:00.000000000",
          "2027-11-01T00:00:00.000000000",
          "2027-12-01T00:00:00.000000000"
         ],
         "xaxis": "x",
         "y": {
          "bdata": "AwMEBQYHBwcHBwcHBgYGBgYFBQUFBQQE",
          "dtype": "i1"
         },
         "yaxis": "y"
        },
        {
         "hovertemplate": "Employee Role=Project Manager Hired (Total)<br>Date=%{x}<br>Number of Employees=%{y}<extra></extra>",
         "legendgroup": "Project Manager Hired (Total)",
         "line": {
          "color": "#00cc96",
          "dash": "solid"
         },
         "marker": {
          "symbol": "circle"
         },
         "mode": "lines",
         "name": "Project Manager",
         "orientation": "v",
         "showlegend": true,
         "type": "scatter",
         "x": [
          "2026-01-01T00:00:00.000000000",
          "2026-02-01T00:00:00.000000000",
          "2026-03-01T00:00:00.000000000",
          "2026-04-01T00:00:00.000000000",
          "2026-05-01T00:00:00.000000000",
          "2026-06-01T00:00:00.000000000",
          "2026-07-01T00:00:00.000000000",
          "2026-08-01T00:00:00.000000000",
          "2026-09-01T00:00:00.000000000",
          "2026-10-01T00:00:00.000000000",
          "2026-11-01T00:00:00.000000000",
          "2026-12-01T00:00:00.000000000",
          "2027-01-01T00:00:00.000000000",
          "2027-02-01T00:00:00.000000000",
          "2027-03-01T00:00:00.000000000",
          "2027-04-01T00:00:00.000000000",
          "2027-05-01T00:00:00.000000000",
          "2027-06-01T00:00:00.000000000",
          "2027-07-01T00:00:00.000000000",
          "2027-08-01T00:00:00.000000000",
          "2027-09-01T00:00:00.000000000",
          "2027-10-01T00:00:00.000000000",
          "2027-11-01T00:00:00.000000000",
          "2027-12-01T00:00:00.000000000"
         ],
         "xaxis": "x",
         "y": {
          "bdata": "AgICAgICAwMDAwMDBQYHCAkLDA0ODxAR",
          "dtype": "i1"
         },
         "yaxis": "y"
        },
        {
         "hovertemplate": "Employee Role=Tax Engineer Hired (Total)<br>Date=%{x}<br>Number of Employees=%{y}<extra></extra>",
         "legendgroup": "Tax Engineer Hired (Total)",
         "line": {
          "color": "#ab63fa",
          "dash": "solid"
         },
         "marker": {
          "symbol": "circle"
         },
         "mode": "lines",
         "name": "Tax Engineer",
         "orientation": "v",
         "showlegend": true,
         "type": "scatter",
         "x": [
          "2026-01-01T00:00:00.000000000",
          "2026-02-01T00:00:00.000000000",
          "2026-03-01T00:00:00.000000000",
          "2026-04-01T00:00:00.000000000",
          "2026-05-01T00:00:00.000000000",
          "2026-06-01T00:00:00.000000000",
          "2026-07-01T00:00:00.000000000",
          "2026-08-01T00:00:00.000000000",
          "2026-09-01T00:00:00.000000000",
          "2026-10-01T00:00:00.000000000",
          "2026-11-01T00:00:00.000000000",
          "2026-12-01T00:00:00.000000000",
          "2027-01-01T00:00:00.000000000",
          "2027-02-01T00:00:00.000000000",
          "2027-03-01T00:00:00.000000000",
          "2027-04-01T00:00:00.000000000",
          "2027-05-01T00:00:00.000000000",
          "2027-06-01T00:00:00.000000000",
          "2027-07-01T00:00:00.000000000",
          "2027-08-01T00:00:00.000000000",
          "2027-09-01T00:00:00.000000000",
          "2027-10-01T00:00:00.000000000",
          "2027-11-01T00:00:00.000000000",
          "2027-12-01T00:00:00.000000000"
         ],
         "xaxis": "x",
         "y": {
          "bdata": "AwMDBAQEBQUFBgYGCQsOEBIVFxkbHR8h",
          "dtype": "i1"
         },
         "yaxis": "y"
        },
        {
         "hovertemplate": "Employee Role=Tax Technical Hired (Total)<br>Date=%{x}<br>Number of Employees=%{y}<extra></extra>",
         "legendgroup": "Tax Technical Hired (Total)",
         "line": {
          "color": "#FFA15A",
          "dash": "solid"
         },
         "marker": {
          "symbol": "circle"
         },
         "mode": "lines",
         "name": "Tax Technical",
         "orientation": "v",
         "showlegend": true,
         "type": "scatter",
         "x": [
          "2026-01-01T00:00:00.000000000",
          "2026-02-01T00:00:00.000000000",
          "2026-03-01T00:00:00.000000000",
          "2026-04-01T00:00:00.000000000",
          "2026-05-01T00:00:00.000000000",
          "2026-06-01T00:00:00.000000000",
          "2026-07-01T00:00:00.000000000",
          "2026-08-01T00:00:00.000000000",
          "2026-09-01T00:00:00.000000000",
          "2026-10-01T00:00:00.000000000",
          "2026-11-01T00:00:00.000000000",
          "2026-12-01T00:00:00.000000000",
          "2027-01-01T00:00:00.000000000",
          "2027-02-01T00:00:00.000000000",
          "2027-03-01T00:00:00.000000000",
          "2027-04-01T00:00:00.000000000",
          "2027-05-01T00:00:00.000000000",
          "2027-06-01T00:00:00.000000000",
          "2027-07-01T00:00:00.000000000",
          "2027-08-01T00:00:00.000000000",
          "2027-09-01T00:00:00.000000000",
          "2027-10-01T00:00:00.000000000",
          "2027-11-01T00:00:00.000000000",
          "2027-12-01T00:00:00.000000000"
         ],
         "xaxis": "x",
         "y": {
          "bdata": "AwQFBgcICQoLDA0OFRwjKjE5QEdOVFpg",
          "dtype": "i1"
         },
         "yaxis": "y"
        },
        {
         "hovertemplate": "Employee Role=Planning Engineer Hired (Total)<br>Date=%{x}<br>Number of Employees=%{y}<extra></extra>",
         "legendgroup": "Planning Engineer Hired (Total)",
         "line": {
          "color": "#19d3f3",
          "dash": "solid"
         },
         "marker": {
          "symbol": "circle"
         },
         "mode": "lines",
         "name": "Planning Engineer",
         "orientation": "v",
         "showlegend": true,
         "type": "scatter",
         "x": [
          "2026-01-01T00:00:00.000000000",
          "2026-02-01T00:00:00.000000000",
          "2026-03-01T00:00:00.000000000",
          "2026-04-01T00:00:00.000000000",
          "2026-05-01T00:00:00.000000000",
          "2026-06-01T00:00:00.000000000",
          "2026-07-01T00:00:00.000000000",
          "2026-08-01T00:00:00.000000000",
          "2026-09-01T00:00:00.000000000",
          "2026-10-01T00:00:00.000000000",
          "2026-11-01T00:00:00.000000000",
          "2026-12-01T00:00:00.000000000",
          "2027-01-01T00:00:00.000000000",
          "2027-02-01T00:00:00.000000000",
          "2027-03-01T00:00:00.000000000",
          "2027-04-01T00:00:00.000000000",
          "2027-05-01T00:00:00.000000000",
          "2027-06-01T00:00:00.000000000",
          "2027-07-01T00:00:00.000000000",
          "2027-08-01T00:00:00.000000000",
          "2027-09-01T00:00:00.000000000",
          "2027-10-01T00:00:00.000000000",
          "2027-11-01T00:00:00.000000000",
          "2027-12-01T00:00:00.000000000"
         ],
         "xaxis": "x",
         "y": {
          "bdata": "AgICAgICAwMDAwMDBQYHCAkLDA0ODxAR",
          "dtype": "i1"
         },
         "yaxis": "y"
        }
       ],
       "layout": {
        "annotations": [
         {
          "font": {
           "color": "#636EFA"
          },
          "showarrow": false,
          "text": "Mean: 5.5",
          "x": "2027-12-01T00:00:00",
          "xshift": 40,
          "y": 5.541666666666667
         },
         {
          "font": {
           "color": "#EF553B"
          },
          "showarrow": false,
          "text": "Mean: 5.5",
          "x": "2027-12-01T00:00:00",
          "xshift": 40,
          "y": 5.541666666666667
         },
         {
          "font": {
           "color": "#00CC96"
          },
          "showarrow": false,
          "text": "Mean: 6.8",
          "x": "2027-12-01T00:00:00",
          "xshift": 40,
          "y": 6.791666666666667
         },
         {
          "font": {
           "color": "#AB63FA"
          },
          "showarrow": false,
          "text": "Mean: 13.0",
          "x": "2027-12-01T00:00:00",
          "xshift": 40,
          "y": 12.958333333333334
         },
         {
          "font": {
           "color": "#FFA15A"
          },
          "showarrow": false,
          "text": "Mean: 34.0",
          "x": "2027-12-01T00:00:00",
          "xshift": 40,
          "y": 34.041666666666664
         },
         {
          "font": {
           "color": "#19D3F3"
          },
          "showarrow": false,
          "text": "Mean: 6.8",
          "x": "2027-12-01T00:00:00",
          "xshift": 40,
          "y": 6.791666666666667
         }
        ],
        "legend": {
         "title": {
          "text": "Employee Role"
         },
         "tracegroupgap": 0
        },
        "shapes": [
         {
          "line": {
           "color": "#636EFA",
           "dash": "dash",
           "width": 2
          },
          "type": "line",
          "x0": "2026-01-01T00:00:00",
          "x1": "2027-12-01T00:00:00",
          "y0": 5.541666666666667,
          "y1": 5.541666666666667
         },
         {
          "line": {
           "color": "#EF553B",
           "dash": "dash",
           "width": 2
          },
          "type": "line",
          "x0": "2026-01-01T00:00:00",
          "x1": "2027-12-01T00:00:00",
          "y0": 5.541666666666667,
          "y1": 5.541666666666667
         },
         {
          "line": {
           "color": "#00CC96",
           "dash": "dash",
           "width": 2
          },
          "type": "line",
          "x0": "2026-01-01T00:00:00",
          "x1": "2027-12-01T00:00:00",
          "y0": 6.791666666666667,
          "y1": 6.791666666666667
         },
         {
          "line": {
           "color": "#AB63FA",
           "dash": "dash",
           "width": 2
          },
          "type": "line",
          "x0": "2026-01-01T00:00:00",
          "x1": "2027-12-01T00:00:00",
          "y0": 12.958333333333334,
          "y1": 12.958333333333334
         },
         {
          "line": {
           "color": "#FFA15A",
           "dash": "dash",
           "width": 2
          },
          "type": "line",
          "x0": "2026-01-01T00:00:00",
          "x1": "2027-12-01T00:00:00",
          "y0": 34.041666666666664,
          "y1": 34.041666666666664
         },
         {
          "line": {
           "color": "#19D3F3",
           "dash": "dash",
           "width": 2
          },
          "type": "line",
          "x0": "2026-01-01T00:00:00",
          "x1": "2027-12-01T00:00:00",
          "y0": 6.791666666666667,
          "y1": 6.791666666666667
         }
        ],
        "template": {
         "data": {
          "bar": [
           {
            "error_x": {
             "color": "#2a3f5f"
            },
            "error_y": {
             "color": "#2a3f5f"
            },
            "marker": {
             "line": {
              "color": "#E5ECF6",
              "width": 0.5
             },
             "pattern": {
              "fillmode": "overlay",
              "size": 10,
              "solidity": 0.2
             }
            },
            "type": "bar"
           }
          ],
          "barpolar": [
           {
            "marker": {
             "line": {
              "color": "#E5ECF6",
              "width": 0.5
             },
             "pattern": {
              "fillmode": "overlay",
              "size": 10,
              "solidity": 0.2
             }
            },
            "type": "barpolar"
           }
          ],
          "carpet": [
           {
            "aaxis": {
             "endlinecolor": "#2a3f5f",
             "gridcolor": "white",
             "linecolor": "white",
             "minorgridcolor": "white",
             "startlinecolor": "#2a3f5f"
            },
            "baxis": {
             "endlinecolor": "#2a3f5f",
             "gridcolor": "white",
             "linecolor": "white",
             "minorgridcolor": "white",
             "startlinecolor": "#2a3f5f"
            },
            "type": "carpet"
           }
          ],
          "choropleth": [
           {
            "colorbar": {
             "outlinewidth": 0,
             "ticks": ""
            },
            "type": "choropleth"
           }
          ],
          "contour": [
           {
            "colorbar": {
             "outlinewidth": 0,
             "ticks": ""
            },
            "colorscale": [
             [
              0,
              "#0d0887"
             ],
             [
              0.1111111111111111,
              "#46039f"
             ],
             [
              0.2222222222222222,
              "#7201a8"
             ],
             [
              0.3333333333333333,
              "#9c179e"
             ],
             [
              0.4444444444444444,
              "#bd3786"
             ],
             [
              0.5555555555555556,
              "#d8576b"
             ],
             [
              0.6666666666666666,
              "#ed7953"
             ],
             [
              0.7777777777777778,
              "#fb9f3a"
             ],
             [
              0.8888888888888888,
              "#fdca26"
             ],
             [
              1,
              "#f0f921"
             ]
            ],
            "type": "contour"
           }
          ],
          "contourcarpet": [
           {
            "colorbar": {
             "outlinewidth": 0,
             "ticks": ""
            },
            "type": "contourcarpet"
           }
          ],
          "heatmap": [
           {
            "colorbar": {
             "outlinewidth": 0,
             "ticks": ""
            },
            "colorscale": [
             [
              0,
              "#0d0887"
             ],
             [
              0.1111111111111111,
              "#46039f"
             ],
             [
              0.2222222222222222,
              "#7201a8"
             ],
             [
              0.3333333333333333,
              "#9c179e"
             ],
             [
              0.4444444444444444,
              "#bd3786"
             ],
             [
              0.5555555555555556,
              "#d8576b"
             ],
             [
              0.6666666666666666,
              "#ed7953"
             ],
             [
              0.7777777777777778,
              "#fb9f3a"
             ],
             [
              0.8888888888888888,
              "#fdca26"
             ],
             [
              1,
              "#f0f921"
             ]
            ],
            "type": "heatmap"
           }
          ],
          "histogram": [
           {
            "marker": {
             "pattern": {
              "fillmode": "overlay",
              "size": 10,
              "solidity": 0.2
             }
            },
            "type": "histogram"
           }
          ],
          "histogram2d": [
           {
            "colorbar": {
             "outlinewidth": 0,
             "ticks": ""
            },
            "colorscale": [
             [
              0,
              "#0d0887"
             ],
             [
              0.1111111111111111,
              "#46039f"
             ],
             [
              0.2222222222222222,
              "#7201a8"
             ],
             [
              0.3333333333333333,
              "#9c179e"
             ],
             [
              0.4444444444444444,
              "#bd3786"
             ],
             [
              0.5555555555555556,
              "#d8576b"
             ],
             [
              0.6666666666666666,
              "#ed7953"
             ],
             [
              0.7777777777777778,
              "#fb9f3a"
             ],
             [
              0.8888888888888888,
              "#fdca26"
             ],
             [
              1,
              "#f0f921"
             ]
            ],
            "type": "histogram2d"
           }
          ],
          "histogram2dcontour": [
           {
            "colorbar": {
             "outlinewidth": 0,
             "ticks": ""
            },
            "colorscale": [
             [
              0,
              "#0d0887"
             ],
             [
              0.1111111111111111,
              "#46039f"
             ],
             [
              0.2222222222222222,
              "#7201a8"
             ],
             [
              0.3333333333333333,
              "#9c179e"
             ],
             [
              0.4444444444444444,
              "#bd3786"
             ],
             [
              0.5555555555555556,
              "#d8576b"
             ],
             [
              0.6666666666666666,
              "#ed7953"
             ],
             [
              0.7777777777777778,
              "#fb9f3a"
             ],
             [
              0.8888888888888888,
              "#fdca26"
             ],
             [
              1,
              "#f0f921"
             ]
            ],
            "type": "histogram2dcontour"
           }
          ],
          "mesh3d": [
           {
            "colorbar": {
             "outlinewidth": 0,
             "ticks": ""
            },
            "type": "mesh3d"
           }
          ],
          "parcoords": [
           {
            "line": {
             "colorbar": {
              "outlinewidth": 0,
              "ticks": ""
             }
            },
            "type": "parcoords"
           }
          ],
          "pie": [
           {
            "automargin": true,
            "type": "pie"
           }
          ],
          "scatter": [
           {
            "fillpattern": {
             "fillmode": "overlay",
             "size": 10,
             "solidity": 0.2
            },
            "type": "scatter"
           }
          ],
          "scatter3d": [
           {
            "line": {
             "colorbar": {
              "outlinewidth": 0,
              "ticks": ""
             }
            },
            "marker": {
             "colorbar": {
              "outlinewidth": 0,
              "ticks": ""
             }
            },
            "type": "scatter3d"
           }
          ],
          "scattercarpet": [
           {
            "marker": {
             "colorbar": {
              "outlinewidth": 0,
              "ticks": ""
             }
            },
            "type": "scattercarpet"
           }
          ],
          "scattergeo": [
           {
            "marker": {
             "colorbar": {
              "outlinewidth": 0,
              "ticks": ""
             }
            },
            "type": "scattergeo"
           }
          ],
          "scattergl": [
           {
            "marker": {
             "colorbar": {
              "outlinewidth": 0,
              "ticks": ""
             }
            },
            "type": "scattergl"
           }
          ],
          "scattermap": [
           {
            "marker": {
             "colorbar": {
              "outlinewidth": 0,
              "ticks": ""
             }
            },
            "type": "scattermap"
           }
          ],
          "scattermapbox": [
           {
            "marker": {
             "colorbar": {
              "outlinewidth": 0,
              "ticks": ""
             }
            },
            "type": "scattermapbox"
           }
          ],
          "scatterpolar": [
           {
            "marker": {
             "colorbar": {
              "outlinewidth": 0,
              "ticks": ""
             }
            },
            "type": "scatterpolar"
           }
          ],
          "scatterpolargl": [
           {
            "marker": {
             "colorbar": {
              "outlinewidth": 0,
              "ticks": ""
             }
            },
            "type": "scatterpolargl"
           }
          ],
          "scatterternary": [
           {
            "marker": {
             "colorbar": {
              "outlinewidth": 0,
              "ticks": ""
             }
            },
            "type": "scatterternary"
           }
          ],
          "surface": [
           {
            "colorbar": {
             "outlinewidth": 0,
             "ticks": ""
            },
            "colorscale": [
             [
              0,
              "#0d0887"
             ],
             [
              0.1111111111111111,
              "#46039f"
             ],
             [
              0.2222222222222222,
              "#7201a8"
             ],
             [
              0.3333333333333333,
              "#9c179e"
             ],
             [
              0.4444444444444444,
              "#bd3786"
             ],
             [
              0.5555555555555556,
              "#d8576b"
             ],
             [
              0.6666666666666666,
              "#ed7953"
             ],
             [
              0.7777777777777778,
              "#fb9f3a"
             ],
             [
              0.8888888888888888,
              "#fdca26"
             ],
             [
              1,
              "#f0f921"
             ]
            ],
            "type": "surface"
           }
          ],
          "table": [
           {
            "cells": {
             "fill": {
              "color": "#EBF0F8"
             },
             "line": {
              "color": "white"
             }
            },
            "header": {
             "fill": {
              "color": "#C8D4E3"
             },
             "line": {
              "color": "white"
             }
            },
            "type": "table"
           }
          ]
         },
         "layout": {
          "annotationdefaults": {
           "arrowcolor": "#2a3f5f",
           "arrowhead": 0,
           "arrowwidth": 1
          },
          "autotypenumbers": "strict",
          "coloraxis": {
           "colorbar": {
            "outlinewidth": 0,
            "ticks": ""
           }
          },
          "colorscale": {
           "diverging": [
            [
             0,
             "#8e0152"
            ],
            [
             0.1,
             "#c51b7d"
            ],
            [
             0.2,
             "#de77ae"
            ],
            [
             0.3,
             "#f1b6da"
            ],
            [
             0.4,
             "#fde0ef"
            ],
            [
             0.5,
             "#f7f7f7"
            ],
            [
             0.6,
             "#e6f5d0"
            ],
            [
             0.7,
             "#b8e186"
            ],
            [
             0.8,
             "#7fbc41"
            ],
            [
             0.9,
             "#4d9221"
            ],
            [
             1,
             "#276419"
            ]
           ],
           "sequential": [
            [
             0,
             "#0d0887"
            ],
            [
             0.1111111111111111,
             "#46039f"
            ],
            [
             0.2222222222222222,
             "#7201a8"
            ],
            [
             0.3333333333333333,
             "#9c179e"
            ],
            [
             0.4444444444444444,
             "#bd3786"
            ],
            [
             0.5555555555555556,
             "#d8576b"
            ],
            [
             0.6666666666666666,
             "#ed7953"
            ],
            [
             0.7777777777777778,
             "#fb9f3a"
            ],
            [
             0.8888888888888888,
             "#fdca26"
            ],
            [
             1,
             "#f0f921"
            ]
           ],
           "sequentialminus": [
            [
             0,
             "#0d0887"
            ],
            [
             0.1111111111111111,
             "#46039f"
            ],
            [
             0.2222222222222222,
             "#7201a8"
            ],
            [
             0.3333333333333333,
             "#9c179e"
            ],
            [
             0.4444444444444444,
             "#bd3786"
            ],
            [
             0.5555555555555556,
             "#d8576b"
            ],
            [
             0.6666666666666666,
             "#ed7953"
            ],
            [
             0.7777777777777778,
             "#fb9f3a"
            ],
            [
             0.8888888888888888,
             "#fdca26"
            ],
            [
             1,
             "#f0f921"
            ]
           ]
          },
          "colorway": [
           "#636efa",
           "#EF553B",
           "#00cc96",
           "#ab63fa",
           "#FFA15A",
           "#19d3f3",
           "#FF6692",
           "#B6E880",
           "#FF97FF",
           "#FECB52"
          ],
          "font": {
           "color": "#2a3f5f"
          },
          "geo": {
           "bgcolor": "white",
           "lakecolor": "white",
           "landcolor": "#E5ECF6",
           "showlakes": true,
           "showland": true,
           "subunitcolor": "white"
          },
          "hoverlabel": {
           "align": "left"
          },
          "hovermode": "closest",
          "mapbox": {
           "style": "light"
          },
          "paper_bgcolor": "white",
          "plot_bgcolor": "#E5ECF6",
          "polar": {
           "angularaxis": {
            "gridcolor": "white",
            "linecolor": "white",
            "ticks": ""
           },
           "bgcolor": "#E5ECF6",
           "radialaxis": {
            "gridcolor": "white",
            "linecolor": "white",
            "ticks": ""
           }
          },
          "scene": {
           "xaxis": {
            "backgroundcolor": "#E5ECF6",
            "gridcolor": "white",
            "gridwidth": 2,
            "linecolor": "white",
            "showbackground": true,
            "ticks": "",
            "zerolinecolor": "white"
           },
           "yaxis": {
            "backgroundcolor": "#E5ECF6",
            "gridcolor": "white",
            "gridwidth": 2,
            "linecolor": "white",
            "showbackground": true,
            "ticks": "",
            "zerolinecolor": "white"
           },
           "zaxis": {
            "backgroundcolor": "#E5ECF6",
            "gridcolor": "white",
            "gridwidth": 2,
            "linecolor": "white",
            "showbackground": true,
            "ticks": "",
            "zerolinecolor": "white"
           }
          },
          "shapedefaults": {
           "line": {
            "color": "#2a3f5f"
           }
          },
          "ternary": {
           "aaxis": {
            "gridcolor": "white",
            "linecolor": "white",
            "ticks": ""
           },
           "baxis": {
            "gridcolor": "white",
            "linecolor": "white",
            "ticks": ""
           },
           "bgcolor": "#E5ECF6",
           "caxis": {
            "gridcolor": "white",
            "linecolor": "white",
            "ticks": ""
           }
          },
          "title": {
           "x": 0.05
          },
          "xaxis": {
           "automargin": true,
           "gridcolor": "white",
           "linecolor": "white",
           "ticks": "",
           "title": {
            "standoff": 15
           },
           "zerolinecolor": "white",
           "zerolinewidth": 2
          },
          "yaxis": {
           "automargin": true,
           "gridcolor": "white",
           "linecolor": "white",
           "ticks": "",
           "title": {
            "standoff": 15
           },
           "zerolinecolor": "white",
           "zerolinewidth": 2
          }
         }
        },
        "title": {
         "text": "Total Hired Employees by Role Over Time (with Mean)"
        },
        "xaxis": {
         "anchor": "y",
         "domain": [
          0,
          1
         ],
         "title": {
          "text": "Date"
         }
        },
        "yaxis": {
         "anchor": "x",
         "domain": [
          0,
          1
         ],
         "title": {
          "text": "Number of Employees"
         }
        }
       }
      }
     },
     "metadata": {},
     "output_type": "display_data"
    }
   ],
   "source": [
    "\n",
    "\n",
    "\n",
    "# --- Plot 1: Total Hired Employees by Role with Mean Lines ---\n",
    "\n",
    "# Make sure 'Date' is a column for plotting, if it's the index, reset it.\n",
    "plot_df = simulation_df.reset_index()\n",
    "\n",
    "# Select the columns that represent the total hired staff for each role\n",
    "hired_total_columns = [col for col in plot_df.columns if 'Hired (Total)' in col]\n",
    "\n",
    "# Get the default color sequence used by Plotly Express\n",
    "colors = px.colors.qualitative.Plotly\n",
    "\n",
    "# Create the base line plot\n",
    "fig_employees = px.line(\n",
    "    plot_df,\n",
    "    x='Date',\n",
    "    y=hired_total_columns,\n",
    "    title='Total Hired Employees by Role Over Time (with Mean)',\n",
    "    labels={'value': 'Number of Employees', 'variable': 'Employee Role'}\n",
    ")\n",
    "\n",
    "# --- NEW: Add a dashed mean line for each role ---\n",
    "for i, col in enumerate(hired_total_columns):\n",
    "    # Calculate the mean for the current role\n",
    "    mean_value = plot_df[col].mean()\n",
    "    \n",
    "    # Get the corresponding color for the current trace\n",
    "    line_color = colors[i % len(colors)]\n",
    "    \n",
    "    # Add a horizontal dashed line for the mean\n",
    "    fig_employees.add_shape(\n",
    "        type=\"line\",\n",
    "        x0=plot_df['Date'].min(),\n",
    "        y0=mean_value,\n",
    "        x1=plot_df['Date'].max(),\n",
    "        y1=mean_value,\n",
    "        line=dict(\n",
    "            color=line_color,\n",
    "            width=2,\n",
    "            dash=\"dash\",\n",
    "        )\n",
    "    )\n",
    "    \n",
    "    # Add an annotation to label the mean line\n",
    "    fig_employees.add_annotation(\n",
    "        x=plot_df['Date'].max(),\n",
    "        y=mean_value,\n",
    "        text=f\"Mean: {mean_value:.1f}\",\n",
    "        showarrow=False,\n",
    "        xshift=40, # Shift text to the right of the line\n",
    "        font=dict(\n",
    "            color=line_color\n",
    "        )\n",
    "    )\n",
    "\n",
    "\n",
    "# Update the legend to show clean role names\n",
    "fig_employees.for_each_trace(lambda t: t.update(name = t.name.replace(\" Hired (Total)\", \"\")))\n",
    "\n",
    "# Show the plot\n",
    "fig_employees.show()"
   ]
  },
  {
   "cell_type": "code",
   "execution_count": 4,
   "id": "19ec77f2",
   "metadata": {},
   "outputs": [
    {
     "data": {
      "application/vnd.plotly.v1+json": {
       "config": {
        "plotlyServerURL": "https://plot.ly"
       },
       "data": [
        {
         "hovertemplate": "Project Type=PA Small<br>Date=%{x}<br>Number of Active Projects=%{y}<extra></extra>",
         "legendgroup": "PA Small",
         "marker": {
          "color": "#636efa",
          "pattern": {
           "shape": ""
          }
         },
         "name": "PA Small",
         "orientation": "v",
         "showlegend": true,
         "textposition": "auto",
         "type": "bar",
         "x": [
          "2026-01-01T00:00:00.000000000",
          "2026-02-01T00:00:00.000000000",
          "2026-03-01T00:00:00.000000000",
          "2026-04-01T00:00:00.000000000",
          "2026-05-01T00:00:00.000000000",
          "2026-06-01T00:00:00.000000000",
          "2026-07-01T00:00:00.000000000",
          "2026-08-01T00:00:00.000000000",
          "2026-09-01T00:00:00.000000000",
          "2026-10-01T00:00:00.000000000",
          "2026-11-01T00:00:00.000000000",
          "2026-12-01T00:00:00.000000000",
          "2027-01-01T00:00:00.000000000",
          "2027-02-01T00:00:00.000000000",
          "2027-03-01T00:00:00.000000000",
          "2027-04-01T00:00:00.000000000",
          "2027-05-01T00:00:00.000000000",
          "2027-06-01T00:00:00.000000000",
          "2027-07-01T00:00:00.000000000",
          "2027-08-01T00:00:00.000000000",
          "2027-09-01T00:00:00.000000000",
          "2027-10-01T00:00:00.000000000",
          "2027-11-01T00:00:00.000000000",
          "2027-12-01T00:00:00.000000000"
         ],
         "xaxis": "x",
         "y": {
          "bdata": "AwYJCQkJCQkJCQkJCAcGBgYGBgYGBQQD",
          "dtype": "i1"
         },
         "yaxis": "y"
        },
        {
         "hovertemplate": "Project Type=PA Medium<br>Date=%{x}<br>Number of Active Projects=%{y}<extra></extra>",
         "legendgroup": "PA Medium",
         "marker": {
          "color": "#EF553B",
          "pattern": {
           "shape": ""
          }
         },
         "name": "PA Medium",
         "orientation": "v",
         "showlegend": true,
         "textposition": "auto",
         "type": "bar",
         "x": [
          "2026-01-01T00:00:00.000000000",
          "2026-02-01T00:00:00.000000000",
          "2026-03-01T00:00:00.000000000",
          "2026-04-01T00:00:00.000000000",
          "2026-05-01T00:00:00.000000000",
          "2026-06-01T00:00:00.000000000",
          "2026-07-01T00:00:00.000000000",
          "2026-08-01T00:00:00.000000000",
          "2026-09-01T00:00:00.000000000",
          "2026-10-01T00:00:00.000000000",
          "2026-11-01T00:00:00.000000000",
          "2026-12-01T00:00:00.000000000",
          "2027-01-01T00:00:00.000000000",
          "2027-02-01T00:00:00.000000000",
          "2027-03-01T00:00:00.000000000",
          "2027-04-01T00:00:00.000000000",
          "2027-05-01T00:00:00.000000000",
          "2027-06-01T00:00:00.000000000",
          "2027-07-01T00:00:00.000000000",
          "2027-08-01T00:00:00.000000000",
          "2027-09-01T00:00:00.000000000",
          "2027-10-01T00:00:00.000000000",
          "2027-11-01T00:00:00.000000000",
          "2027-12-01T00:00:00.000000000"
         ],
         "xaxis": "x",
         "y": {
          "bdata": "BgwSGB4kJCQkJCQkIiAeHBoYFxYVFBMS",
          "dtype": "i1"
         },
         "yaxis": "y"
        },
        {
         "hovertemplate": "Project Type=PA Large<br>Date=%{x}<br>Number of Active Projects=%{y}<extra></extra>",
         "legendgroup": "PA Large",
         "marker": {
          "color": "#00cc96",
          "pattern": {
           "shape": ""
          }
         },
         "name": "PA Large",
         "orientation": "v",
         "showlegend": true,
         "textposition": "auto",
         "type": "bar",
         "x": [
          "2026-01-01T00:00:00.000000000",
          "2026-02-01T00:00:00.000000000",
          "2026-03-01T00:00:00.000000000",
          "2026-04-01T00:00:00.000000000",
          "2026-05-01T00:00:00.000000000",
          "2026-06-01T00:00:00.000000000",
          "2026-07-01T00:00:00.000000000",
          "2026-08-01T00:00:00.000000000",
          "2026-09-01T00:00:00.000000000",
          "2026-10-01T00:00:00.000000000",
          "2026-11-01T00:00:00.000000000",
          "2026-12-01T00:00:00.000000000",
          "2027-01-01T00:00:00.000000000",
          "2027-02-01T00:00:00.000000000",
          "2027-03-01T00:00:00.000000000",
          "2027-04-01T00:00:00.000000000",
          "2027-05-01T00:00:00.000000000",
          "2027-06-01T00:00:00.000000000",
          "2027-07-01T00:00:00.000000000",
          "2027-08-01T00:00:00.000000000",
          "2027-09-01T00:00:00.000000000",
          "2027-10-01T00:00:00.000000000",
          "2027-11-01T00:00:00.000000000",
          "2027-12-01T00:00:00.000000000"
         ],
         "xaxis": "x",
         "y": {
          "bdata": "AgQGCAkKCwwLCgkICAgICAgICAgIBwYF",
          "dtype": "i1"
         },
         "yaxis": "y"
        },
        {
         "hovertemplate": "Project Type=AW Small<br>Date=%{x}<br>Number of Active Projects=%{y}<extra></extra>",
         "legendgroup": "AW Small",
         "marker": {
          "color": "#ab63fa",
          "pattern": {
           "shape": ""
          }
         },
         "name": "AW Small",
         "orientation": "v",
         "showlegend": true,
         "textposition": "auto",
         "type": "bar",
         "x": [
          "2026-01-01T00:00:00.000000000",
          "2026-02-01T00:00:00.000000000",
          "2026-03-01T00:00:00.000000000",
          "2026-04-01T00:00:00.000000000",
          "2026-05-01T00:00:00.000000000",
          "2026-06-01T00:00:00.000000000",
          "2026-07-01T00:00:00.000000000",
          "2026-08-01T00:00:00.000000000",
          "2026-09-01T00:00:00.000000000",
          "2026-10-01T00:00:00.000000000",
          "2026-11-01T00:00:00.000000000",
          "2026-12-01T00:00:00.000000000",
          "2027-01-01T00:00:00.000000000",
          "2027-02-01T00:00:00.000000000",
          "2027-03-01T00:00:00.000000000",
          "2027-04-01T00:00:00.000000000",
          "2027-05-01T00:00:00.000000000",
          "2027-06-01T00:00:00.000000000",
          "2027-07-01T00:00:00.000000000",
          "2027-08-01T00:00:00.000000000",
          "2027-09-01T00:00:00.000000000",
          "2027-10-01T00:00:00.000000000",
          "2027-11-01T00:00:00.000000000",
          "2027-12-01T00:00:00.000000000"
         ],
         "xaxis": "x",
         "y": {
          "bdata": "AQIDBAUFBQUFBQUEBAQEBAUGBwcHBwcG",
          "dtype": "i1"
         },
         "yaxis": "y"
        },
        {
         "hovertemplate": "Project Type=AW Medium<br>Date=%{x}<br>Number of Active Projects=%{y}<extra></extra>",
         "legendgroup": "AW Medium",
         "marker": {
          "color": "#FFA15A",
          "pattern": {
           "shape": ""
          }
         },
         "name": "AW Medium",
         "orientation": "v",
         "showlegend": true,
         "textposition": "auto",
         "type": "bar",
         "x": [
          "2026-01-01T00:00:00.000000000",
          "2026-02-01T00:00:00.000000000",
          "2026-03-01T00:00:00.000000000",
          "2026-04-01T00:00:00.000000000",
          "2026-05-01T00:00:00.000000000",
          "2026-06-01T00:00:00.000000000",
          "2026-07-01T00:00:00.000000000",
          "2026-08-01T00:00:00.000000000",
          "2026-09-01T00:00:00.000000000",
          "2026-10-01T00:00:00.000000000",
          "2026-11-01T00:00:00.000000000",
          "2026-12-01T00:00:00.000000000",
          "2027-01-01T00:00:00.000000000",
          "2027-02-01T00:00:00.000000000",
          "2027-03-01T00:00:00.000000000",
          "2027-04-01T00:00:00.000000000",
          "2027-05-01T00:00:00.000000000",
          "2027-06-01T00:00:00.000000000",
          "2027-07-01T00:00:00.000000000",
          "2027-08-01T00:00:00.000000000",
          "2027-09-01T00:00:00.000000000",
          "2027-10-01T00:00:00.000000000",
          "2027-11-01T00:00:00.000000000",
          "2027-12-01T00:00:00.000000000"
         ],
         "xaxis": "x",
         "y": {
          "bdata": "AQICAgICAgICAgICAwMDAwMDAwMCAQEB",
          "dtype": "i1"
         },
         "yaxis": "y"
        },
        {
         "hovertemplate": "Project Type=AW Large<br>Date=%{x}<br>Number of Active Projects=%{y}<extra></extra>",
         "legendgroup": "AW Large",
         "marker": {
          "color": "#19d3f3",
          "pattern": {
           "shape": ""
          }
         },
         "name": "AW Large",
         "orientation": "v",
         "showlegend": true,
         "textposition": "auto",
         "type": "bar",
         "x": [
          "2026-01-01T00:00:00.000000000",
          "2026-02-01T00:00:00.000000000",
          "2026-03-01T00:00:00.000000000",
          "2026-04-01T00:00:00.000000000",
          "2026-05-01T00:00:00.000000000",
          "2026-06-01T00:00:00.000000000",
          "2026-07-01T00:00:00.000000000",
          "2026-08-01T00:00:00.000000000",
          "2026-09-01T00:00:00.000000000",
          "2026-10-01T00:00:00.000000000",
          "2026-11-01T00:00:00.000000000",
          "2026-12-01T00:00:00.000000000",
          "2027-01-01T00:00:00.000000000",
          "2027-02-01T00:00:00.000000000",
          "2027-03-01T00:00:00.000000000",
          "2027-04-01T00:00:00.000000000",
          "2027-05-01T00:00:00.000000000",
          "2027-06-01T00:00:00.000000000",
          "2027-07-01T00:00:00.000000000",
          "2027-08-01T00:00:00.000000000",
          "2027-09-01T00:00:00.000000000",
          "2027-10-01T00:00:00.000000000",
          "2027-11-01T00:00:00.000000000",
          "2027-12-01T00:00:00.000000000"
         ],
         "xaxis": "x",
         "y": {
          "bdata": "AQIDBAUGBwgJCgsMExohKC82PURLUVdd",
          "dtype": "i1"
         },
         "yaxis": "y"
        }
       ],
       "layout": {
        "barmode": "relative",
        "legend": {
         "title": {
          "text": "Project Type"
         },
         "tracegroupgap": 0
        },
        "template": {
         "data": {
          "bar": [
           {
            "error_x": {
             "color": "#2a3f5f"
            },
            "error_y": {
             "color": "#2a3f5f"
            },
            "marker": {
             "line": {
              "color": "#E5ECF6",
              "width": 0.5
             },
             "pattern": {
              "fillmode": "overlay",
              "size": 10,
              "solidity": 0.2
             }
            },
            "type": "bar"
           }
          ],
          "barpolar": [
           {
            "marker": {
             "line": {
              "color": "#E5ECF6",
              "width": 0.5
             },
             "pattern": {
              "fillmode": "overlay",
              "size": 10,
              "solidity": 0.2
             }
            },
            "type": "barpolar"
           }
          ],
          "carpet": [
           {
            "aaxis": {
             "endlinecolor": "#2a3f5f",
             "gridcolor": "white",
             "linecolor": "white",
             "minorgridcolor": "white",
             "startlinecolor": "#2a3f5f"
            },
            "baxis": {
             "endlinecolor": "#2a3f5f",
             "gridcolor": "white",
             "linecolor": "white",
             "minorgridcolor": "white",
             "startlinecolor": "#2a3f5f"
            },
            "type": "carpet"
           }
          ],
          "choropleth": [
           {
            "colorbar": {
             "outlinewidth": 0,
             "ticks": ""
            },
            "type": "choropleth"
           }
          ],
          "contour": [
           {
            "colorbar": {
             "outlinewidth": 0,
             "ticks": ""
            },
            "colorscale": [
             [
              0,
              "#0d0887"
             ],
             [
              0.1111111111111111,
              "#46039f"
             ],
             [
              0.2222222222222222,
              "#7201a8"
             ],
             [
              0.3333333333333333,
              "#9c179e"
             ],
             [
              0.4444444444444444,
              "#bd3786"
             ],
             [
              0.5555555555555556,
              "#d8576b"
             ],
             [
              0.6666666666666666,
              "#ed7953"
             ],
             [
              0.7777777777777778,
              "#fb9f3a"
             ],
             [
              0.8888888888888888,
              "#fdca26"
             ],
             [
              1,
              "#f0f921"
             ]
            ],
            "type": "contour"
           }
          ],
          "contourcarpet": [
           {
            "colorbar": {
             "outlinewidth": 0,
             "ticks": ""
            },
            "type": "contourcarpet"
           }
          ],
          "heatmap": [
           {
            "colorbar": {
             "outlinewidth": 0,
             "ticks": ""
            },
            "colorscale": [
             [
              0,
              "#0d0887"
             ],
             [
              0.1111111111111111,
              "#46039f"
             ],
             [
              0.2222222222222222,
              "#7201a8"
             ],
             [
              0.3333333333333333,
              "#9c179e"
             ],
             [
              0.4444444444444444,
              "#bd3786"
             ],
             [
              0.5555555555555556,
              "#d8576b"
             ],
             [
              0.6666666666666666,
              "#ed7953"
             ],
             [
              0.7777777777777778,
              "#fb9f3a"
             ],
             [
              0.8888888888888888,
              "#fdca26"
             ],
             [
              1,
              "#f0f921"
             ]
            ],
            "type": "heatmap"
           }
          ],
          "histogram": [
           {
            "marker": {
             "pattern": {
              "fillmode": "overlay",
              "size": 10,
              "solidity": 0.2
             }
            },
            "type": "histogram"
           }
          ],
          "histogram2d": [
           {
            "colorbar": {
             "outlinewidth": 0,
             "ticks": ""
            },
            "colorscale": [
             [
              0,
              "#0d0887"
             ],
             [
              0.1111111111111111,
              "#46039f"
             ],
             [
              0.2222222222222222,
              "#7201a8"
             ],
             [
              0.3333333333333333,
              "#9c179e"
             ],
             [
              0.4444444444444444,
              "#bd3786"
             ],
             [
              0.5555555555555556,
              "#d8576b"
             ],
             [
              0.6666666666666666,
              "#ed7953"
             ],
             [
              0.7777777777777778,
              "#fb9f3a"
             ],
             [
              0.8888888888888888,
              "#fdca26"
             ],
             [
              1,
              "#f0f921"
             ]
            ],
            "type": "histogram2d"
           }
          ],
          "histogram2dcontour": [
           {
            "colorbar": {
             "outlinewidth": 0,
             "ticks": ""
            },
            "colorscale": [
             [
              0,
              "#0d0887"
             ],
             [
              0.1111111111111111,
              "#46039f"
             ],
             [
              0.2222222222222222,
              "#7201a8"
             ],
             [
              0.3333333333333333,
              "#9c179e"
             ],
             [
              0.4444444444444444,
              "#bd3786"
             ],
             [
              0.5555555555555556,
              "#d8576b"
             ],
             [
              0.6666666666666666,
              "#ed7953"
             ],
             [
              0.7777777777777778,
              "#fb9f3a"
             ],
             [
              0.8888888888888888,
              "#fdca26"
             ],
             [
              1,
              "#f0f921"
             ]
            ],
            "type": "histogram2dcontour"
           }
          ],
          "mesh3d": [
           {
            "colorbar": {
             "outlinewidth": 0,
             "ticks": ""
            },
            "type": "mesh3d"
           }
          ],
          "parcoords": [
           {
            "line": {
             "colorbar": {
              "outlinewidth": 0,
              "ticks": ""
             }
            },
            "type": "parcoords"
           }
          ],
          "pie": [
           {
            "automargin": true,
            "type": "pie"
           }
          ],
          "scatter": [
           {
            "fillpattern": {
             "fillmode": "overlay",
             "size": 10,
             "solidity": 0.2
            },
            "type": "scatter"
           }
          ],
          "scatter3d": [
           {
            "line": {
             "colorbar": {
              "outlinewidth": 0,
              "ticks": ""
             }
            },
            "marker": {
             "colorbar": {
              "outlinewidth": 0,
              "ticks": ""
             }
            },
            "type": "scatter3d"
           }
          ],
          "scattercarpet": [
           {
            "marker": {
             "colorbar": {
              "outlinewidth": 0,
              "ticks": ""
             }
            },
            "type": "scattercarpet"
           }
          ],
          "scattergeo": [
           {
            "marker": {
             "colorbar": {
              "outlinewidth": 0,
              "ticks": ""
             }
            },
            "type": "scattergeo"
           }
          ],
          "scattergl": [
           {
            "marker": {
             "colorbar": {
              "outlinewidth": 0,
              "ticks": ""
             }
            },
            "type": "scattergl"
           }
          ],
          "scattermap": [
           {
            "marker": {
             "colorbar": {
              "outlinewidth": 0,
              "ticks": ""
             }
            },
            "type": "scattermap"
           }
          ],
          "scattermapbox": [
           {
            "marker": {
             "colorbar": {
              "outlinewidth": 0,
              "ticks": ""
             }
            },
            "type": "scattermapbox"
           }
          ],
          "scatterpolar": [
           {
            "marker": {
             "colorbar": {
              "outlinewidth": 0,
              "ticks": ""
             }
            },
            "type": "scatterpolar"
           }
          ],
          "scatterpolargl": [
           {
            "marker": {
             "colorbar": {
              "outlinewidth": 0,
              "ticks": ""
             }
            },
            "type": "scatterpolargl"
           }
          ],
          "scatterternary": [
           {
            "marker": {
             "colorbar": {
              "outlinewidth": 0,
              "ticks": ""
             }
            },
            "type": "scatterternary"
           }
          ],
          "surface": [
           {
            "colorbar": {
             "outlinewidth": 0,
             "ticks": ""
            },
            "colorscale": [
             [
              0,
              "#0d0887"
             ],
             [
              0.1111111111111111,
              "#46039f"
             ],
             [
              0.2222222222222222,
              "#7201a8"
             ],
             [
              0.3333333333333333,
              "#9c179e"
             ],
             [
              0.4444444444444444,
              "#bd3786"
             ],
             [
              0.5555555555555556,
              "#d8576b"
             ],
             [
              0.6666666666666666,
              "#ed7953"
             ],
             [
              0.7777777777777778,
              "#fb9f3a"
             ],
             [
              0.8888888888888888,
              "#fdca26"
             ],
             [
              1,
              "#f0f921"
             ]
            ],
            "type": "surface"
           }
          ],
          "table": [
           {
            "cells": {
             "fill": {
              "color": "#EBF0F8"
             },
             "line": {
              "color": "white"
             }
            },
            "header": {
             "fill": {
              "color": "#C8D4E3"
             },
             "line": {
              "color": "white"
             }
            },
            "type": "table"
           }
          ]
         },
         "layout": {
          "annotationdefaults": {
           "arrowcolor": "#2a3f5f",
           "arrowhead": 0,
           "arrowwidth": 1
          },
          "autotypenumbers": "strict",
          "coloraxis": {
           "colorbar": {
            "outlinewidth": 0,
            "ticks": ""
           }
          },
          "colorscale": {
           "diverging": [
            [
             0,
             "#8e0152"
            ],
            [
             0.1,
             "#c51b7d"
            ],
            [
             0.2,
             "#de77ae"
            ],
            [
             0.3,
             "#f1b6da"
            ],
            [
             0.4,
             "#fde0ef"
            ],
            [
             0.5,
             "#f7f7f7"
            ],
            [
             0.6,
             "#e6f5d0"
            ],
            [
             0.7,
             "#b8e186"
            ],
            [
             0.8,
             "#7fbc41"
            ],
            [
             0.9,
             "#4d9221"
            ],
            [
             1,
             "#276419"
            ]
           ],
           "sequential": [
            [
             0,
             "#0d0887"
            ],
            [
             0.1111111111111111,
             "#46039f"
            ],
            [
             0.2222222222222222,
             "#7201a8"
            ],
            [
             0.3333333333333333,
             "#9c179e"
            ],
            [
             0.4444444444444444,
             "#bd3786"
            ],
            [
             0.5555555555555556,
             "#d8576b"
            ],
            [
             0.6666666666666666,
             "#ed7953"
            ],
            [
             0.7777777777777778,
             "#fb9f3a"
            ],
            [
             0.8888888888888888,
             "#fdca26"
            ],
            [
             1,
             "#f0f921"
            ]
           ],
           "sequentialminus": [
            [
             0,
             "#0d0887"
            ],
            [
             0.1111111111111111,
             "#46039f"
            ],
            [
             0.2222222222222222,
             "#7201a8"
            ],
            [
             0.3333333333333333,
             "#9c179e"
            ],
            [
             0.4444444444444444,
             "#bd3786"
            ],
            [
             0.5555555555555556,
             "#d8576b"
            ],
            [
             0.6666666666666666,
             "#ed7953"
            ],
            [
             0.7777777777777778,
             "#fb9f3a"
            ],
            [
             0.8888888888888888,
             "#fdca26"
            ],
            [
             1,
             "#f0f921"
            ]
           ]
          },
          "colorway": [
           "#636efa",
           "#EF553B",
           "#00cc96",
           "#ab63fa",
           "#FFA15A",
           "#19d3f3",
           "#FF6692",
           "#B6E880",
           "#FF97FF",
           "#FECB52"
          ],
          "font": {
           "color": "#2a3f5f"
          },
          "geo": {
           "bgcolor": "white",
           "lakecolor": "white",
           "landcolor": "#E5ECF6",
           "showlakes": true,
           "showland": true,
           "subunitcolor": "white"
          },
          "hoverlabel": {
           "align": "left"
          },
          "hovermode": "closest",
          "mapbox": {
           "style": "light"
          },
          "paper_bgcolor": "white",
          "plot_bgcolor": "#E5ECF6",
          "polar": {
           "angularaxis": {
            "gridcolor": "white",
            "linecolor": "white",
            "ticks": ""
           },
           "bgcolor": "#E5ECF6",
           "radialaxis": {
            "gridcolor": "white",
            "linecolor": "white",
            "ticks": ""
           }
          },
          "scene": {
           "xaxis": {
            "backgroundcolor": "#E5ECF6",
            "gridcolor": "white",
            "gridwidth": 2,
            "linecolor": "white",
            "showbackground": true,
            "ticks": "",
            "zerolinecolor": "white"
           },
           "yaxis": {
            "backgroundcolor": "#E5ECF6",
            "gridcolor": "white",
            "gridwidth": 2,
            "linecolor": "white",
            "showbackground": true,
            "ticks": "",
            "zerolinecolor": "white"
           },
           "zaxis": {
            "backgroundcolor": "#E5ECF6",
            "gridcolor": "white",
            "gridwidth": 2,
            "linecolor": "white",
            "showbackground": true,
            "ticks": "",
            "zerolinecolor": "white"
           }
          },
          "shapedefaults": {
           "line": {
            "color": "#2a3f5f"
           }
          },
          "ternary": {
           "aaxis": {
            "gridcolor": "white",
            "linecolor": "white",
            "ticks": ""
           },
           "baxis": {
            "gridcolor": "white",
            "linecolor": "white",
            "ticks": ""
           },
           "bgcolor": "#E5ECF6",
           "caxis": {
            "gridcolor": "white",
            "linecolor": "white",
            "ticks": ""
           }
          },
          "title": {
           "x": 0.05
          },
          "xaxis": {
           "automargin": true,
           "gridcolor": "white",
           "linecolor": "white",
           "ticks": "",
           "title": {
            "standoff": 15
           },
           "zerolinecolor": "white",
           "zerolinewidth": 2
          },
          "yaxis": {
           "automargin": true,
           "gridcolor": "white",
           "linecolor": "white",
           "ticks": "",
           "title": {
            "standoff": 15
           },
           "zerolinecolor": "white",
           "zerolinewidth": 2
          }
         }
        },
        "title": {
         "text": "Active Projects by Type and Scale Over Time"
        },
        "xaxis": {
         "anchor": "y",
         "domain": [
          0,
          1
         ],
         "title": {
          "text": "Date"
         }
        },
        "yaxis": {
         "anchor": "x",
         "domain": [
          0,
          1
         ],
         "title": {
          "text": "Number of Active Projects"
         }
        }
       }
      }
     },
     "metadata": {},
     "output_type": "display_data"
    }
   ],
   "source": [
    "\n",
    "# --- Plot 2: Active Projects by Type and Scale ---\n",
    "\n",
    "# Select the columns that represent the active project counts\n",
    "active_project_columns = [\n",
    "    \"PA Small\", \"PA Medium\", \"PA Large\",\n",
    "    \"AW Small\", \"AW Medium\", \"AW Large\"\n",
    "]\n",
    "\n",
    "# Create the stacked bar chart\n",
    "fig_projects = px.bar(\n",
    "    simulation_df,\n",
    "    x='Date',\n",
    "    y=active_project_columns,\n",
    "    title='Active Projects by Type and Scale Over Time',\n",
    "    labels={'value': 'Number of Active Projects', 'variable': 'Project Type'}\n",
    ")\n",
    "\n",
    "# Show the plot\n",
    "fig_projects.show()"
   ]
  }
 ],
 "metadata": {
  "kernelspec": {
   "display_name": ".venv",
   "language": "python",
   "name": "python3"
  },
  "language_info": {
   "codemirror_mode": {
    "name": "ipython",
    "version": 3
   },
   "file_extension": ".py",
   "mimetype": "text/x-python",
   "name": "python",
   "nbconvert_exporter": "python",
   "pygments_lexer": "ipython3",
   "version": "3.11.9"
  }
 },
 "nbformat": 4,
 "nbformat_minor": 5
}
