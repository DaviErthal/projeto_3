{
 "cells": [
  {
   "cell_type": "code",
   "execution_count": 83,
   "id": "6658dcaa",
   "metadata": {},
   "outputs": [
    {
     "name": "stdout",
     "output_type": "stream",
     "text": [
      "--- Starting Workforce Simulation ---\n",
      "Simulating for 24 months.\n",
      "Conversion Rate: 0%\n",
      "\n",
      "--- Simulation Complete. DataFrame generated. ---\n",
      "\n",
      "--- Simulation Results DataFrame ---\n",
      "         Date  Converted Projects  PA Small  PA Medium  PA Large  AW Small  \\\n",
      "0  2026-01-01                   0         4          6         1         4   \n",
      "1  2026-02-01                   0         8         12         2         8   \n",
      "2  2026-03-01                   0        12         18         3        12   \n",
      "3  2026-04-01                   0        12         24         4        16   \n",
      "4  2026-05-01                   0        12         29         5        20   \n",
      "5  2026-06-01                   0        12         34         6        24   \n",
      "6  2026-07-01                   0        12         33         7        28   \n",
      "7  2026-08-01                   0        12         32         8        32   \n",
      "8  2026-09-01                   0        11         31         8        35   \n",
      "9  2026-10-01                   0        10         30         8        38   \n",
      "10 2026-11-01                   0         9         30         8        41   \n",
      "11 2026-12-01                   0         9         30         8        40   \n",
      "\n",
      "    AW Medium  AW Large  Analyst Hired (Small)  Analyst Hired (Medium)  ...  \\\n",
      "0           1         1                      1                       1  ...   \n",
      "1           2         2                      1                       1  ...   \n",
      "2           3         3                      1                       2  ...   \n",
      "3           4         4                      1                       2  ...   \n",
      "4           5         5                      1                       3  ...   \n",
      "5           5         6                      1                       3  ...   \n",
      "6           5         7                      1                       3  ...   \n",
      "7           5         8                      1                       3  ...   \n",
      "8           5         9                      1                       3  ...   \n",
      "9           5        10                      1                       3  ...   \n",
      "10          5        10                      1                       3  ...   \n",
      "11          5        10                      1                       3  ...   \n",
      "\n",
      "    Tax Engineer Hired (Large)  Tax Engineer Hired (Total)  \\\n",
      "0                            1                           3   \n",
      "1                            1                           3   \n",
      "2                            1                           3   \n",
      "3                            2                           5   \n",
      "4                            2                           5   \n",
      "5                            2                           5   \n",
      "6                            3                           7   \n",
      "7                            3                           7   \n",
      "8                            3                           7   \n",
      "9                            4                           9   \n",
      "10                           4                           9   \n",
      "11                           4                           9   \n",
      "\n",
      "    Tax Technical Hired (Small)  Tax Technical Hired (Medium)  \\\n",
      "0                             1                             1   \n",
      "1                             2                             1   \n",
      "2                             3                             1   \n",
      "3                             4                             1   \n",
      "4                             5                             1   \n",
      "5                             5                             1   \n",
      "6                             6                             1   \n",
      "7                             7                             1   \n",
      "8                             8                             1   \n",
      "9                             8                             1   \n",
      "10                            9                             1   \n",
      "11                            9                             1   \n",
      "\n",
      "    Tax Technical Hired (Large)  Tax Technical Hired (Total)  \\\n",
      "0                             1                            3   \n",
      "1                             2                            5   \n",
      "2                             3                            7   \n",
      "3                             4                            9   \n",
      "4                             5                           11   \n",
      "5                             6                           12   \n",
      "6                             7                           14   \n",
      "7                             8                           16   \n",
      "8                             9                           18   \n",
      "9                            10                           19   \n",
      "10                           10                           20   \n",
      "11                           10                           20   \n",
      "\n",
      "    Planning Engineer Hired (Small)  Planning Engineer Hired (Medium)  \\\n",
      "0                                 0                                 1   \n",
      "1                                 0                                 1   \n",
      "2                                 0                                 1   \n",
      "3                                 0                                 1   \n",
      "4                                 0                                 1   \n",
      "5                                 0                                 1   \n",
      "6                                 0                                 1   \n",
      "7                                 0                                 1   \n",
      "8                                 0                                 1   \n",
      "9                                 0                                 1   \n",
      "10                                0                                 1   \n",
      "11                                0                                 1   \n",
      "\n",
      "    Planning Engineer Hired (Large)  Planning Engineer Hired (Total)  \n",
      "0                                 1                                2  \n",
      "1                                 1                                2  \n",
      "2                                 1                                2  \n",
      "3                                 1                                2  \n",
      "4                                 1                                2  \n",
      "5                                 1                                2  \n",
      "6                                 2                                3  \n",
      "7                                 2                                3  \n",
      "8                                 2                                3  \n",
      "9                                 2                                3  \n",
      "10                                2                                3  \n",
      "11                                2                                3  \n",
      "\n",
      "[12 rows x 32 columns]\n"
     ]
    }
   ],
   "source": [
    "# workforce_simulator.py\n",
    "#\n",
    "# This script simulates workforce demand over time based on a pipeline of construction projects.\n",
    "# It uses predefined rules for project duration and staffing requirements to forecast\n",
    "# the number of employees needed for each role on a month-by-month basis.\n",
    "#\n",
    "# NEW: Fixed the bug where conversions always defaulted to the wrong scale.\n",
    "\n",
    "import math\n",
    "import random\n",
    "import pandas as pd\n",
    "from datetime import datetime\n",
    "\n",
    "# --- PHASE 1: DEFINING THE CORE RULES & COEFFICIENTS ---\n",
    "# These dictionaries store the business logic you provided.\n",
    "\n",
    "# Rule 1: Project Durations in months (Updated as per your request)\n",
    "PROJECT_DURATIONS = {\n",
    "    \"Pre-analysis\": { \"Small\": 3, \"Medium\": 6, \"Large\": 8 },\n",
    "    \"Actual Work\": { \"Small\": 11, \"Medium\": 20, \"Large\": 25 }\n",
    "}\n",
    "\n",
    "# Rule 2: Staffing Coefficients (Fraction of one employee required per project)\n",
    "STAFFING_COEFFICIENTS = {\n",
    "    \"Pre-analysis\": {\n",
    "        \"Analyst\": {\"Small\": 1/20, \"Medium\": 1/12, \"Large\": 1/6},\n",
    "        \"Technical\": {\"Small\": 1/20, \"Medium\": 1/12, \"Large\": 1/6},\n",
    "    },\n",
    "    \"Actual Work\": {\n",
    "        \"Project Manager\": {\"Small\": 0, \"Medium\": 1/6, \"Large\": 1/6},\n",
    "        \"Tax Engineer\": {\"Small\": 1/12, \"Medium\": 1/6, \"Large\": 1/3},\n",
    "        \"Tax Technical\": {\"Small\": 1/5, \"Medium\": 1/5, \"Large\": 1.0},\n",
    "        \"Planning Engineer\": {\"Small\": 0, \"Medium\": 1/12, \"Large\": 1/6},\n",
    "    }\n",
    "}\n",
    "\n",
    "# --- PHASE 2: PROJECT AND SIMULATION SETUP ---\n",
    "\n",
    "class Project:\n",
    "    \"\"\"A class to represent a single construction project and track its progress.\"\"\"\n",
    "    def __init__(self, id, p_type, p_scale, start_month):\n",
    "        self.id = id\n",
    "        self.p_type = p_type\n",
    "        self.p_scale = p_scale\n",
    "        self.start_month = start_month\n",
    "        self.duration = PROJECT_DURATIONS[p_type][p_scale]\n",
    "        self.end_month = start_month + self.duration - 1\n",
    "\n",
    "    def is_active_in_month(self, month):\n",
    "        return self.start_month <= month <= self.end_month\n",
    "\n",
    "    def get_staffing_needs(self):\n",
    "        return STAFFING_COEFFICIENTS.get(self.p_type, {})\n",
    "\n",
    "def run_simulation(all_years_pa_counts, all_years_aw_base_counts, conversion_rate, simulation_duration_months, start_date_str='2026-01-01'):\n",
    "    \"\"\"\n",
    "    Runs the main workforce simulation and returns a DataFrame with the results.\n",
    "    \"\"\"\n",
    "    print(\"--- Starting Workforce Simulation ---\")\n",
    "    print(f\"Simulating for {simulation_duration_months} months.\")\n",
    "    print(f\"Conversion Rate: {conversion_rate * 100}%\\n\")\n",
    "\n",
    "    project_pipeline = []\n",
    "    project_id_counter = 0\n",
    "    results_data = []\n",
    "    start_date = datetime.strptime(start_date_str, '%Y-%m-%d')\n",
    "\n",
    "    roles = [\"Analyst\", \"Technical\", \"Project Manager\", \"Tax Engineer\", \"Tax Technical\", \"Planning Engineer\"]\n",
    "    scales = [\"Small\", \"Medium\", \"Large\"]\n",
    "\n",
    "    # --- PHASE 3: MONTH-BY-MONTH CALCULATION & DYNAMIC GENERATION ---\n",
    "    for month in range(1, simulation_duration_months + 1):\n",
    "        \n",
    "        # --- Part A: Generate new projects for this month ---\n",
    "        current_year_index = (month - 1) // 12\n",
    "        if current_year_index < len(all_years_pa_counts):\n",
    "            yearly_pa_counts = all_years_pa_counts[current_year_index]\n",
    "            yearly_aw_base_counts = all_years_aw_base_counts[current_year_index]\n",
    "            month_within_year = (month - 1) % 12\n",
    "            \n",
    "            for p_scale, yearly_count in yearly_pa_counts.items():\n",
    "                num_to_add = yearly_count // 12 + (1 if month_within_year < yearly_count % 12 else 0)\n",
    "                for _ in range(num_to_add):\n",
    "                    project_id_counter += 1\n",
    "                    project_pipeline.append(Project(f\"PA_{p_scale}_{project_id_counter}\", \"Pre-analysis\", p_scale, month))\n",
    "\n",
    "            for p_scale, yearly_count in yearly_aw_base_counts.items():\n",
    "                num_to_add = yearly_count // 12 + (1 if month_within_year < yearly_count % 12 else 0)\n",
    "                for _ in range(num_to_add):\n",
    "                    project_id_counter += 1\n",
    "                    project_pipeline.append(Project(f\"AW-base_{p_scale}_{project_id_counter}\", \"Actual Work\", p_scale, month))\n",
    "\n",
    "        # --- Part B: Handle conversions ---\n",
    "        converted_this_month = 0\n",
    "        finished_pa_projects = [p for p in project_pipeline if p.p_type == \"Pre-analysis\" and p.end_month == month - 1]\n",
    "        for proj in finished_pa_projects:\n",
    "            if random.random() < conversion_rate:\n",
    "                converted_this_month += 1\n",
    "                project_id_counter += 1\n",
    "                # FIXED: Use the scale from the original project ('proj.p_scale')\n",
    "                # instead of the leftover variable from the loop above.\n",
    "                project_pipeline.append(Project(f\"AW-Conv_{proj.p_scale}_{project_id_counter}\", \"Actual Work\", proj.p_scale, month))\n",
    "\n",
    "        # --- Part C: Calculate staffing and active project counts ---\n",
    "        monthly_demand = {role: {\"Small\": 0, \"Medium\": 0, \"Large\": 0} for role in roles}\n",
    "        active_project_counts = {\"PA Small\": 0, \"PA Medium\": 0, \"PA Large\": 0, \"AW Small\": 0, \"AW Medium\": 0, \"AW Large\": 0}\n",
    "\n",
    "        for proj in project_pipeline:\n",
    "            if proj.is_active_in_month(month):\n",
    "                key = f\"{'PA' if proj.p_type == 'Pre-analysis' else 'AW'} {proj.p_scale}\"\n",
    "                active_project_counts[key] += 1\n",
    "                \n",
    "                project_needs = proj.get_staffing_needs()\n",
    "                for role, requirements_by_scale in project_needs.items():\n",
    "                    if proj.p_scale in requirements_by_scale:\n",
    "                        demand_value = requirements_by_scale[proj.p_scale]\n",
    "                        monthly_demand[role][proj.p_scale] += demand_value\n",
    "        \n",
    "        # --- Part D: Store results for this month ---\n",
    "        current_date = start_date + pd.DateOffset(months=month - 1)\n",
    "        month_data = { \"Date\": current_date.strftime('%Y-%m'), \"Converted Projects\": converted_this_month, **active_project_counts }\n",
    "\n",
    "        for role in roles:\n",
    "            total_hired_for_role = 0\n",
    "            for scale in scales:\n",
    "                demand = monthly_demand[role][scale]\n",
    "                hired_count = math.ceil(demand)\n",
    "                month_data[f\"{role} Hired ({scale})\"] = hired_count\n",
    "                total_hired_for_role += hired_count\n",
    "            month_data[f\"{role} Hired (Total)\"] = total_hired_for_role\n",
    "        \n",
    "        results_data.append(month_data)\n",
    "\n",
    "    # --- PHASE 4: CREATE AND RETURN DATAFRAME ---\n",
    "    results_df = pd.DataFrame(results_data)\n",
    "    \n",
    "    column_order = [\"Date\", \"Converted Projects\", \"PA Small\", \"PA Medium\", \"PA Large\", \"AW Small\", \"AW Medium\", \"AW Large\"]\n",
    "    for role in roles:\n",
    "        for scale in scales:\n",
    "            column_order.append(f\"{role} Hired ({scale})\")\n",
    "        column_order.append(f\"{role} Hired (Total)\")\n",
    "\n",
    "    results_df = results_df.reindex(columns=column_order, fill_value=0)\n",
    "    \n",
    "    results_df['Date'] = pd.to_datetime(results_df['Date'])\n",
    "    \n",
    "    for col in results_df.columns:\n",
    "        if 'Hired' in col or 'Projects' in col:\n",
    "            results_df[col] = results_df[col].astype(int)\n",
    "\n",
    "    print(\"--- Simulation Complete. DataFrame generated. ---\")\n",
    "    return results_df\n",
    "\n",
    "\n",
    "# --- EXAMPLE USAGE (for a .py file or a notebook cell) ---\n",
    "if __name__ == \"__main__\":\n",
    "    ALL_YEARS_PA_PROJECTS = [\n",
    "        {\"Small\": 44, \"Medium\": 64, \"Large\": 12},  # Year 1\n",
    "        {\"Small\": 26, \"Medium\": 38, \"Large\": 7}    # Year 2\n",
    "    ]\n",
    "    ALL_YEARS_AW_BASE_PROJECTS = [\n",
    "        {\"Small\": 44, \"Medium\": 5, \"Large\": 10},   # Year 1\n",
    "        {\"Small\": 20, \"Medium\": 3, \"Large\": 12}    # Year 2\n",
    "    ]\n",
    "    \n",
    "    CONVERSION_RATE = 0\n",
    "\n",
    "    # In your notebook, you would run this cell to get the DataFrame\n",
    "    simulation_df = run_simulation(\n",
    "        all_years_pa_counts=ALL_YEARS_PA_PROJECTS,\n",
    "        all_years_aw_base_counts=ALL_YEARS_AW_BASE_PROJECTS,\n",
    "        conversion_rate=CONVERSION_RATE,\n",
    "        simulation_duration_months=24,\n",
    "        start_date_str='2026-01-01' # You can change the start date here\n",
    "    )\n",
    "\n",
    "    # Now you can work with the DataFrame in subsequent cells.\n",
    "    # For example, display the first few rows:\n",
    "    print(\"\\n--- Simulation Results DataFrame ---\")\n",
    "    print(simulation_df.head(12))\n"
   ]
  },
  {
   "cell_type": "code",
   "execution_count": 65,
   "id": "0dad75b0",
   "metadata": {},
   "outputs": [
    {
     "data": {
      "text/html": [
       "<div>\n",
       "<style scoped>\n",
       "    .dataframe tbody tr th:only-of-type {\n",
       "        vertical-align: middle;\n",
       "    }\n",
       "\n",
       "    .dataframe tbody tr th {\n",
       "        vertical-align: top;\n",
       "    }\n",
       "\n",
       "    .dataframe thead th {\n",
       "        text-align: right;\n",
       "    }\n",
       "</style>\n",
       "<table border=\"1\" class=\"dataframe\">\n",
       "  <thead>\n",
       "    <tr style=\"text-align: right;\">\n",
       "      <th></th>\n",
       "      <th>Date</th>\n",
       "      <th>Converted Projects</th>\n",
       "      <th>PA Small</th>\n",
       "      <th>PA Medium</th>\n",
       "      <th>PA Large</th>\n",
       "      <th>AW Small</th>\n",
       "      <th>AW Medium</th>\n",
       "      <th>AW Large</th>\n",
       "      <th>Analyst Hired (Small)</th>\n",
       "      <th>Analyst Hired (Medium)</th>\n",
       "      <th>...</th>\n",
       "      <th>Tax Engineer Hired (Large)</th>\n",
       "      <th>Tax Engineer Hired (Total)</th>\n",
       "      <th>Tax Technical Hired (Small)</th>\n",
       "      <th>Tax Technical Hired (Medium)</th>\n",
       "      <th>Tax Technical Hired (Large)</th>\n",
       "      <th>Tax Technical Hired (Total)</th>\n",
       "      <th>Planning Engineer Hired (Small)</th>\n",
       "      <th>Planning Engineer Hired (Medium)</th>\n",
       "      <th>Planning Engineer Hired (Large)</th>\n",
       "      <th>Planning Engineer Hired (Total)</th>\n",
       "    </tr>\n",
       "  </thead>\n",
       "  <tbody>\n",
       "    <tr>\n",
       "      <th>0</th>\n",
       "      <td>2026-01-01</td>\n",
       "      <td>0</td>\n",
       "      <td>4</td>\n",
       "      <td>6</td>\n",
       "      <td>1</td>\n",
       "      <td>4</td>\n",
       "      <td>1</td>\n",
       "      <td>1</td>\n",
       "      <td>1</td>\n",
       "      <td>1</td>\n",
       "      <td>...</td>\n",
       "      <td>1</td>\n",
       "      <td>3</td>\n",
       "      <td>1</td>\n",
       "      <td>1</td>\n",
       "      <td>1</td>\n",
       "      <td>3</td>\n",
       "      <td>0</td>\n",
       "      <td>1</td>\n",
       "      <td>1</td>\n",
       "      <td>2</td>\n",
       "    </tr>\n",
       "    <tr>\n",
       "      <th>1</th>\n",
       "      <td>2026-02-01</td>\n",
       "      <td>0</td>\n",
       "      <td>8</td>\n",
       "      <td>12</td>\n",
       "      <td>2</td>\n",
       "      <td>8</td>\n",
       "      <td>2</td>\n",
       "      <td>2</td>\n",
       "      <td>1</td>\n",
       "      <td>1</td>\n",
       "      <td>...</td>\n",
       "      <td>1</td>\n",
       "      <td>3</td>\n",
       "      <td>2</td>\n",
       "      <td>1</td>\n",
       "      <td>2</td>\n",
       "      <td>5</td>\n",
       "      <td>0</td>\n",
       "      <td>1</td>\n",
       "      <td>1</td>\n",
       "      <td>2</td>\n",
       "    </tr>\n",
       "    <tr>\n",
       "      <th>2</th>\n",
       "      <td>2026-03-01</td>\n",
       "      <td>0</td>\n",
       "      <td>12</td>\n",
       "      <td>18</td>\n",
       "      <td>3</td>\n",
       "      <td>12</td>\n",
       "      <td>3</td>\n",
       "      <td>3</td>\n",
       "      <td>1</td>\n",
       "      <td>2</td>\n",
       "      <td>...</td>\n",
       "      <td>1</td>\n",
       "      <td>3</td>\n",
       "      <td>3</td>\n",
       "      <td>1</td>\n",
       "      <td>3</td>\n",
       "      <td>7</td>\n",
       "      <td>0</td>\n",
       "      <td>1</td>\n",
       "      <td>1</td>\n",
       "      <td>2</td>\n",
       "    </tr>\n",
       "    <tr>\n",
       "      <th>3</th>\n",
       "      <td>2026-04-01</td>\n",
       "      <td>0</td>\n",
       "      <td>12</td>\n",
       "      <td>24</td>\n",
       "      <td>4</td>\n",
       "      <td>16</td>\n",
       "      <td>4</td>\n",
       "      <td>4</td>\n",
       "      <td>1</td>\n",
       "      <td>2</td>\n",
       "      <td>...</td>\n",
       "      <td>2</td>\n",
       "      <td>5</td>\n",
       "      <td>4</td>\n",
       "      <td>1</td>\n",
       "      <td>4</td>\n",
       "      <td>9</td>\n",
       "      <td>0</td>\n",
       "      <td>1</td>\n",
       "      <td>1</td>\n",
       "      <td>2</td>\n",
       "    </tr>\n",
       "    <tr>\n",
       "      <th>4</th>\n",
       "      <td>2026-05-01</td>\n",
       "      <td>0</td>\n",
       "      <td>12</td>\n",
       "      <td>29</td>\n",
       "      <td>5</td>\n",
       "      <td>20</td>\n",
       "      <td>5</td>\n",
       "      <td>5</td>\n",
       "      <td>1</td>\n",
       "      <td>3</td>\n",
       "      <td>...</td>\n",
       "      <td>2</td>\n",
       "      <td>5</td>\n",
       "      <td>5</td>\n",
       "      <td>1</td>\n",
       "      <td>5</td>\n",
       "      <td>11</td>\n",
       "      <td>0</td>\n",
       "      <td>1</td>\n",
       "      <td>1</td>\n",
       "      <td>2</td>\n",
       "    </tr>\n",
       "    <tr>\n",
       "      <th>5</th>\n",
       "      <td>2026-06-01</td>\n",
       "      <td>0</td>\n",
       "      <td>12</td>\n",
       "      <td>34</td>\n",
       "      <td>6</td>\n",
       "      <td>24</td>\n",
       "      <td>5</td>\n",
       "      <td>6</td>\n",
       "      <td>1</td>\n",
       "      <td>3</td>\n",
       "      <td>...</td>\n",
       "      <td>2</td>\n",
       "      <td>5</td>\n",
       "      <td>5</td>\n",
       "      <td>1</td>\n",
       "      <td>6</td>\n",
       "      <td>12</td>\n",
       "      <td>0</td>\n",
       "      <td>1</td>\n",
       "      <td>1</td>\n",
       "      <td>2</td>\n",
       "    </tr>\n",
       "    <tr>\n",
       "      <th>6</th>\n",
       "      <td>2026-07-01</td>\n",
       "      <td>0</td>\n",
       "      <td>12</td>\n",
       "      <td>33</td>\n",
       "      <td>7</td>\n",
       "      <td>28</td>\n",
       "      <td>5</td>\n",
       "      <td>7</td>\n",
       "      <td>1</td>\n",
       "      <td>3</td>\n",
       "      <td>...</td>\n",
       "      <td>3</td>\n",
       "      <td>7</td>\n",
       "      <td>6</td>\n",
       "      <td>1</td>\n",
       "      <td>7</td>\n",
       "      <td>14</td>\n",
       "      <td>0</td>\n",
       "      <td>1</td>\n",
       "      <td>2</td>\n",
       "      <td>3</td>\n",
       "    </tr>\n",
       "    <tr>\n",
       "      <th>7</th>\n",
       "      <td>2026-08-01</td>\n",
       "      <td>0</td>\n",
       "      <td>12</td>\n",
       "      <td>32</td>\n",
       "      <td>8</td>\n",
       "      <td>32</td>\n",
       "      <td>5</td>\n",
       "      <td>8</td>\n",
       "      <td>1</td>\n",
       "      <td>3</td>\n",
       "      <td>...</td>\n",
       "      <td>3</td>\n",
       "      <td>7</td>\n",
       "      <td>7</td>\n",
       "      <td>1</td>\n",
       "      <td>8</td>\n",
       "      <td>16</td>\n",
       "      <td>0</td>\n",
       "      <td>1</td>\n",
       "      <td>2</td>\n",
       "      <td>3</td>\n",
       "    </tr>\n",
       "    <tr>\n",
       "      <th>8</th>\n",
       "      <td>2026-09-01</td>\n",
       "      <td>0</td>\n",
       "      <td>11</td>\n",
       "      <td>31</td>\n",
       "      <td>8</td>\n",
       "      <td>35</td>\n",
       "      <td>5</td>\n",
       "      <td>9</td>\n",
       "      <td>1</td>\n",
       "      <td>3</td>\n",
       "      <td>...</td>\n",
       "      <td>3</td>\n",
       "      <td>7</td>\n",
       "      <td>8</td>\n",
       "      <td>1</td>\n",
       "      <td>9</td>\n",
       "      <td>18</td>\n",
       "      <td>0</td>\n",
       "      <td>1</td>\n",
       "      <td>2</td>\n",
       "      <td>3</td>\n",
       "    </tr>\n",
       "    <tr>\n",
       "      <th>9</th>\n",
       "      <td>2026-10-01</td>\n",
       "      <td>0</td>\n",
       "      <td>10</td>\n",
       "      <td>30</td>\n",
       "      <td>8</td>\n",
       "      <td>38</td>\n",
       "      <td>5</td>\n",
       "      <td>10</td>\n",
       "      <td>1</td>\n",
       "      <td>3</td>\n",
       "      <td>...</td>\n",
       "      <td>4</td>\n",
       "      <td>9</td>\n",
       "      <td>8</td>\n",
       "      <td>1</td>\n",
       "      <td>10</td>\n",
       "      <td>19</td>\n",
       "      <td>0</td>\n",
       "      <td>1</td>\n",
       "      <td>2</td>\n",
       "      <td>3</td>\n",
       "    </tr>\n",
       "    <tr>\n",
       "      <th>10</th>\n",
       "      <td>2026-11-01</td>\n",
       "      <td>0</td>\n",
       "      <td>9</td>\n",
       "      <td>30</td>\n",
       "      <td>8</td>\n",
       "      <td>41</td>\n",
       "      <td>5</td>\n",
       "      <td>10</td>\n",
       "      <td>1</td>\n",
       "      <td>3</td>\n",
       "      <td>...</td>\n",
       "      <td>4</td>\n",
       "      <td>9</td>\n",
       "      <td>9</td>\n",
       "      <td>1</td>\n",
       "      <td>10</td>\n",
       "      <td>20</td>\n",
       "      <td>0</td>\n",
       "      <td>1</td>\n",
       "      <td>2</td>\n",
       "      <td>3</td>\n",
       "    </tr>\n",
       "    <tr>\n",
       "      <th>11</th>\n",
       "      <td>2026-12-01</td>\n",
       "      <td>0</td>\n",
       "      <td>9</td>\n",
       "      <td>30</td>\n",
       "      <td>8</td>\n",
       "      <td>40</td>\n",
       "      <td>5</td>\n",
       "      <td>10</td>\n",
       "      <td>1</td>\n",
       "      <td>3</td>\n",
       "      <td>...</td>\n",
       "      <td>4</td>\n",
       "      <td>9</td>\n",
       "      <td>9</td>\n",
       "      <td>1</td>\n",
       "      <td>10</td>\n",
       "      <td>20</td>\n",
       "      <td>0</td>\n",
       "      <td>1</td>\n",
       "      <td>2</td>\n",
       "      <td>3</td>\n",
       "    </tr>\n",
       "    <tr>\n",
       "      <th>12</th>\n",
       "      <td>2027-01-01</td>\n",
       "      <td>0</td>\n",
       "      <td>9</td>\n",
       "      <td>29</td>\n",
       "      <td>8</td>\n",
       "      <td>38</td>\n",
       "      <td>6</td>\n",
       "      <td>11</td>\n",
       "      <td>1</td>\n",
       "      <td>3</td>\n",
       "      <td>...</td>\n",
       "      <td>4</td>\n",
       "      <td>9</td>\n",
       "      <td>8</td>\n",
       "      <td>2</td>\n",
       "      <td>11</td>\n",
       "      <td>21</td>\n",
       "      <td>0</td>\n",
       "      <td>1</td>\n",
       "      <td>2</td>\n",
       "      <td>3</td>\n",
       "    </tr>\n",
       "    <tr>\n",
       "      <th>13</th>\n",
       "      <td>2027-02-01</td>\n",
       "      <td>0</td>\n",
       "      <td>9</td>\n",
       "      <td>28</td>\n",
       "      <td>8</td>\n",
       "      <td>36</td>\n",
       "      <td>7</td>\n",
       "      <td>12</td>\n",
       "      <td>1</td>\n",
       "      <td>3</td>\n",
       "      <td>...</td>\n",
       "      <td>4</td>\n",
       "      <td>10</td>\n",
       "      <td>8</td>\n",
       "      <td>2</td>\n",
       "      <td>12</td>\n",
       "      <td>22</td>\n",
       "      <td>0</td>\n",
       "      <td>1</td>\n",
       "      <td>2</td>\n",
       "      <td>3</td>\n",
       "    </tr>\n",
       "    <tr>\n",
       "      <th>14</th>\n",
       "      <td>2027-03-01</td>\n",
       "      <td>0</td>\n",
       "      <td>8</td>\n",
       "      <td>26</td>\n",
       "      <td>8</td>\n",
       "      <td>34</td>\n",
       "      <td>8</td>\n",
       "      <td>13</td>\n",
       "      <td>1</td>\n",
       "      <td>3</td>\n",
       "      <td>...</td>\n",
       "      <td>5</td>\n",
       "      <td>10</td>\n",
       "      <td>7</td>\n",
       "      <td>2</td>\n",
       "      <td>13</td>\n",
       "      <td>22</td>\n",
       "      <td>0</td>\n",
       "      <td>1</td>\n",
       "      <td>3</td>\n",
       "      <td>4</td>\n",
       "    </tr>\n",
       "    <tr>\n",
       "      <th>15</th>\n",
       "      <td>2027-04-01</td>\n",
       "      <td>0</td>\n",
       "      <td>7</td>\n",
       "      <td>24</td>\n",
       "      <td>8</td>\n",
       "      <td>32</td>\n",
       "      <td>8</td>\n",
       "      <td>14</td>\n",
       "      <td>1</td>\n",
       "      <td>2</td>\n",
       "      <td>...</td>\n",
       "      <td>5</td>\n",
       "      <td>10</td>\n",
       "      <td>7</td>\n",
       "      <td>2</td>\n",
       "      <td>14</td>\n",
       "      <td>23</td>\n",
       "      <td>0</td>\n",
       "      <td>1</td>\n",
       "      <td>3</td>\n",
       "      <td>4</td>\n",
       "    </tr>\n",
       "    <tr>\n",
       "      <th>16</th>\n",
       "      <td>2027-05-01</td>\n",
       "      <td>0</td>\n",
       "      <td>6</td>\n",
       "      <td>22</td>\n",
       "      <td>8</td>\n",
       "      <td>30</td>\n",
       "      <td>8</td>\n",
       "      <td>15</td>\n",
       "      <td>1</td>\n",
       "      <td>2</td>\n",
       "      <td>...</td>\n",
       "      <td>5</td>\n",
       "      <td>10</td>\n",
       "      <td>7</td>\n",
       "      <td>2</td>\n",
       "      <td>15</td>\n",
       "      <td>24</td>\n",
       "      <td>0</td>\n",
       "      <td>1</td>\n",
       "      <td>3</td>\n",
       "      <td>4</td>\n",
       "    </tr>\n",
       "    <tr>\n",
       "      <th>17</th>\n",
       "      <td>2027-06-01</td>\n",
       "      <td>0</td>\n",
       "      <td>6</td>\n",
       "      <td>20</td>\n",
       "      <td>8</td>\n",
       "      <td>28</td>\n",
       "      <td>8</td>\n",
       "      <td>16</td>\n",
       "      <td>1</td>\n",
       "      <td>2</td>\n",
       "      <td>...</td>\n",
       "      <td>6</td>\n",
       "      <td>11</td>\n",
       "      <td>6</td>\n",
       "      <td>2</td>\n",
       "      <td>16</td>\n",
       "      <td>24</td>\n",
       "      <td>0</td>\n",
       "      <td>1</td>\n",
       "      <td>3</td>\n",
       "      <td>4</td>\n",
       "    </tr>\n",
       "    <tr>\n",
       "      <th>18</th>\n",
       "      <td>2027-07-01</td>\n",
       "      <td>0</td>\n",
       "      <td>6</td>\n",
       "      <td>19</td>\n",
       "      <td>8</td>\n",
       "      <td>26</td>\n",
       "      <td>8</td>\n",
       "      <td>17</td>\n",
       "      <td>1</td>\n",
       "      <td>2</td>\n",
       "      <td>...</td>\n",
       "      <td>6</td>\n",
       "      <td>11</td>\n",
       "      <td>6</td>\n",
       "      <td>2</td>\n",
       "      <td>17</td>\n",
       "      <td>25</td>\n",
       "      <td>0</td>\n",
       "      <td>1</td>\n",
       "      <td>3</td>\n",
       "      <td>4</td>\n",
       "    </tr>\n",
       "    <tr>\n",
       "      <th>19</th>\n",
       "      <td>2027-08-01</td>\n",
       "      <td>0</td>\n",
       "      <td>6</td>\n",
       "      <td>18</td>\n",
       "      <td>7</td>\n",
       "      <td>25</td>\n",
       "      <td>8</td>\n",
       "      <td>18</td>\n",
       "      <td>1</td>\n",
       "      <td>2</td>\n",
       "      <td>...</td>\n",
       "      <td>6</td>\n",
       "      <td>11</td>\n",
       "      <td>6</td>\n",
       "      <td>2</td>\n",
       "      <td>18</td>\n",
       "      <td>26</td>\n",
       "      <td>0</td>\n",
       "      <td>1</td>\n",
       "      <td>3</td>\n",
       "      <td>4</td>\n",
       "    </tr>\n",
       "    <tr>\n",
       "      <th>20</th>\n",
       "      <td>2027-09-01</td>\n",
       "      <td>0</td>\n",
       "      <td>6</td>\n",
       "      <td>18</td>\n",
       "      <td>6</td>\n",
       "      <td>23</td>\n",
       "      <td>7</td>\n",
       "      <td>19</td>\n",
       "      <td>1</td>\n",
       "      <td>2</td>\n",
       "      <td>...</td>\n",
       "      <td>7</td>\n",
       "      <td>11</td>\n",
       "      <td>5</td>\n",
       "      <td>2</td>\n",
       "      <td>19</td>\n",
       "      <td>26</td>\n",
       "      <td>0</td>\n",
       "      <td>1</td>\n",
       "      <td>4</td>\n",
       "      <td>5</td>\n",
       "    </tr>\n",
       "    <tr>\n",
       "      <th>21</th>\n",
       "      <td>2027-10-01</td>\n",
       "      <td>0</td>\n",
       "      <td>6</td>\n",
       "      <td>18</td>\n",
       "      <td>5</td>\n",
       "      <td>21</td>\n",
       "      <td>6</td>\n",
       "      <td>20</td>\n",
       "      <td>1</td>\n",
       "      <td>2</td>\n",
       "      <td>...</td>\n",
       "      <td>7</td>\n",
       "      <td>10</td>\n",
       "      <td>5</td>\n",
       "      <td>2</td>\n",
       "      <td>20</td>\n",
       "      <td>27</td>\n",
       "      <td>0</td>\n",
       "      <td>1</td>\n",
       "      <td>4</td>\n",
       "      <td>5</td>\n",
       "    </tr>\n",
       "    <tr>\n",
       "      <th>22</th>\n",
       "      <td>2027-11-01</td>\n",
       "      <td>0</td>\n",
       "      <td>6</td>\n",
       "      <td>18</td>\n",
       "      <td>4</td>\n",
       "      <td>19</td>\n",
       "      <td>5</td>\n",
       "      <td>21</td>\n",
       "      <td>1</td>\n",
       "      <td>2</td>\n",
       "      <td>...</td>\n",
       "      <td>7</td>\n",
       "      <td>10</td>\n",
       "      <td>4</td>\n",
       "      <td>1</td>\n",
       "      <td>21</td>\n",
       "      <td>26</td>\n",
       "      <td>0</td>\n",
       "      <td>1</td>\n",
       "      <td>4</td>\n",
       "      <td>5</td>\n",
       "    </tr>\n",
       "    <tr>\n",
       "      <th>23</th>\n",
       "      <td>2027-12-01</td>\n",
       "      <td>0</td>\n",
       "      <td>6</td>\n",
       "      <td>18</td>\n",
       "      <td>3</td>\n",
       "      <td>18</td>\n",
       "      <td>4</td>\n",
       "      <td>22</td>\n",
       "      <td>1</td>\n",
       "      <td>2</td>\n",
       "      <td>...</td>\n",
       "      <td>8</td>\n",
       "      <td>11</td>\n",
       "      <td>4</td>\n",
       "      <td>1</td>\n",
       "      <td>22</td>\n",
       "      <td>27</td>\n",
       "      <td>0</td>\n",
       "      <td>1</td>\n",
       "      <td>4</td>\n",
       "      <td>5</td>\n",
       "    </tr>\n",
       "    <tr>\n",
       "      <th>24</th>\n",
       "      <td>2028-01-01</td>\n",
       "      <td>0</td>\n",
       "      <td>4</td>\n",
       "      <td>15</td>\n",
       "      <td>2</td>\n",
       "      <td>16</td>\n",
       "      <td>3</td>\n",
       "      <td>22</td>\n",
       "      <td>1</td>\n",
       "      <td>2</td>\n",
       "      <td>...</td>\n",
       "      <td>8</td>\n",
       "      <td>11</td>\n",
       "      <td>4</td>\n",
       "      <td>1</td>\n",
       "      <td>22</td>\n",
       "      <td>27</td>\n",
       "      <td>0</td>\n",
       "      <td>1</td>\n",
       "      <td>4</td>\n",
       "      <td>5</td>\n",
       "    </tr>\n",
       "    <tr>\n",
       "      <th>25</th>\n",
       "      <td>2028-02-01</td>\n",
       "      <td>0</td>\n",
       "      <td>2</td>\n",
       "      <td>12</td>\n",
       "      <td>1</td>\n",
       "      <td>14</td>\n",
       "      <td>3</td>\n",
       "      <td>21</td>\n",
       "      <td>1</td>\n",
       "      <td>1</td>\n",
       "      <td>...</td>\n",
       "      <td>7</td>\n",
       "      <td>10</td>\n",
       "      <td>3</td>\n",
       "      <td>1</td>\n",
       "      <td>21</td>\n",
       "      <td>25</td>\n",
       "      <td>0</td>\n",
       "      <td>1</td>\n",
       "      <td>4</td>\n",
       "      <td>5</td>\n",
       "    </tr>\n",
       "    <tr>\n",
       "      <th>26</th>\n",
       "      <td>2028-03-01</td>\n",
       "      <td>0</td>\n",
       "      <td>0</td>\n",
       "      <td>9</td>\n",
       "      <td>0</td>\n",
       "      <td>12</td>\n",
       "      <td>3</td>\n",
       "      <td>20</td>\n",
       "      <td>0</td>\n",
       "      <td>1</td>\n",
       "      <td>...</td>\n",
       "      <td>7</td>\n",
       "      <td>9</td>\n",
       "      <td>3</td>\n",
       "      <td>1</td>\n",
       "      <td>20</td>\n",
       "      <td>24</td>\n",
       "      <td>0</td>\n",
       "      <td>1</td>\n",
       "      <td>4</td>\n",
       "      <td>5</td>\n",
       "    </tr>\n",
       "    <tr>\n",
       "      <th>27</th>\n",
       "      <td>2028-04-01</td>\n",
       "      <td>0</td>\n",
       "      <td>0</td>\n",
       "      <td>6</td>\n",
       "      <td>0</td>\n",
       "      <td>10</td>\n",
       "      <td>3</td>\n",
       "      <td>19</td>\n",
       "      <td>0</td>\n",
       "      <td>1</td>\n",
       "      <td>...</td>\n",
       "      <td>7</td>\n",
       "      <td>9</td>\n",
       "      <td>2</td>\n",
       "      <td>1</td>\n",
       "      <td>19</td>\n",
       "      <td>22</td>\n",
       "      <td>0</td>\n",
       "      <td>1</td>\n",
       "      <td>4</td>\n",
       "      <td>5</td>\n",
       "    </tr>\n",
       "    <tr>\n",
       "      <th>28</th>\n",
       "      <td>2028-05-01</td>\n",
       "      <td>0</td>\n",
       "      <td>0</td>\n",
       "      <td>3</td>\n",
       "      <td>0</td>\n",
       "      <td>8</td>\n",
       "      <td>3</td>\n",
       "      <td>18</td>\n",
       "      <td>0</td>\n",
       "      <td>1</td>\n",
       "      <td>...</td>\n",
       "      <td>6</td>\n",
       "      <td>8</td>\n",
       "      <td>2</td>\n",
       "      <td>1</td>\n",
       "      <td>18</td>\n",
       "      <td>21</td>\n",
       "      <td>0</td>\n",
       "      <td>1</td>\n",
       "      <td>3</td>\n",
       "      <td>4</td>\n",
       "    </tr>\n",
       "    <tr>\n",
       "      <th>29</th>\n",
       "      <td>2028-06-01</td>\n",
       "      <td>0</td>\n",
       "      <td>0</td>\n",
       "      <td>0</td>\n",
       "      <td>0</td>\n",
       "      <td>6</td>\n",
       "      <td>3</td>\n",
       "      <td>17</td>\n",
       "      <td>0</td>\n",
       "      <td>0</td>\n",
       "      <td>...</td>\n",
       "      <td>6</td>\n",
       "      <td>8</td>\n",
       "      <td>2</td>\n",
       "      <td>1</td>\n",
       "      <td>17</td>\n",
       "      <td>20</td>\n",
       "      <td>0</td>\n",
       "      <td>1</td>\n",
       "      <td>3</td>\n",
       "      <td>4</td>\n",
       "    </tr>\n",
       "    <tr>\n",
       "      <th>30</th>\n",
       "      <td>2028-07-01</td>\n",
       "      <td>0</td>\n",
       "      <td>0</td>\n",
       "      <td>0</td>\n",
       "      <td>0</td>\n",
       "      <td>4</td>\n",
       "      <td>3</td>\n",
       "      <td>16</td>\n",
       "      <td>0</td>\n",
       "      <td>0</td>\n",
       "      <td>...</td>\n",
       "      <td>6</td>\n",
       "      <td>8</td>\n",
       "      <td>1</td>\n",
       "      <td>1</td>\n",
       "      <td>16</td>\n",
       "      <td>18</td>\n",
       "      <td>0</td>\n",
       "      <td>1</td>\n",
       "      <td>3</td>\n",
       "      <td>4</td>\n",
       "    </tr>\n",
       "    <tr>\n",
       "      <th>31</th>\n",
       "      <td>2028-08-01</td>\n",
       "      <td>0</td>\n",
       "      <td>0</td>\n",
       "      <td>0</td>\n",
       "      <td>0</td>\n",
       "      <td>3</td>\n",
       "      <td>3</td>\n",
       "      <td>15</td>\n",
       "      <td>0</td>\n",
       "      <td>0</td>\n",
       "      <td>...</td>\n",
       "      <td>5</td>\n",
       "      <td>7</td>\n",
       "      <td>1</td>\n",
       "      <td>1</td>\n",
       "      <td>15</td>\n",
       "      <td>17</td>\n",
       "      <td>0</td>\n",
       "      <td>1</td>\n",
       "      <td>3</td>\n",
       "      <td>4</td>\n",
       "    </tr>\n",
       "    <tr>\n",
       "      <th>32</th>\n",
       "      <td>2028-09-01</td>\n",
       "      <td>0</td>\n",
       "      <td>0</td>\n",
       "      <td>0</td>\n",
       "      <td>0</td>\n",
       "      <td>2</td>\n",
       "      <td>2</td>\n",
       "      <td>14</td>\n",
       "      <td>0</td>\n",
       "      <td>0</td>\n",
       "      <td>...</td>\n",
       "      <td>5</td>\n",
       "      <td>7</td>\n",
       "      <td>1</td>\n",
       "      <td>1</td>\n",
       "      <td>14</td>\n",
       "      <td>16</td>\n",
       "      <td>0</td>\n",
       "      <td>1</td>\n",
       "      <td>3</td>\n",
       "      <td>4</td>\n",
       "    </tr>\n",
       "    <tr>\n",
       "      <th>33</th>\n",
       "      <td>2028-10-01</td>\n",
       "      <td>0</td>\n",
       "      <td>0</td>\n",
       "      <td>0</td>\n",
       "      <td>0</td>\n",
       "      <td>1</td>\n",
       "      <td>1</td>\n",
       "      <td>13</td>\n",
       "      <td>0</td>\n",
       "      <td>0</td>\n",
       "      <td>...</td>\n",
       "      <td>5</td>\n",
       "      <td>7</td>\n",
       "      <td>1</td>\n",
       "      <td>1</td>\n",
       "      <td>13</td>\n",
       "      <td>15</td>\n",
       "      <td>0</td>\n",
       "      <td>1</td>\n",
       "      <td>3</td>\n",
       "      <td>4</td>\n",
       "    </tr>\n",
       "    <tr>\n",
       "      <th>34</th>\n",
       "      <td>2028-11-01</td>\n",
       "      <td>0</td>\n",
       "      <td>0</td>\n",
       "      <td>0</td>\n",
       "      <td>0</td>\n",
       "      <td>0</td>\n",
       "      <td>0</td>\n",
       "      <td>12</td>\n",
       "      <td>0</td>\n",
       "      <td>0</td>\n",
       "      <td>...</td>\n",
       "      <td>4</td>\n",
       "      <td>4</td>\n",
       "      <td>0</td>\n",
       "      <td>0</td>\n",
       "      <td>12</td>\n",
       "      <td>12</td>\n",
       "      <td>0</td>\n",
       "      <td>0</td>\n",
       "      <td>2</td>\n",
       "      <td>2</td>\n",
       "    </tr>\n",
       "    <tr>\n",
       "      <th>35</th>\n",
       "      <td>2028-12-01</td>\n",
       "      <td>0</td>\n",
       "      <td>0</td>\n",
       "      <td>0</td>\n",
       "      <td>0</td>\n",
       "      <td>0</td>\n",
       "      <td>0</td>\n",
       "      <td>12</td>\n",
       "      <td>0</td>\n",
       "      <td>0</td>\n",
       "      <td>...</td>\n",
       "      <td>4</td>\n",
       "      <td>4</td>\n",
       "      <td>0</td>\n",
       "      <td>0</td>\n",
       "      <td>12</td>\n",
       "      <td>12</td>\n",
       "      <td>0</td>\n",
       "      <td>0</td>\n",
       "      <td>2</td>\n",
       "      <td>2</td>\n",
       "    </tr>\n",
       "    <tr>\n",
       "      <th>36</th>\n",
       "      <td>2029-01-01</td>\n",
       "      <td>0</td>\n",
       "      <td>0</td>\n",
       "      <td>0</td>\n",
       "      <td>0</td>\n",
       "      <td>0</td>\n",
       "      <td>0</td>\n",
       "      <td>12</td>\n",
       "      <td>0</td>\n",
       "      <td>0</td>\n",
       "      <td>...</td>\n",
       "      <td>4</td>\n",
       "      <td>4</td>\n",
       "      <td>0</td>\n",
       "      <td>0</td>\n",
       "      <td>12</td>\n",
       "      <td>12</td>\n",
       "      <td>0</td>\n",
       "      <td>0</td>\n",
       "      <td>2</td>\n",
       "      <td>2</td>\n",
       "    </tr>\n",
       "    <tr>\n",
       "      <th>37</th>\n",
       "      <td>2029-02-01</td>\n",
       "      <td>0</td>\n",
       "      <td>0</td>\n",
       "      <td>0</td>\n",
       "      <td>0</td>\n",
       "      <td>0</td>\n",
       "      <td>0</td>\n",
       "      <td>11</td>\n",
       "      <td>0</td>\n",
       "      <td>0</td>\n",
       "      <td>...</td>\n",
       "      <td>4</td>\n",
       "      <td>4</td>\n",
       "      <td>0</td>\n",
       "      <td>0</td>\n",
       "      <td>11</td>\n",
       "      <td>11</td>\n",
       "      <td>0</td>\n",
       "      <td>0</td>\n",
       "      <td>2</td>\n",
       "      <td>2</td>\n",
       "    </tr>\n",
       "    <tr>\n",
       "      <th>38</th>\n",
       "      <td>2029-03-01</td>\n",
       "      <td>0</td>\n",
       "      <td>0</td>\n",
       "      <td>0</td>\n",
       "      <td>0</td>\n",
       "      <td>0</td>\n",
       "      <td>0</td>\n",
       "      <td>10</td>\n",
       "      <td>0</td>\n",
       "      <td>0</td>\n",
       "      <td>...</td>\n",
       "      <td>4</td>\n",
       "      <td>4</td>\n",
       "      <td>0</td>\n",
       "      <td>0</td>\n",
       "      <td>10</td>\n",
       "      <td>10</td>\n",
       "      <td>0</td>\n",
       "      <td>0</td>\n",
       "      <td>2</td>\n",
       "      <td>2</td>\n",
       "    </tr>\n",
       "    <tr>\n",
       "      <th>39</th>\n",
       "      <td>2029-04-01</td>\n",
       "      <td>0</td>\n",
       "      <td>0</td>\n",
       "      <td>0</td>\n",
       "      <td>0</td>\n",
       "      <td>0</td>\n",
       "      <td>0</td>\n",
       "      <td>9</td>\n",
       "      <td>0</td>\n",
       "      <td>0</td>\n",
       "      <td>...</td>\n",
       "      <td>3</td>\n",
       "      <td>3</td>\n",
       "      <td>0</td>\n",
       "      <td>0</td>\n",
       "      <td>9</td>\n",
       "      <td>9</td>\n",
       "      <td>0</td>\n",
       "      <td>0</td>\n",
       "      <td>2</td>\n",
       "      <td>2</td>\n",
       "    </tr>\n",
       "    <tr>\n",
       "      <th>40</th>\n",
       "      <td>2029-05-01</td>\n",
       "      <td>0</td>\n",
       "      <td>0</td>\n",
       "      <td>0</td>\n",
       "      <td>0</td>\n",
       "      <td>0</td>\n",
       "      <td>0</td>\n",
       "      <td>8</td>\n",
       "      <td>0</td>\n",
       "      <td>0</td>\n",
       "      <td>...</td>\n",
       "      <td>3</td>\n",
       "      <td>3</td>\n",
       "      <td>0</td>\n",
       "      <td>0</td>\n",
       "      <td>8</td>\n",
       "      <td>8</td>\n",
       "      <td>0</td>\n",
       "      <td>0</td>\n",
       "      <td>2</td>\n",
       "      <td>2</td>\n",
       "    </tr>\n",
       "    <tr>\n",
       "      <th>41</th>\n",
       "      <td>2029-06-01</td>\n",
       "      <td>0</td>\n",
       "      <td>0</td>\n",
       "      <td>0</td>\n",
       "      <td>0</td>\n",
       "      <td>0</td>\n",
       "      <td>0</td>\n",
       "      <td>7</td>\n",
       "      <td>0</td>\n",
       "      <td>0</td>\n",
       "      <td>...</td>\n",
       "      <td>3</td>\n",
       "      <td>3</td>\n",
       "      <td>0</td>\n",
       "      <td>0</td>\n",
       "      <td>7</td>\n",
       "      <td>7</td>\n",
       "      <td>0</td>\n",
       "      <td>0</td>\n",
       "      <td>2</td>\n",
       "      <td>2</td>\n",
       "    </tr>\n",
       "    <tr>\n",
       "      <th>42</th>\n",
       "      <td>2029-07-01</td>\n",
       "      <td>0</td>\n",
       "      <td>0</td>\n",
       "      <td>0</td>\n",
       "      <td>0</td>\n",
       "      <td>0</td>\n",
       "      <td>0</td>\n",
       "      <td>6</td>\n",
       "      <td>0</td>\n",
       "      <td>0</td>\n",
       "      <td>...</td>\n",
       "      <td>2</td>\n",
       "      <td>2</td>\n",
       "      <td>0</td>\n",
       "      <td>0</td>\n",
       "      <td>6</td>\n",
       "      <td>6</td>\n",
       "      <td>0</td>\n",
       "      <td>0</td>\n",
       "      <td>1</td>\n",
       "      <td>1</td>\n",
       "    </tr>\n",
       "    <tr>\n",
       "      <th>43</th>\n",
       "      <td>2029-08-01</td>\n",
       "      <td>0</td>\n",
       "      <td>0</td>\n",
       "      <td>0</td>\n",
       "      <td>0</td>\n",
       "      <td>0</td>\n",
       "      <td>0</td>\n",
       "      <td>5</td>\n",
       "      <td>0</td>\n",
       "      <td>0</td>\n",
       "      <td>...</td>\n",
       "      <td>2</td>\n",
       "      <td>2</td>\n",
       "      <td>0</td>\n",
       "      <td>0</td>\n",
       "      <td>5</td>\n",
       "      <td>5</td>\n",
       "      <td>0</td>\n",
       "      <td>0</td>\n",
       "      <td>1</td>\n",
       "      <td>1</td>\n",
       "    </tr>\n",
       "    <tr>\n",
       "      <th>44</th>\n",
       "      <td>2029-09-01</td>\n",
       "      <td>0</td>\n",
       "      <td>0</td>\n",
       "      <td>0</td>\n",
       "      <td>0</td>\n",
       "      <td>0</td>\n",
       "      <td>0</td>\n",
       "      <td>4</td>\n",
       "      <td>0</td>\n",
       "      <td>0</td>\n",
       "      <td>...</td>\n",
       "      <td>2</td>\n",
       "      <td>2</td>\n",
       "      <td>0</td>\n",
       "      <td>0</td>\n",
       "      <td>4</td>\n",
       "      <td>4</td>\n",
       "      <td>0</td>\n",
       "      <td>0</td>\n",
       "      <td>1</td>\n",
       "      <td>1</td>\n",
       "    </tr>\n",
       "    <tr>\n",
       "      <th>45</th>\n",
       "      <td>2029-10-01</td>\n",
       "      <td>0</td>\n",
       "      <td>0</td>\n",
       "      <td>0</td>\n",
       "      <td>0</td>\n",
       "      <td>0</td>\n",
       "      <td>0</td>\n",
       "      <td>3</td>\n",
       "      <td>0</td>\n",
       "      <td>0</td>\n",
       "      <td>...</td>\n",
       "      <td>1</td>\n",
       "      <td>1</td>\n",
       "      <td>0</td>\n",
       "      <td>0</td>\n",
       "      <td>3</td>\n",
       "      <td>3</td>\n",
       "      <td>0</td>\n",
       "      <td>0</td>\n",
       "      <td>1</td>\n",
       "      <td>1</td>\n",
       "    </tr>\n",
       "    <tr>\n",
       "      <th>46</th>\n",
       "      <td>2029-11-01</td>\n",
       "      <td>0</td>\n",
       "      <td>0</td>\n",
       "      <td>0</td>\n",
       "      <td>0</td>\n",
       "      <td>0</td>\n",
       "      <td>0</td>\n",
       "      <td>2</td>\n",
       "      <td>0</td>\n",
       "      <td>0</td>\n",
       "      <td>...</td>\n",
       "      <td>1</td>\n",
       "      <td>1</td>\n",
       "      <td>0</td>\n",
       "      <td>0</td>\n",
       "      <td>2</td>\n",
       "      <td>2</td>\n",
       "      <td>0</td>\n",
       "      <td>0</td>\n",
       "      <td>1</td>\n",
       "      <td>1</td>\n",
       "    </tr>\n",
       "    <tr>\n",
       "      <th>47</th>\n",
       "      <td>2029-12-01</td>\n",
       "      <td>0</td>\n",
       "      <td>0</td>\n",
       "      <td>0</td>\n",
       "      <td>0</td>\n",
       "      <td>0</td>\n",
       "      <td>0</td>\n",
       "      <td>1</td>\n",
       "      <td>0</td>\n",
       "      <td>0</td>\n",
       "      <td>...</td>\n",
       "      <td>1</td>\n",
       "      <td>1</td>\n",
       "      <td>0</td>\n",
       "      <td>0</td>\n",
       "      <td>1</td>\n",
       "      <td>1</td>\n",
       "      <td>0</td>\n",
       "      <td>0</td>\n",
       "      <td>1</td>\n",
       "      <td>1</td>\n",
       "    </tr>\n",
       "    <tr>\n",
       "      <th>48</th>\n",
       "      <td>2030-01-01</td>\n",
       "      <td>0</td>\n",
       "      <td>0</td>\n",
       "      <td>0</td>\n",
       "      <td>0</td>\n",
       "      <td>0</td>\n",
       "      <td>0</td>\n",
       "      <td>0</td>\n",
       "      <td>0</td>\n",
       "      <td>0</td>\n",
       "      <td>...</td>\n",
       "      <td>0</td>\n",
       "      <td>0</td>\n",
       "      <td>0</td>\n",
       "      <td>0</td>\n",
       "      <td>0</td>\n",
       "      <td>0</td>\n",
       "      <td>0</td>\n",
       "      <td>0</td>\n",
       "      <td>0</td>\n",
       "      <td>0</td>\n",
       "    </tr>\n",
       "    <tr>\n",
       "      <th>49</th>\n",
       "      <td>2030-02-01</td>\n",
       "      <td>0</td>\n",
       "      <td>0</td>\n",
       "      <td>0</td>\n",
       "      <td>0</td>\n",
       "      <td>0</td>\n",
       "      <td>0</td>\n",
       "      <td>0</td>\n",
       "      <td>0</td>\n",
       "      <td>0</td>\n",
       "      <td>...</td>\n",
       "      <td>0</td>\n",
       "      <td>0</td>\n",
       "      <td>0</td>\n",
       "      <td>0</td>\n",
       "      <td>0</td>\n",
       "      <td>0</td>\n",
       "      <td>0</td>\n",
       "      <td>0</td>\n",
       "      <td>0</td>\n",
       "      <td>0</td>\n",
       "    </tr>\n",
       "    <tr>\n",
       "      <th>50</th>\n",
       "      <td>2030-03-01</td>\n",
       "      <td>0</td>\n",
       "      <td>0</td>\n",
       "      <td>0</td>\n",
       "      <td>0</td>\n",
       "      <td>0</td>\n",
       "      <td>0</td>\n",
       "      <td>0</td>\n",
       "      <td>0</td>\n",
       "      <td>0</td>\n",
       "      <td>...</td>\n",
       "      <td>0</td>\n",
       "      <td>0</td>\n",
       "      <td>0</td>\n",
       "      <td>0</td>\n",
       "      <td>0</td>\n",
       "      <td>0</td>\n",
       "      <td>0</td>\n",
       "      <td>0</td>\n",
       "      <td>0</td>\n",
       "      <td>0</td>\n",
       "    </tr>\n",
       "    <tr>\n",
       "      <th>51</th>\n",
       "      <td>2030-04-01</td>\n",
       "      <td>0</td>\n",
       "      <td>0</td>\n",
       "      <td>0</td>\n",
       "      <td>0</td>\n",
       "      <td>0</td>\n",
       "      <td>0</td>\n",
       "      <td>0</td>\n",
       "      <td>0</td>\n",
       "      <td>0</td>\n",
       "      <td>...</td>\n",
       "      <td>0</td>\n",
       "      <td>0</td>\n",
       "      <td>0</td>\n",
       "      <td>0</td>\n",
       "      <td>0</td>\n",
       "      <td>0</td>\n",
       "      <td>0</td>\n",
       "      <td>0</td>\n",
       "      <td>0</td>\n",
       "      <td>0</td>\n",
       "    </tr>\n",
       "    <tr>\n",
       "      <th>52</th>\n",
       "      <td>2030-05-01</td>\n",
       "      <td>0</td>\n",
       "      <td>0</td>\n",
       "      <td>0</td>\n",
       "      <td>0</td>\n",
       "      <td>0</td>\n",
       "      <td>0</td>\n",
       "      <td>0</td>\n",
       "      <td>0</td>\n",
       "      <td>0</td>\n",
       "      <td>...</td>\n",
       "      <td>0</td>\n",
       "      <td>0</td>\n",
       "      <td>0</td>\n",
       "      <td>0</td>\n",
       "      <td>0</td>\n",
       "      <td>0</td>\n",
       "      <td>0</td>\n",
       "      <td>0</td>\n",
       "      <td>0</td>\n",
       "      <td>0</td>\n",
       "    </tr>\n",
       "    <tr>\n",
       "      <th>53</th>\n",
       "      <td>2030-06-01</td>\n",
       "      <td>0</td>\n",
       "      <td>0</td>\n",
       "      <td>0</td>\n",
       "      <td>0</td>\n",
       "      <td>0</td>\n",
       "      <td>0</td>\n",
       "      <td>0</td>\n",
       "      <td>0</td>\n",
       "      <td>0</td>\n",
       "      <td>...</td>\n",
       "      <td>0</td>\n",
       "      <td>0</td>\n",
       "      <td>0</td>\n",
       "      <td>0</td>\n",
       "      <td>0</td>\n",
       "      <td>0</td>\n",
       "      <td>0</td>\n",
       "      <td>0</td>\n",
       "      <td>0</td>\n",
       "      <td>0</td>\n",
       "    </tr>\n",
       "    <tr>\n",
       "      <th>54</th>\n",
       "      <td>2030-07-01</td>\n",
       "      <td>0</td>\n",
       "      <td>0</td>\n",
       "      <td>0</td>\n",
       "      <td>0</td>\n",
       "      <td>0</td>\n",
       "      <td>0</td>\n",
       "      <td>0</td>\n",
       "      <td>0</td>\n",
       "      <td>0</td>\n",
       "      <td>...</td>\n",
       "      <td>0</td>\n",
       "      <td>0</td>\n",
       "      <td>0</td>\n",
       "      <td>0</td>\n",
       "      <td>0</td>\n",
       "      <td>0</td>\n",
       "      <td>0</td>\n",
       "      <td>0</td>\n",
       "      <td>0</td>\n",
       "      <td>0</td>\n",
       "    </tr>\n",
       "    <tr>\n",
       "      <th>55</th>\n",
       "      <td>2030-08-01</td>\n",
       "      <td>0</td>\n",
       "      <td>0</td>\n",
       "      <td>0</td>\n",
       "      <td>0</td>\n",
       "      <td>0</td>\n",
       "      <td>0</td>\n",
       "      <td>0</td>\n",
       "      <td>0</td>\n",
       "      <td>0</td>\n",
       "      <td>...</td>\n",
       "      <td>0</td>\n",
       "      <td>0</td>\n",
       "      <td>0</td>\n",
       "      <td>0</td>\n",
       "      <td>0</td>\n",
       "      <td>0</td>\n",
       "      <td>0</td>\n",
       "      <td>0</td>\n",
       "      <td>0</td>\n",
       "      <td>0</td>\n",
       "    </tr>\n",
       "    <tr>\n",
       "      <th>56</th>\n",
       "      <td>2030-09-01</td>\n",
       "      <td>0</td>\n",
       "      <td>0</td>\n",
       "      <td>0</td>\n",
       "      <td>0</td>\n",
       "      <td>0</td>\n",
       "      <td>0</td>\n",
       "      <td>0</td>\n",
       "      <td>0</td>\n",
       "      <td>0</td>\n",
       "      <td>...</td>\n",
       "      <td>0</td>\n",
       "      <td>0</td>\n",
       "      <td>0</td>\n",
       "      <td>0</td>\n",
       "      <td>0</td>\n",
       "      <td>0</td>\n",
       "      <td>0</td>\n",
       "      <td>0</td>\n",
       "      <td>0</td>\n",
       "      <td>0</td>\n",
       "    </tr>\n",
       "    <tr>\n",
       "      <th>57</th>\n",
       "      <td>2030-10-01</td>\n",
       "      <td>0</td>\n",
       "      <td>0</td>\n",
       "      <td>0</td>\n",
       "      <td>0</td>\n",
       "      <td>0</td>\n",
       "      <td>0</td>\n",
       "      <td>0</td>\n",
       "      <td>0</td>\n",
       "      <td>0</td>\n",
       "      <td>...</td>\n",
       "      <td>0</td>\n",
       "      <td>0</td>\n",
       "      <td>0</td>\n",
       "      <td>0</td>\n",
       "      <td>0</td>\n",
       "      <td>0</td>\n",
       "      <td>0</td>\n",
       "      <td>0</td>\n",
       "      <td>0</td>\n",
       "      <td>0</td>\n",
       "    </tr>\n",
       "    <tr>\n",
       "      <th>58</th>\n",
       "      <td>2030-11-01</td>\n",
       "      <td>0</td>\n",
       "      <td>0</td>\n",
       "      <td>0</td>\n",
       "      <td>0</td>\n",
       "      <td>0</td>\n",
       "      <td>0</td>\n",
       "      <td>0</td>\n",
       "      <td>0</td>\n",
       "      <td>0</td>\n",
       "      <td>...</td>\n",
       "      <td>0</td>\n",
       "      <td>0</td>\n",
       "      <td>0</td>\n",
       "      <td>0</td>\n",
       "      <td>0</td>\n",
       "      <td>0</td>\n",
       "      <td>0</td>\n",
       "      <td>0</td>\n",
       "      <td>0</td>\n",
       "      <td>0</td>\n",
       "    </tr>\n",
       "    <tr>\n",
       "      <th>59</th>\n",
       "      <td>2030-12-01</td>\n",
       "      <td>0</td>\n",
       "      <td>0</td>\n",
       "      <td>0</td>\n",
       "      <td>0</td>\n",
       "      <td>0</td>\n",
       "      <td>0</td>\n",
       "      <td>0</td>\n",
       "      <td>0</td>\n",
       "      <td>0</td>\n",
       "      <td>...</td>\n",
       "      <td>0</td>\n",
       "      <td>0</td>\n",
       "      <td>0</td>\n",
       "      <td>0</td>\n",
       "      <td>0</td>\n",
       "      <td>0</td>\n",
       "      <td>0</td>\n",
       "      <td>0</td>\n",
       "      <td>0</td>\n",
       "      <td>0</td>\n",
       "    </tr>\n",
       "  </tbody>\n",
       "</table>\n",
       "<p>60 rows × 32 columns</p>\n",
       "</div>"
      ],
      "text/plain": [
       "         Date  Converted Projects  PA Small  PA Medium  PA Large  AW Small  \\\n",
       "0  2026-01-01                   0         4          6         1         4   \n",
       "1  2026-02-01                   0         8         12         2         8   \n",
       "2  2026-03-01                   0        12         18         3        12   \n",
       "3  2026-04-01                   0        12         24         4        16   \n",
       "4  2026-05-01                   0        12         29         5        20   \n",
       "5  2026-06-01                   0        12         34         6        24   \n",
       "6  2026-07-01                   0        12         33         7        28   \n",
       "7  2026-08-01                   0        12         32         8        32   \n",
       "8  2026-09-01                   0        11         31         8        35   \n",
       "9  2026-10-01                   0        10         30         8        38   \n",
       "10 2026-11-01                   0         9         30         8        41   \n",
       "11 2026-12-01                   0         9         30         8        40   \n",
       "12 2027-01-01                   0         9         29         8        38   \n",
       "13 2027-02-01                   0         9         28         8        36   \n",
       "14 2027-03-01                   0         8         26         8        34   \n",
       "15 2027-04-01                   0         7         24         8        32   \n",
       "16 2027-05-01                   0         6         22         8        30   \n",
       "17 2027-06-01                   0         6         20         8        28   \n",
       "18 2027-07-01                   0         6         19         8        26   \n",
       "19 2027-08-01                   0         6         18         7        25   \n",
       "20 2027-09-01                   0         6         18         6        23   \n",
       "21 2027-10-01                   0         6         18         5        21   \n",
       "22 2027-11-01                   0         6         18         4        19   \n",
       "23 2027-12-01                   0         6         18         3        18   \n",
       "24 2028-01-01                   0         4         15         2        16   \n",
       "25 2028-02-01                   0         2         12         1        14   \n",
       "26 2028-03-01                   0         0          9         0        12   \n",
       "27 2028-04-01                   0         0          6         0        10   \n",
       "28 2028-05-01                   0         0          3         0         8   \n",
       "29 2028-06-01                   0         0          0         0         6   \n",
       "30 2028-07-01                   0         0          0         0         4   \n",
       "31 2028-08-01                   0         0          0         0         3   \n",
       "32 2028-09-01                   0         0          0         0         2   \n",
       "33 2028-10-01                   0         0          0         0         1   \n",
       "34 2028-11-01                   0         0          0         0         0   \n",
       "35 2028-12-01                   0         0          0         0         0   \n",
       "36 2029-01-01                   0         0          0         0         0   \n",
       "37 2029-02-01                   0         0          0         0         0   \n",
       "38 2029-03-01                   0         0          0         0         0   \n",
       "39 2029-04-01                   0         0          0         0         0   \n",
       "40 2029-05-01                   0         0          0         0         0   \n",
       "41 2029-06-01                   0         0          0         0         0   \n",
       "42 2029-07-01                   0         0          0         0         0   \n",
       "43 2029-08-01                   0         0          0         0         0   \n",
       "44 2029-09-01                   0         0          0         0         0   \n",
       "45 2029-10-01                   0         0          0         0         0   \n",
       "46 2029-11-01                   0         0          0         0         0   \n",
       "47 2029-12-01                   0         0          0         0         0   \n",
       "48 2030-01-01                   0         0          0         0         0   \n",
       "49 2030-02-01                   0         0          0         0         0   \n",
       "50 2030-03-01                   0         0          0         0         0   \n",
       "51 2030-04-01                   0         0          0         0         0   \n",
       "52 2030-05-01                   0         0          0         0         0   \n",
       "53 2030-06-01                   0         0          0         0         0   \n",
       "54 2030-07-01                   0         0          0         0         0   \n",
       "55 2030-08-01                   0         0          0         0         0   \n",
       "56 2030-09-01                   0         0          0         0         0   \n",
       "57 2030-10-01                   0         0          0         0         0   \n",
       "58 2030-11-01                   0         0          0         0         0   \n",
       "59 2030-12-01                   0         0          0         0         0   \n",
       "\n",
       "    AW Medium  AW Large  Analyst Hired (Small)  Analyst Hired (Medium)  ...  \\\n",
       "0           1         1                      1                       1  ...   \n",
       "1           2         2                      1                       1  ...   \n",
       "2           3         3                      1                       2  ...   \n",
       "3           4         4                      1                       2  ...   \n",
       "4           5         5                      1                       3  ...   \n",
       "5           5         6                      1                       3  ...   \n",
       "6           5         7                      1                       3  ...   \n",
       "7           5         8                      1                       3  ...   \n",
       "8           5         9                      1                       3  ...   \n",
       "9           5        10                      1                       3  ...   \n",
       "10          5        10                      1                       3  ...   \n",
       "11          5        10                      1                       3  ...   \n",
       "12          6        11                      1                       3  ...   \n",
       "13          7        12                      1                       3  ...   \n",
       "14          8        13                      1                       3  ...   \n",
       "15          8        14                      1                       2  ...   \n",
       "16          8        15                      1                       2  ...   \n",
       "17          8        16                      1                       2  ...   \n",
       "18          8        17                      1                       2  ...   \n",
       "19          8        18                      1                       2  ...   \n",
       "20          7        19                      1                       2  ...   \n",
       "21          6        20                      1                       2  ...   \n",
       "22          5        21                      1                       2  ...   \n",
       "23          4        22                      1                       2  ...   \n",
       "24          3        22                      1                       2  ...   \n",
       "25          3        21                      1                       1  ...   \n",
       "26          3        20                      0                       1  ...   \n",
       "27          3        19                      0                       1  ...   \n",
       "28          3        18                      0                       1  ...   \n",
       "29          3        17                      0                       0  ...   \n",
       "30          3        16                      0                       0  ...   \n",
       "31          3        15                      0                       0  ...   \n",
       "32          2        14                      0                       0  ...   \n",
       "33          1        13                      0                       0  ...   \n",
       "34          0        12                      0                       0  ...   \n",
       "35          0        12                      0                       0  ...   \n",
       "36          0        12                      0                       0  ...   \n",
       "37          0        11                      0                       0  ...   \n",
       "38          0        10                      0                       0  ...   \n",
       "39          0         9                      0                       0  ...   \n",
       "40          0         8                      0                       0  ...   \n",
       "41          0         7                      0                       0  ...   \n",
       "42          0         6                      0                       0  ...   \n",
       "43          0         5                      0                       0  ...   \n",
       "44          0         4                      0                       0  ...   \n",
       "45          0         3                      0                       0  ...   \n",
       "46          0         2                      0                       0  ...   \n",
       "47          0         1                      0                       0  ...   \n",
       "48          0         0                      0                       0  ...   \n",
       "49          0         0                      0                       0  ...   \n",
       "50          0         0                      0                       0  ...   \n",
       "51          0         0                      0                       0  ...   \n",
       "52          0         0                      0                       0  ...   \n",
       "53          0         0                      0                       0  ...   \n",
       "54          0         0                      0                       0  ...   \n",
       "55          0         0                      0                       0  ...   \n",
       "56          0         0                      0                       0  ...   \n",
       "57          0         0                      0                       0  ...   \n",
       "58          0         0                      0                       0  ...   \n",
       "59          0         0                      0                       0  ...   \n",
       "\n",
       "    Tax Engineer Hired (Large)  Tax Engineer Hired (Total)  \\\n",
       "0                            1                           3   \n",
       "1                            1                           3   \n",
       "2                            1                           3   \n",
       "3                            2                           5   \n",
       "4                            2                           5   \n",
       "5                            2                           5   \n",
       "6                            3                           7   \n",
       "7                            3                           7   \n",
       "8                            3                           7   \n",
       "9                            4                           9   \n",
       "10                           4                           9   \n",
       "11                           4                           9   \n",
       "12                           4                           9   \n",
       "13                           4                          10   \n",
       "14                           5                          10   \n",
       "15                           5                          10   \n",
       "16                           5                          10   \n",
       "17                           6                          11   \n",
       "18                           6                          11   \n",
       "19                           6                          11   \n",
       "20                           7                          11   \n",
       "21                           7                          10   \n",
       "22                           7                          10   \n",
       "23                           8                          11   \n",
       "24                           8                          11   \n",
       "25                           7                          10   \n",
       "26                           7                           9   \n",
       "27                           7                           9   \n",
       "28                           6                           8   \n",
       "29                           6                           8   \n",
       "30                           6                           8   \n",
       "31                           5                           7   \n",
       "32                           5                           7   \n",
       "33                           5                           7   \n",
       "34                           4                           4   \n",
       "35                           4                           4   \n",
       "36                           4                           4   \n",
       "37                           4                           4   \n",
       "38                           4                           4   \n",
       "39                           3                           3   \n",
       "40                           3                           3   \n",
       "41                           3                           3   \n",
       "42                           2                           2   \n",
       "43                           2                           2   \n",
       "44                           2                           2   \n",
       "45                           1                           1   \n",
       "46                           1                           1   \n",
       "47                           1                           1   \n",
       "48                           0                           0   \n",
       "49                           0                           0   \n",
       "50                           0                           0   \n",
       "51                           0                           0   \n",
       "52                           0                           0   \n",
       "53                           0                           0   \n",
       "54                           0                           0   \n",
       "55                           0                           0   \n",
       "56                           0                           0   \n",
       "57                           0                           0   \n",
       "58                           0                           0   \n",
       "59                           0                           0   \n",
       "\n",
       "    Tax Technical Hired (Small)  Tax Technical Hired (Medium)  \\\n",
       "0                             1                             1   \n",
       "1                             2                             1   \n",
       "2                             3                             1   \n",
       "3                             4                             1   \n",
       "4                             5                             1   \n",
       "5                             5                             1   \n",
       "6                             6                             1   \n",
       "7                             7                             1   \n",
       "8                             8                             1   \n",
       "9                             8                             1   \n",
       "10                            9                             1   \n",
       "11                            9                             1   \n",
       "12                            8                             2   \n",
       "13                            8                             2   \n",
       "14                            7                             2   \n",
       "15                            7                             2   \n",
       "16                            7                             2   \n",
       "17                            6                             2   \n",
       "18                            6                             2   \n",
       "19                            6                             2   \n",
       "20                            5                             2   \n",
       "21                            5                             2   \n",
       "22                            4                             1   \n",
       "23                            4                             1   \n",
       "24                            4                             1   \n",
       "25                            3                             1   \n",
       "26                            3                             1   \n",
       "27                            2                             1   \n",
       "28                            2                             1   \n",
       "29                            2                             1   \n",
       "30                            1                             1   \n",
       "31                            1                             1   \n",
       "32                            1                             1   \n",
       "33                            1                             1   \n",
       "34                            0                             0   \n",
       "35                            0                             0   \n",
       "36                            0                             0   \n",
       "37                            0                             0   \n",
       "38                            0                             0   \n",
       "39                            0                             0   \n",
       "40                            0                             0   \n",
       "41                            0                             0   \n",
       "42                            0                             0   \n",
       "43                            0                             0   \n",
       "44                            0                             0   \n",
       "45                            0                             0   \n",
       "46                            0                             0   \n",
       "47                            0                             0   \n",
       "48                            0                             0   \n",
       "49                            0                             0   \n",
       "50                            0                             0   \n",
       "51                            0                             0   \n",
       "52                            0                             0   \n",
       "53                            0                             0   \n",
       "54                            0                             0   \n",
       "55                            0                             0   \n",
       "56                            0                             0   \n",
       "57                            0                             0   \n",
       "58                            0                             0   \n",
       "59                            0                             0   \n",
       "\n",
       "    Tax Technical Hired (Large)  Tax Technical Hired (Total)  \\\n",
       "0                             1                            3   \n",
       "1                             2                            5   \n",
       "2                             3                            7   \n",
       "3                             4                            9   \n",
       "4                             5                           11   \n",
       "5                             6                           12   \n",
       "6                             7                           14   \n",
       "7                             8                           16   \n",
       "8                             9                           18   \n",
       "9                            10                           19   \n",
       "10                           10                           20   \n",
       "11                           10                           20   \n",
       "12                           11                           21   \n",
       "13                           12                           22   \n",
       "14                           13                           22   \n",
       "15                           14                           23   \n",
       "16                           15                           24   \n",
       "17                           16                           24   \n",
       "18                           17                           25   \n",
       "19                           18                           26   \n",
       "20                           19                           26   \n",
       "21                           20                           27   \n",
       "22                           21                           26   \n",
       "23                           22                           27   \n",
       "24                           22                           27   \n",
       "25                           21                           25   \n",
       "26                           20                           24   \n",
       "27                           19                           22   \n",
       "28                           18                           21   \n",
       "29                           17                           20   \n",
       "30                           16                           18   \n",
       "31                           15                           17   \n",
       "32                           14                           16   \n",
       "33                           13                           15   \n",
       "34                           12                           12   \n",
       "35                           12                           12   \n",
       "36                           12                           12   \n",
       "37                           11                           11   \n",
       "38                           10                           10   \n",
       "39                            9                            9   \n",
       "40                            8                            8   \n",
       "41                            7                            7   \n",
       "42                            6                            6   \n",
       "43                            5                            5   \n",
       "44                            4                            4   \n",
       "45                            3                            3   \n",
       "46                            2                            2   \n",
       "47                            1                            1   \n",
       "48                            0                            0   \n",
       "49                            0                            0   \n",
       "50                            0                            0   \n",
       "51                            0                            0   \n",
       "52                            0                            0   \n",
       "53                            0                            0   \n",
       "54                            0                            0   \n",
       "55                            0                            0   \n",
       "56                            0                            0   \n",
       "57                            0                            0   \n",
       "58                            0                            0   \n",
       "59                            0                            0   \n",
       "\n",
       "    Planning Engineer Hired (Small)  Planning Engineer Hired (Medium)  \\\n",
       "0                                 0                                 1   \n",
       "1                                 0                                 1   \n",
       "2                                 0                                 1   \n",
       "3                                 0                                 1   \n",
       "4                                 0                                 1   \n",
       "5                                 0                                 1   \n",
       "6                                 0                                 1   \n",
       "7                                 0                                 1   \n",
       "8                                 0                                 1   \n",
       "9                                 0                                 1   \n",
       "10                                0                                 1   \n",
       "11                                0                                 1   \n",
       "12                                0                                 1   \n",
       "13                                0                                 1   \n",
       "14                                0                                 1   \n",
       "15                                0                                 1   \n",
       "16                                0                                 1   \n",
       "17                                0                                 1   \n",
       "18                                0                                 1   \n",
       "19                                0                                 1   \n",
       "20                                0                                 1   \n",
       "21                                0                                 1   \n",
       "22                                0                                 1   \n",
       "23                                0                                 1   \n",
       "24                                0                                 1   \n",
       "25                                0                                 1   \n",
       "26                                0                                 1   \n",
       "27                                0                                 1   \n",
       "28                                0                                 1   \n",
       "29                                0                                 1   \n",
       "30                                0                                 1   \n",
       "31                                0                                 1   \n",
       "32                                0                                 1   \n",
       "33                                0                                 1   \n",
       "34                                0                                 0   \n",
       "35                                0                                 0   \n",
       "36                                0                                 0   \n",
       "37                                0                                 0   \n",
       "38                                0                                 0   \n",
       "39                                0                                 0   \n",
       "40                                0                                 0   \n",
       "41                                0                                 0   \n",
       "42                                0                                 0   \n",
       "43                                0                                 0   \n",
       "44                                0                                 0   \n",
       "45                                0                                 0   \n",
       "46                                0                                 0   \n",
       "47                                0                                 0   \n",
       "48                                0                                 0   \n",
       "49                                0                                 0   \n",
       "50                                0                                 0   \n",
       "51                                0                                 0   \n",
       "52                                0                                 0   \n",
       "53                                0                                 0   \n",
       "54                                0                                 0   \n",
       "55                                0                                 0   \n",
       "56                                0                                 0   \n",
       "57                                0                                 0   \n",
       "58                                0                                 0   \n",
       "59                                0                                 0   \n",
       "\n",
       "    Planning Engineer Hired (Large)  Planning Engineer Hired (Total)  \n",
       "0                                 1                                2  \n",
       "1                                 1                                2  \n",
       "2                                 1                                2  \n",
       "3                                 1                                2  \n",
       "4                                 1                                2  \n",
       "5                                 1                                2  \n",
       "6                                 2                                3  \n",
       "7                                 2                                3  \n",
       "8                                 2                                3  \n",
       "9                                 2                                3  \n",
       "10                                2                                3  \n",
       "11                                2                                3  \n",
       "12                                2                                3  \n",
       "13                                2                                3  \n",
       "14                                3                                4  \n",
       "15                                3                                4  \n",
       "16                                3                                4  \n",
       "17                                3                                4  \n",
       "18                                3                                4  \n",
       "19                                3                                4  \n",
       "20                                4                                5  \n",
       "21                                4                                5  \n",
       "22                                4                                5  \n",
       "23                                4                                5  \n",
       "24                                4                                5  \n",
       "25                                4                                5  \n",
       "26                                4                                5  \n",
       "27                                4                                5  \n",
       "28                                3                                4  \n",
       "29                                3                                4  \n",
       "30                                3                                4  \n",
       "31                                3                                4  \n",
       "32                                3                                4  \n",
       "33                                3                                4  \n",
       "34                                2                                2  \n",
       "35                                2                                2  \n",
       "36                                2                                2  \n",
       "37                                2                                2  \n",
       "38                                2                                2  \n",
       "39                                2                                2  \n",
       "40                                2                                2  \n",
       "41                                2                                2  \n",
       "42                                1                                1  \n",
       "43                                1                                1  \n",
       "44                                1                                1  \n",
       "45                                1                                1  \n",
       "46                                1                                1  \n",
       "47                                1                                1  \n",
       "48                                0                                0  \n",
       "49                                0                                0  \n",
       "50                                0                                0  \n",
       "51                                0                                0  \n",
       "52                                0                                0  \n",
       "53                                0                                0  \n",
       "54                                0                                0  \n",
       "55                                0                                0  \n",
       "56                                0                                0  \n",
       "57                                0                                0  \n",
       "58                                0                                0  \n",
       "59                                0                                0  \n",
       "\n",
       "[60 rows x 32 columns]"
      ]
     },
     "execution_count": 65,
     "metadata": {},
     "output_type": "execute_result"
    }
   ],
   "source": [
    "simulation_df"
   ]
  },
  {
   "cell_type": "code",
   "execution_count": 84,
   "id": "56516d89",
   "metadata": {},
   "outputs": [
    {
     "data": {
      "application/vnd.plotly.v1+json": {
       "config": {
        "plotlyServerURL": "https://plot.ly"
       },
       "data": [
        {
         "hovertemplate": "Employee Role=Analyst Hired (Total)<br>Date=%{x}<br>Number of Employees=%{y}<extra></extra>",
         "legendgroup": "Analyst Hired (Total)",
         "line": {
          "color": "#636efa",
          "dash": "solid"
         },
         "marker": {
          "symbol": "circle"
         },
         "mode": "lines",
         "name": "Analyst",
         "orientation": "v",
         "showlegend": true,
         "type": "scatter",
         "x": [
          "2026-01-01T00:00:00.000000000",
          "2026-02-01T00:00:00.000000000",
          "2026-03-01T00:00:00.000000000",
          "2026-04-01T00:00:00.000000000",
          "2026-05-01T00:00:00.000000000",
          "2026-06-01T00:00:00.000000000",
          "2026-07-01T00:00:00.000000000",
          "2026-08-01T00:00:00.000000000",
          "2026-09-01T00:00:00.000000000",
          "2026-10-01T00:00:00.000000000",
          "2026-11-01T00:00:00.000000000",
          "2026-12-01T00:00:00.000000000",
          "2027-01-01T00:00:00.000000000",
          "2027-02-01T00:00:00.000000000",
          "2027-03-01T00:00:00.000000000",
          "2027-04-01T00:00:00.000000000",
          "2027-05-01T00:00:00.000000000",
          "2027-06-01T00:00:00.000000000",
          "2027-07-01T00:00:00.000000000",
          "2027-08-01T00:00:00.000000000",
          "2027-09-01T00:00:00.000000000",
          "2027-10-01T00:00:00.000000000",
          "2027-11-01T00:00:00.000000000",
          "2027-12-01T00:00:00.000000000"
         ],
         "xaxis": "x",
         "y": {
          "bdata": "AwMEBAUFBgYGBgYGBgYGBQUFBQUEBAQE",
          "dtype": "i1"
         },
         "yaxis": "y"
        },
        {
         "hovertemplate": "Employee Role=Technical Hired (Total)<br>Date=%{x}<br>Number of Employees=%{y}<extra></extra>",
         "legendgroup": "Technical Hired (Total)",
         "line": {
          "color": "#EF553B",
          "dash": "solid"
         },
         "marker": {
          "symbol": "circle"
         },
         "mode": "lines",
         "name": "Technical",
         "orientation": "v",
         "showlegend": true,
         "type": "scatter",
         "x": [
          "2026-01-01T00:00:00.000000000",
          "2026-02-01T00:00:00.000000000",
          "2026-03-01T00:00:00.000000000",
          "2026-04-01T00:00:00.000000000",
          "2026-05-01T00:00:00.000000000",
          "2026-06-01T00:00:00.000000000",
          "2026-07-01T00:00:00.000000000",
          "2026-08-01T00:00:00.000000000",
          "2026-09-01T00:00:00.000000000",
          "2026-10-01T00:00:00.000000000",
          "2026-11-01T00:00:00.000000000",
          "2026-12-01T00:00:00.000000000",
          "2027-01-01T00:00:00.000000000",
          "2027-02-01T00:00:00.000000000",
          "2027-03-01T00:00:00.000000000",
          "2027-04-01T00:00:00.000000000",
          "2027-05-01T00:00:00.000000000",
          "2027-06-01T00:00:00.000000000",
          "2027-07-01T00:00:00.000000000",
          "2027-08-01T00:00:00.000000000",
          "2027-09-01T00:00:00.000000000",
          "2027-10-01T00:00:00.000000000",
          "2027-11-01T00:00:00.000000000",
          "2027-12-01T00:00:00.000000000"
         ],
         "xaxis": "x",
         "y": {
          "bdata": "AwMEBAUFBgYGBgYGBgYGBQUFBQUEBAQE",
          "dtype": "i1"
         },
         "yaxis": "y"
        },
        {
         "hovertemplate": "Employee Role=Project Manager Hired (Total)<br>Date=%{x}<br>Number of Employees=%{y}<extra></extra>",
         "legendgroup": "Project Manager Hired (Total)",
         "line": {
          "color": "#00cc96",
          "dash": "solid"
         },
         "marker": {
          "symbol": "circle"
         },
         "mode": "lines",
         "name": "Project Manager",
         "orientation": "v",
         "showlegend": true,
         "type": "scatter",
         "x": [
          "2026-01-01T00:00:00.000000000",
          "2026-02-01T00:00:00.000000000",
          "2026-03-01T00:00:00.000000000",
          "2026-04-01T00:00:00.000000000",
          "2026-05-01T00:00:00.000000000",
          "2026-06-01T00:00:00.000000000",
          "2026-07-01T00:00:00.000000000",
          "2026-08-01T00:00:00.000000000",
          "2026-09-01T00:00:00.000000000",
          "2026-10-01T00:00:00.000000000",
          "2026-11-01T00:00:00.000000000",
          "2026-12-01T00:00:00.000000000",
          "2027-01-01T00:00:00.000000000",
          "2027-02-01T00:00:00.000000000",
          "2027-03-01T00:00:00.000000000",
          "2027-04-01T00:00:00.000000000",
          "2027-05-01T00:00:00.000000000",
          "2027-06-01T00:00:00.000000000",
          "2027-07-01T00:00:00.000000000",
          "2027-08-01T00:00:00.000000000",
          "2027-09-01T00:00:00.000000000",
          "2027-10-01T00:00:00.000000000",
          "2027-11-01T00:00:00.000000000",
          "2027-12-01T00:00:00.000000000"
         ],
         "xaxis": "x",
         "y": {
          "bdata": "AgICAgICAwMDAwMDAwQFBQUFBQUGBQUF",
          "dtype": "i1"
         },
         "yaxis": "y"
        },
        {
         "hovertemplate": "Employee Role=Tax Engineer Hired (Total)<br>Date=%{x}<br>Number of Employees=%{y}<extra></extra>",
         "legendgroup": "Tax Engineer Hired (Total)",
         "line": {
          "color": "#ab63fa",
          "dash": "solid"
         },
         "marker": {
          "symbol": "circle"
         },
         "mode": "lines",
         "name": "Tax Engineer",
         "orientation": "v",
         "showlegend": true,
         "type": "scatter",
         "x": [
          "2026-01-01T00:00:00.000000000",
          "2026-02-01T00:00:00.000000000",
          "2026-03-01T00:00:00.000000000",
          "2026-04-01T00:00:00.000000000",
          "2026-05-01T00:00:00.000000000",
          "2026-06-01T00:00:00.000000000",
          "2026-07-01T00:00:00.000000000",
          "2026-08-01T00:00:00.000000000",
          "2026-09-01T00:00:00.000000000",
          "2026-10-01T00:00:00.000000000",
          "2026-11-01T00:00:00.000000000",
          "2026-12-01T00:00:00.000000000",
          "2027-01-01T00:00:00.000000000",
          "2027-02-01T00:00:00.000000000",
          "2027-03-01T00:00:00.000000000",
          "2027-04-01T00:00:00.000000000",
          "2027-05-01T00:00:00.000000000",
          "2027-06-01T00:00:00.000000000",
          "2027-07-01T00:00:00.000000000",
          "2027-08-01T00:00:00.000000000",
          "2027-09-01T00:00:00.000000000",
          "2027-10-01T00:00:00.000000000",
          "2027-11-01T00:00:00.000000000",
          "2027-12-01T00:00:00.000000000"
         ],
         "xaxis": "x",
         "y": {
          "bdata": "AwMDBQUFBwcHCQkJCQoKCgoLCwsLCgoL",
          "dtype": "i1"
         },
         "yaxis": "y"
        },
        {
         "hovertemplate": "Employee Role=Tax Technical Hired (Total)<br>Date=%{x}<br>Number of Employees=%{y}<extra></extra>",
         "legendgroup": "Tax Technical Hired (Total)",
         "line": {
          "color": "#FFA15A",
          "dash": "solid"
         },
         "marker": {
          "symbol": "circle"
         },
         "mode": "lines",
         "name": "Tax Technical",
         "orientation": "v",
         "showlegend": true,
         "type": "scatter",
         "x": [
          "2026-01-01T00:00:00.000000000",
          "2026-02-01T00:00:00.000000000",
          "2026-03-01T00:00:00.000000000",
          "2026-04-01T00:00:00.000000000",
          "2026-05-01T00:00:00.000000000",
          "2026-06-01T00:00:00.000000000",
          "2026-07-01T00:00:00.000000000",
          "2026-08-01T00:00:00.000000000",
          "2026-09-01T00:00:00.000000000",
          "2026-10-01T00:00:00.000000000",
          "2026-11-01T00:00:00.000000000",
          "2026-12-01T00:00:00.000000000",
          "2027-01-01T00:00:00.000000000",
          "2027-02-01T00:00:00.000000000",
          "2027-03-01T00:00:00.000000000",
          "2027-04-01T00:00:00.000000000",
          "2027-05-01T00:00:00.000000000",
          "2027-06-01T00:00:00.000000000",
          "2027-07-01T00:00:00.000000000",
          "2027-08-01T00:00:00.000000000",
          "2027-09-01T00:00:00.000000000",
          "2027-10-01T00:00:00.000000000",
          "2027-11-01T00:00:00.000000000",
          "2027-12-01T00:00:00.000000000"
         ],
         "xaxis": "x",
         "y": {
          "bdata": "AwUHCQsMDhASExQUFRYWFxgYGRoaGxob",
          "dtype": "i1"
         },
         "yaxis": "y"
        },
        {
         "hovertemplate": "Employee Role=Planning Engineer Hired (Total)<br>Date=%{x}<br>Number of Employees=%{y}<extra></extra>",
         "legendgroup": "Planning Engineer Hired (Total)",
         "line": {
          "color": "#19d3f3",
          "dash": "solid"
         },
         "marker": {
          "symbol": "circle"
         },
         "mode": "lines",
         "name": "Planning Engineer",
         "orientation": "v",
         "showlegend": true,
         "type": "scatter",
         "x": [
          "2026-01-01T00:00:00.000000000",
          "2026-02-01T00:00:00.000000000",
          "2026-03-01T00:00:00.000000000",
          "2026-04-01T00:00:00.000000000",
          "2026-05-01T00:00:00.000000000",
          "2026-06-01T00:00:00.000000000",
          "2026-07-01T00:00:00.000000000",
          "2026-08-01T00:00:00.000000000",
          "2026-09-01T00:00:00.000000000",
          "2026-10-01T00:00:00.000000000",
          "2026-11-01T00:00:00.000000000",
          "2026-12-01T00:00:00.000000000",
          "2027-01-01T00:00:00.000000000",
          "2027-02-01T00:00:00.000000000",
          "2027-03-01T00:00:00.000000000",
          "2027-04-01T00:00:00.000000000",
          "2027-05-01T00:00:00.000000000",
          "2027-06-01T00:00:00.000000000",
          "2027-07-01T00:00:00.000000000",
          "2027-08-01T00:00:00.000000000",
          "2027-09-01T00:00:00.000000000",
          "2027-10-01T00:00:00.000000000",
          "2027-11-01T00:00:00.000000000",
          "2027-12-01T00:00:00.000000000"
         ],
         "xaxis": "x",
         "y": {
          "bdata": "AgICAgICAwMDAwMDAwMEBAQEBAQFBQUF",
          "dtype": "i1"
         },
         "yaxis": "y"
        }
       ],
       "layout": {
        "legend": {
         "title": {
          "text": "Employee Role"
         },
         "tracegroupgap": 0
        },
        "template": {
         "data": {
          "bar": [
           {
            "error_x": {
             "color": "#2a3f5f"
            },
            "error_y": {
             "color": "#2a3f5f"
            },
            "marker": {
             "line": {
              "color": "#E5ECF6",
              "width": 0.5
             },
             "pattern": {
              "fillmode": "overlay",
              "size": 10,
              "solidity": 0.2
             }
            },
            "type": "bar"
           }
          ],
          "barpolar": [
           {
            "marker": {
             "line": {
              "color": "#E5ECF6",
              "width": 0.5
             },
             "pattern": {
              "fillmode": "overlay",
              "size": 10,
              "solidity": 0.2
             }
            },
            "type": "barpolar"
           }
          ],
          "carpet": [
           {
            "aaxis": {
             "endlinecolor": "#2a3f5f",
             "gridcolor": "white",
             "linecolor": "white",
             "minorgridcolor": "white",
             "startlinecolor": "#2a3f5f"
            },
            "baxis": {
             "endlinecolor": "#2a3f5f",
             "gridcolor": "white",
             "linecolor": "white",
             "minorgridcolor": "white",
             "startlinecolor": "#2a3f5f"
            },
            "type": "carpet"
           }
          ],
          "choropleth": [
           {
            "colorbar": {
             "outlinewidth": 0,
             "ticks": ""
            },
            "type": "choropleth"
           }
          ],
          "contour": [
           {
            "colorbar": {
             "outlinewidth": 0,
             "ticks": ""
            },
            "colorscale": [
             [
              0,
              "#0d0887"
             ],
             [
              0.1111111111111111,
              "#46039f"
             ],
             [
              0.2222222222222222,
              "#7201a8"
             ],
             [
              0.3333333333333333,
              "#9c179e"
             ],
             [
              0.4444444444444444,
              "#bd3786"
             ],
             [
              0.5555555555555556,
              "#d8576b"
             ],
             [
              0.6666666666666666,
              "#ed7953"
             ],
             [
              0.7777777777777778,
              "#fb9f3a"
             ],
             [
              0.8888888888888888,
              "#fdca26"
             ],
             [
              1,
              "#f0f921"
             ]
            ],
            "type": "contour"
           }
          ],
          "contourcarpet": [
           {
            "colorbar": {
             "outlinewidth": 0,
             "ticks": ""
            },
            "type": "contourcarpet"
           }
          ],
          "heatmap": [
           {
            "colorbar": {
             "outlinewidth": 0,
             "ticks": ""
            },
            "colorscale": [
             [
              0,
              "#0d0887"
             ],
             [
              0.1111111111111111,
              "#46039f"
             ],
             [
              0.2222222222222222,
              "#7201a8"
             ],
             [
              0.3333333333333333,
              "#9c179e"
             ],
             [
              0.4444444444444444,
              "#bd3786"
             ],
             [
              0.5555555555555556,
              "#d8576b"
             ],
             [
              0.6666666666666666,
              "#ed7953"
             ],
             [
              0.7777777777777778,
              "#fb9f3a"
             ],
             [
              0.8888888888888888,
              "#fdca26"
             ],
             [
              1,
              "#f0f921"
             ]
            ],
            "type": "heatmap"
           }
          ],
          "histogram": [
           {
            "marker": {
             "pattern": {
              "fillmode": "overlay",
              "size": 10,
              "solidity": 0.2
             }
            },
            "type": "histogram"
           }
          ],
          "histogram2d": [
           {
            "colorbar": {
             "outlinewidth": 0,
             "ticks": ""
            },
            "colorscale": [
             [
              0,
              "#0d0887"
             ],
             [
              0.1111111111111111,
              "#46039f"
             ],
             [
              0.2222222222222222,
              "#7201a8"
             ],
             [
              0.3333333333333333,
              "#9c179e"
             ],
             [
              0.4444444444444444,
              "#bd3786"
             ],
             [
              0.5555555555555556,
              "#d8576b"
             ],
             [
              0.6666666666666666,
              "#ed7953"
             ],
             [
              0.7777777777777778,
              "#fb9f3a"
             ],
             [
              0.8888888888888888,
              "#fdca26"
             ],
             [
              1,
              "#f0f921"
             ]
            ],
            "type": "histogram2d"
           }
          ],
          "histogram2dcontour": [
           {
            "colorbar": {
             "outlinewidth": 0,
             "ticks": ""
            },
            "colorscale": [
             [
              0,
              "#0d0887"
             ],
             [
              0.1111111111111111,
              "#46039f"
             ],
             [
              0.2222222222222222,
              "#7201a8"
             ],
             [
              0.3333333333333333,
              "#9c179e"
             ],
             [
              0.4444444444444444,
              "#bd3786"
             ],
             [
              0.5555555555555556,
              "#d8576b"
             ],
             [
              0.6666666666666666,
              "#ed7953"
             ],
             [
              0.7777777777777778,
              "#fb9f3a"
             ],
             [
              0.8888888888888888,
              "#fdca26"
             ],
             [
              1,
              "#f0f921"
             ]
            ],
            "type": "histogram2dcontour"
           }
          ],
          "mesh3d": [
           {
            "colorbar": {
             "outlinewidth": 0,
             "ticks": ""
            },
            "type": "mesh3d"
           }
          ],
          "parcoords": [
           {
            "line": {
             "colorbar": {
              "outlinewidth": 0,
              "ticks": ""
             }
            },
            "type": "parcoords"
           }
          ],
          "pie": [
           {
            "automargin": true,
            "type": "pie"
           }
          ],
          "scatter": [
           {
            "fillpattern": {
             "fillmode": "overlay",
             "size": 10,
             "solidity": 0.2
            },
            "type": "scatter"
           }
          ],
          "scatter3d": [
           {
            "line": {
             "colorbar": {
              "outlinewidth": 0,
              "ticks": ""
             }
            },
            "marker": {
             "colorbar": {
              "outlinewidth": 0,
              "ticks": ""
             }
            },
            "type": "scatter3d"
           }
          ],
          "scattercarpet": [
           {
            "marker": {
             "colorbar": {
              "outlinewidth": 0,
              "ticks": ""
             }
            },
            "type": "scattercarpet"
           }
          ],
          "scattergeo": [
           {
            "marker": {
             "colorbar": {
              "outlinewidth": 0,
              "ticks": ""
             }
            },
            "type": "scattergeo"
           }
          ],
          "scattergl": [
           {
            "marker": {
             "colorbar": {
              "outlinewidth": 0,
              "ticks": ""
             }
            },
            "type": "scattergl"
           }
          ],
          "scattermap": [
           {
            "marker": {
             "colorbar": {
              "outlinewidth": 0,
              "ticks": ""
             }
            },
            "type": "scattermap"
           }
          ],
          "scattermapbox": [
           {
            "marker": {
             "colorbar": {
              "outlinewidth": 0,
              "ticks": ""
             }
            },
            "type": "scattermapbox"
           }
          ],
          "scatterpolar": [
           {
            "marker": {
             "colorbar": {
              "outlinewidth": 0,
              "ticks": ""
             }
            },
            "type": "scatterpolar"
           }
          ],
          "scatterpolargl": [
           {
            "marker": {
             "colorbar": {
              "outlinewidth": 0,
              "ticks": ""
             }
            },
            "type": "scatterpolargl"
           }
          ],
          "scatterternary": [
           {
            "marker": {
             "colorbar": {
              "outlinewidth": 0,
              "ticks": ""
             }
            },
            "type": "scatterternary"
           }
          ],
          "surface": [
           {
            "colorbar": {
             "outlinewidth": 0,
             "ticks": ""
            },
            "colorscale": [
             [
              0,
              "#0d0887"
             ],
             [
              0.1111111111111111,
              "#46039f"
             ],
             [
              0.2222222222222222,
              "#7201a8"
             ],
             [
              0.3333333333333333,
              "#9c179e"
             ],
             [
              0.4444444444444444,
              "#bd3786"
             ],
             [
              0.5555555555555556,
              "#d8576b"
             ],
             [
              0.6666666666666666,
              "#ed7953"
             ],
             [
              0.7777777777777778,
              "#fb9f3a"
             ],
             [
              0.8888888888888888,
              "#fdca26"
             ],
             [
              1,
              "#f0f921"
             ]
            ],
            "type": "surface"
           }
          ],
          "table": [
           {
            "cells": {
             "fill": {
              "color": "#EBF0F8"
             },
             "line": {
              "color": "white"
             }
            },
            "header": {
             "fill": {
              "color": "#C8D4E3"
             },
             "line": {
              "color": "white"
             }
            },
            "type": "table"
           }
          ]
         },
         "layout": {
          "annotationdefaults": {
           "arrowcolor": "#2a3f5f",
           "arrowhead": 0,
           "arrowwidth": 1
          },
          "autotypenumbers": "strict",
          "coloraxis": {
           "colorbar": {
            "outlinewidth": 0,
            "ticks": ""
           }
          },
          "colorscale": {
           "diverging": [
            [
             0,
             "#8e0152"
            ],
            [
             0.1,
             "#c51b7d"
            ],
            [
             0.2,
             "#de77ae"
            ],
            [
             0.3,
             "#f1b6da"
            ],
            [
             0.4,
             "#fde0ef"
            ],
            [
             0.5,
             "#f7f7f7"
            ],
            [
             0.6,
             "#e6f5d0"
            ],
            [
             0.7,
             "#b8e186"
            ],
            [
             0.8,
             "#7fbc41"
            ],
            [
             0.9,
             "#4d9221"
            ],
            [
             1,
             "#276419"
            ]
           ],
           "sequential": [
            [
             0,
             "#0d0887"
            ],
            [
             0.1111111111111111,
             "#46039f"
            ],
            [
             0.2222222222222222,
             "#7201a8"
            ],
            [
             0.3333333333333333,
             "#9c179e"
            ],
            [
             0.4444444444444444,
             "#bd3786"
            ],
            [
             0.5555555555555556,
             "#d8576b"
            ],
            [
             0.6666666666666666,
             "#ed7953"
            ],
            [
             0.7777777777777778,
             "#fb9f3a"
            ],
            [
             0.8888888888888888,
             "#fdca26"
            ],
            [
             1,
             "#f0f921"
            ]
           ],
           "sequentialminus": [
            [
             0,
             "#0d0887"
            ],
            [
             0.1111111111111111,
             "#46039f"
            ],
            [
             0.2222222222222222,
             "#7201a8"
            ],
            [
             0.3333333333333333,
             "#9c179e"
            ],
            [
             0.4444444444444444,
             "#bd3786"
            ],
            [
             0.5555555555555556,
             "#d8576b"
            ],
            [
             0.6666666666666666,
             "#ed7953"
            ],
            [
             0.7777777777777778,
             "#fb9f3a"
            ],
            [
             0.8888888888888888,
             "#fdca26"
            ],
            [
             1,
             "#f0f921"
            ]
           ]
          },
          "colorway": [
           "#636efa",
           "#EF553B",
           "#00cc96",
           "#ab63fa",
           "#FFA15A",
           "#19d3f3",
           "#FF6692",
           "#B6E880",
           "#FF97FF",
           "#FECB52"
          ],
          "font": {
           "color": "#2a3f5f"
          },
          "geo": {
           "bgcolor": "white",
           "lakecolor": "white",
           "landcolor": "#E5ECF6",
           "showlakes": true,
           "showland": true,
           "subunitcolor": "white"
          },
          "hoverlabel": {
           "align": "left"
          },
          "hovermode": "closest",
          "mapbox": {
           "style": "light"
          },
          "paper_bgcolor": "white",
          "plot_bgcolor": "#E5ECF6",
          "polar": {
           "angularaxis": {
            "gridcolor": "white",
            "linecolor": "white",
            "ticks": ""
           },
           "bgcolor": "#E5ECF6",
           "radialaxis": {
            "gridcolor": "white",
            "linecolor": "white",
            "ticks": ""
           }
          },
          "scene": {
           "xaxis": {
            "backgroundcolor": "#E5ECF6",
            "gridcolor": "white",
            "gridwidth": 2,
            "linecolor": "white",
            "showbackground": true,
            "ticks": "",
            "zerolinecolor": "white"
           },
           "yaxis": {
            "backgroundcolor": "#E5ECF6",
            "gridcolor": "white",
            "gridwidth": 2,
            "linecolor": "white",
            "showbackground": true,
            "ticks": "",
            "zerolinecolor": "white"
           },
           "zaxis": {
            "backgroundcolor": "#E5ECF6",
            "gridcolor": "white",
            "gridwidth": 2,
            "linecolor": "white",
            "showbackground": true,
            "ticks": "",
            "zerolinecolor": "white"
           }
          },
          "shapedefaults": {
           "line": {
            "color": "#2a3f5f"
           }
          },
          "ternary": {
           "aaxis": {
            "gridcolor": "white",
            "linecolor": "white",
            "ticks": ""
           },
           "baxis": {
            "gridcolor": "white",
            "linecolor": "white",
            "ticks": ""
           },
           "bgcolor": "#E5ECF6",
           "caxis": {
            "gridcolor": "white",
            "linecolor": "white",
            "ticks": ""
           }
          },
          "title": {
           "x": 0.05
          },
          "xaxis": {
           "automargin": true,
           "gridcolor": "white",
           "linecolor": "white",
           "ticks": "",
           "title": {
            "standoff": 15
           },
           "zerolinecolor": "white",
           "zerolinewidth": 2
          },
          "yaxis": {
           "automargin": true,
           "gridcolor": "white",
           "linecolor": "white",
           "ticks": "",
           "title": {
            "standoff": 15
           },
           "zerolinecolor": "white",
           "zerolinewidth": 2
          }
         }
        },
        "title": {
         "text": "Total Hired Employees by Role Over Time"
        },
        "xaxis": {
         "anchor": "y",
         "domain": [
          0,
          1
         ],
         "title": {
          "text": "Date"
         }
        },
        "yaxis": {
         "anchor": "x",
         "domain": [
          0,
          1
         ],
         "title": {
          "text": "Number of Employees"
         }
        }
       }
      }
     },
     "metadata": {},
     "output_type": "display_data"
    }
   ],
   "source": [
    "import plotly.express as px\n",
    "\n",
    "# --- Plot 1: Total Hired Employees by Role ---\n",
    "\n",
    "# Select the columns that represent the total hired staff for each role\n",
    "hired_total_columns = [col for col in simulation_df.columns if 'Hired (Total)' in col]\n",
    "roles_to_plot = [col.replace(' Hired (Total)', '') for col in hired_total_columns]\n",
    "\n",
    "# Create the line plot\n",
    "fig_employees = px.line(\n",
    "    simulation_df,\n",
    "    x='Date',\n",
    "    y=hired_total_columns,\n",
    "    title='Total Hired Employees by Role Over Time',\n",
    "    labels={'value': 'Number of Employees', 'variable': 'Employee Role'}\n",
    ")\n",
    "\n",
    "# Update the legend to show clean role names\n",
    "fig_employees.for_each_trace(lambda t: t.update(name = t.name.replace(\" Hired (Total)\", \"\")))\n",
    "\n",
    "\n",
    "# Show the plot\n",
    "fig_employees.show()"
   ]
  },
  {
   "cell_type": "code",
   "execution_count": 85,
   "id": "981b47a3",
   "metadata": {},
   "outputs": [
    {
     "data": {
      "application/vnd.plotly.v1+json": {
       "config": {
        "plotlyServerURL": "https://plot.ly"
       },
       "data": [
        {
         "hovertemplate": "Employee Role=Analyst Hired (Total)<br>Date=%{x}<br>Number of Employees=%{y}<extra></extra>",
         "legendgroup": "Analyst Hired (Total)",
         "line": {
          "color": "#636efa",
          "dash": "solid"
         },
         "marker": {
          "symbol": "circle"
         },
         "mode": "lines",
         "name": "Analyst",
         "orientation": "v",
         "showlegend": true,
         "type": "scatter",
         "x": [
          "2026-01-01T00:00:00.000000000",
          "2026-02-01T00:00:00.000000000",
          "2026-03-01T00:00:00.000000000",
          "2026-04-01T00:00:00.000000000",
          "2026-05-01T00:00:00.000000000",
          "2026-06-01T00:00:00.000000000",
          "2026-07-01T00:00:00.000000000",
          "2026-08-01T00:00:00.000000000",
          "2026-09-01T00:00:00.000000000",
          "2026-10-01T00:00:00.000000000",
          "2026-11-01T00:00:00.000000000",
          "2026-12-01T00:00:00.000000000",
          "2027-01-01T00:00:00.000000000",
          "2027-02-01T00:00:00.000000000",
          "2027-03-01T00:00:00.000000000",
          "2027-04-01T00:00:00.000000000",
          "2027-05-01T00:00:00.000000000",
          "2027-06-01T00:00:00.000000000",
          "2027-07-01T00:00:00.000000000",
          "2027-08-01T00:00:00.000000000",
          "2027-09-01T00:00:00.000000000",
          "2027-10-01T00:00:00.000000000",
          "2027-11-01T00:00:00.000000000",
          "2027-12-01T00:00:00.000000000"
         ],
         "xaxis": "x",
         "y": {
          "bdata": "AwMEBAUFBgYGBgYGBgYGBQUFBQUEBAQE",
          "dtype": "i1"
         },
         "yaxis": "y"
        },
        {
         "hovertemplate": "Employee Role=Technical Hired (Total)<br>Date=%{x}<br>Number of Employees=%{y}<extra></extra>",
         "legendgroup": "Technical Hired (Total)",
         "line": {
          "color": "#EF553B",
          "dash": "solid"
         },
         "marker": {
          "symbol": "circle"
         },
         "mode": "lines",
         "name": "Technical",
         "orientation": "v",
         "showlegend": true,
         "type": "scatter",
         "x": [
          "2026-01-01T00:00:00.000000000",
          "2026-02-01T00:00:00.000000000",
          "2026-03-01T00:00:00.000000000",
          "2026-04-01T00:00:00.000000000",
          "2026-05-01T00:00:00.000000000",
          "2026-06-01T00:00:00.000000000",
          "2026-07-01T00:00:00.000000000",
          "2026-08-01T00:00:00.000000000",
          "2026-09-01T00:00:00.000000000",
          "2026-10-01T00:00:00.000000000",
          "2026-11-01T00:00:00.000000000",
          "2026-12-01T00:00:00.000000000",
          "2027-01-01T00:00:00.000000000",
          "2027-02-01T00:00:00.000000000",
          "2027-03-01T00:00:00.000000000",
          "2027-04-01T00:00:00.000000000",
          "2027-05-01T00:00:00.000000000",
          "2027-06-01T00:00:00.000000000",
          "2027-07-01T00:00:00.000000000",
          "2027-08-01T00:00:00.000000000",
          "2027-09-01T00:00:00.000000000",
          "2027-10-01T00:00:00.000000000",
          "2027-11-01T00:00:00.000000000",
          "2027-12-01T00:00:00.000000000"
         ],
         "xaxis": "x",
         "y": {
          "bdata": "AwMEBAUFBgYGBgYGBgYGBQUFBQUEBAQE",
          "dtype": "i1"
         },
         "yaxis": "y"
        },
        {
         "hovertemplate": "Employee Role=Project Manager Hired (Total)<br>Date=%{x}<br>Number of Employees=%{y}<extra></extra>",
         "legendgroup": "Project Manager Hired (Total)",
         "line": {
          "color": "#00cc96",
          "dash": "solid"
         },
         "marker": {
          "symbol": "circle"
         },
         "mode": "lines",
         "name": "Project Manager",
         "orientation": "v",
         "showlegend": true,
         "type": "scatter",
         "x": [
          "2026-01-01T00:00:00.000000000",
          "2026-02-01T00:00:00.000000000",
          "2026-03-01T00:00:00.000000000",
          "2026-04-01T00:00:00.000000000",
          "2026-05-01T00:00:00.000000000",
          "2026-06-01T00:00:00.000000000",
          "2026-07-01T00:00:00.000000000",
          "2026-08-01T00:00:00.000000000",
          "2026-09-01T00:00:00.000000000",
          "2026-10-01T00:00:00.000000000",
          "2026-11-01T00:00:00.000000000",
          "2026-12-01T00:00:00.000000000",
          "2027-01-01T00:00:00.000000000",
          "2027-02-01T00:00:00.000000000",
          "2027-03-01T00:00:00.000000000",
          "2027-04-01T00:00:00.000000000",
          "2027-05-01T00:00:00.000000000",
          "2027-06-01T00:00:00.000000000",
          "2027-07-01T00:00:00.000000000",
          "2027-08-01T00:00:00.000000000",
          "2027-09-01T00:00:00.000000000",
          "2027-10-01T00:00:00.000000000",
          "2027-11-01T00:00:00.000000000",
          "2027-12-01T00:00:00.000000000"
         ],
         "xaxis": "x",
         "y": {
          "bdata": "AgICAgICAwMDAwMDAwQFBQUFBQUGBQUF",
          "dtype": "i1"
         },
         "yaxis": "y"
        },
        {
         "hovertemplate": "Employee Role=Tax Engineer Hired (Total)<br>Date=%{x}<br>Number of Employees=%{y}<extra></extra>",
         "legendgroup": "Tax Engineer Hired (Total)",
         "line": {
          "color": "#ab63fa",
          "dash": "solid"
         },
         "marker": {
          "symbol": "circle"
         },
         "mode": "lines",
         "name": "Tax Engineer",
         "orientation": "v",
         "showlegend": true,
         "type": "scatter",
         "x": [
          "2026-01-01T00:00:00.000000000",
          "2026-02-01T00:00:00.000000000",
          "2026-03-01T00:00:00.000000000",
          "2026-04-01T00:00:00.000000000",
          "2026-05-01T00:00:00.000000000",
          "2026-06-01T00:00:00.000000000",
          "2026-07-01T00:00:00.000000000",
          "2026-08-01T00:00:00.000000000",
          "2026-09-01T00:00:00.000000000",
          "2026-10-01T00:00:00.000000000",
          "2026-11-01T00:00:00.000000000",
          "2026-12-01T00:00:00.000000000",
          "2027-01-01T00:00:00.000000000",
          "2027-02-01T00:00:00.000000000",
          "2027-03-01T00:00:00.000000000",
          "2027-04-01T00:00:00.000000000",
          "2027-05-01T00:00:00.000000000",
          "2027-06-01T00:00:00.000000000",
          "2027-07-01T00:00:00.000000000",
          "2027-08-01T00:00:00.000000000",
          "2027-09-01T00:00:00.000000000",
          "2027-10-01T00:00:00.000000000",
          "2027-11-01T00:00:00.000000000",
          "2027-12-01T00:00:00.000000000"
         ],
         "xaxis": "x",
         "y": {
          "bdata": "AwMDBQUFBwcHCQkJCQoKCgoLCwsLCgoL",
          "dtype": "i1"
         },
         "yaxis": "y"
        },
        {
         "hovertemplate": "Employee Role=Tax Technical Hired (Total)<br>Date=%{x}<br>Number of Employees=%{y}<extra></extra>",
         "legendgroup": "Tax Technical Hired (Total)",
         "line": {
          "color": "#FFA15A",
          "dash": "solid"
         },
         "marker": {
          "symbol": "circle"
         },
         "mode": "lines",
         "name": "Tax Technical",
         "orientation": "v",
         "showlegend": true,
         "type": "scatter",
         "x": [
          "2026-01-01T00:00:00.000000000",
          "2026-02-01T00:00:00.000000000",
          "2026-03-01T00:00:00.000000000",
          "2026-04-01T00:00:00.000000000",
          "2026-05-01T00:00:00.000000000",
          "2026-06-01T00:00:00.000000000",
          "2026-07-01T00:00:00.000000000",
          "2026-08-01T00:00:00.000000000",
          "2026-09-01T00:00:00.000000000",
          "2026-10-01T00:00:00.000000000",
          "2026-11-01T00:00:00.000000000",
          "2026-12-01T00:00:00.000000000",
          "2027-01-01T00:00:00.000000000",
          "2027-02-01T00:00:00.000000000",
          "2027-03-01T00:00:00.000000000",
          "2027-04-01T00:00:00.000000000",
          "2027-05-01T00:00:00.000000000",
          "2027-06-01T00:00:00.000000000",
          "2027-07-01T00:00:00.000000000",
          "2027-08-01T00:00:00.000000000",
          "2027-09-01T00:00:00.000000000",
          "2027-10-01T00:00:00.000000000",
          "2027-11-01T00:00:00.000000000",
          "2027-12-01T00:00:00.000000000"
         ],
         "xaxis": "x",
         "y": {
          "bdata": "AwUHCQsMDhASExQUFRYWFxgYGRoaGxob",
          "dtype": "i1"
         },
         "yaxis": "y"
        },
        {
         "hovertemplate": "Employee Role=Planning Engineer Hired (Total)<br>Date=%{x}<br>Number of Employees=%{y}<extra></extra>",
         "legendgroup": "Planning Engineer Hired (Total)",
         "line": {
          "color": "#19d3f3",
          "dash": "solid"
         },
         "marker": {
          "symbol": "circle"
         },
         "mode": "lines",
         "name": "Planning Engineer",
         "orientation": "v",
         "showlegend": true,
         "type": "scatter",
         "x": [
          "2026-01-01T00:00:00.000000000",
          "2026-02-01T00:00:00.000000000",
          "2026-03-01T00:00:00.000000000",
          "2026-04-01T00:00:00.000000000",
          "2026-05-01T00:00:00.000000000",
          "2026-06-01T00:00:00.000000000",
          "2026-07-01T00:00:00.000000000",
          "2026-08-01T00:00:00.000000000",
          "2026-09-01T00:00:00.000000000",
          "2026-10-01T00:00:00.000000000",
          "2026-11-01T00:00:00.000000000",
          "2026-12-01T00:00:00.000000000",
          "2027-01-01T00:00:00.000000000",
          "2027-02-01T00:00:00.000000000",
          "2027-03-01T00:00:00.000000000",
          "2027-04-01T00:00:00.000000000",
          "2027-05-01T00:00:00.000000000",
          "2027-06-01T00:00:00.000000000",
          "2027-07-01T00:00:00.000000000",
          "2027-08-01T00:00:00.000000000",
          "2027-09-01T00:00:00.000000000",
          "2027-10-01T00:00:00.000000000",
          "2027-11-01T00:00:00.000000000",
          "2027-12-01T00:00:00.000000000"
         ],
         "xaxis": "x",
         "y": {
          "bdata": "AgICAgICAwMDAwMDAwMEBAQEBAQFBQUF",
          "dtype": "i1"
         },
         "yaxis": "y"
        }
       ],
       "layout": {
        "annotations": [
         {
          "font": {
           "color": "#636EFA"
          },
          "showarrow": false,
          "text": "Mean: 5.0",
          "x": "2027-12-01T00:00:00",
          "xshift": 40,
          "y": 4.958333333333333
         },
         {
          "font": {
           "color": "#EF553B"
          },
          "showarrow": false,
          "text": "Mean: 5.0",
          "x": "2027-12-01T00:00:00",
          "xshift": 40,
          "y": 4.958333333333333
         },
         {
          "font": {
           "color": "#00CC96"
          },
          "showarrow": false,
          "text": "Mean: 3.7",
          "x": "2027-12-01T00:00:00",
          "xshift": 40,
          "y": 3.6666666666666665
         },
         {
          "font": {
           "color": "#AB63FA"
          },
          "showarrow": false,
          "text": "Mean: 8.2",
          "x": "2027-12-01T00:00:00",
          "xshift": 40,
          "y": 8.166666666666666
         },
         {
          "font": {
           "color": "#FFA15A"
          },
          "showarrow": false,
          "text": "Mean: 18.6",
          "x": "2027-12-01T00:00:00",
          "xshift": 40,
          "y": 18.625
         },
         {
          "font": {
           "color": "#19D3F3"
          },
          "showarrow": false,
          "text": "Mean: 3.3",
          "x": "2027-12-01T00:00:00",
          "xshift": 40,
          "y": 3.3333333333333335
         }
        ],
        "legend": {
         "title": {
          "text": "Employee Role"
         },
         "tracegroupgap": 0
        },
        "shapes": [
         {
          "line": {
           "color": "#636EFA",
           "dash": "dash",
           "width": 2
          },
          "type": "line",
          "x0": "2026-01-01T00:00:00",
          "x1": "2027-12-01T00:00:00",
          "y0": 4.958333333333333,
          "y1": 4.958333333333333
         },
         {
          "line": {
           "color": "#EF553B",
           "dash": "dash",
           "width": 2
          },
          "type": "line",
          "x0": "2026-01-01T00:00:00",
          "x1": "2027-12-01T00:00:00",
          "y0": 4.958333333333333,
          "y1": 4.958333333333333
         },
         {
          "line": {
           "color": "#00CC96",
           "dash": "dash",
           "width": 2
          },
          "type": "line",
          "x0": "2026-01-01T00:00:00",
          "x1": "2027-12-01T00:00:00",
          "y0": 3.6666666666666665,
          "y1": 3.6666666666666665
         },
         {
          "line": {
           "color": "#AB63FA",
           "dash": "dash",
           "width": 2
          },
          "type": "line",
          "x0": "2026-01-01T00:00:00",
          "x1": "2027-12-01T00:00:00",
          "y0": 8.166666666666666,
          "y1": 8.166666666666666
         },
         {
          "line": {
           "color": "#FFA15A",
           "dash": "dash",
           "width": 2
          },
          "type": "line",
          "x0": "2026-01-01T00:00:00",
          "x1": "2027-12-01T00:00:00",
          "y0": 18.625,
          "y1": 18.625
         },
         {
          "line": {
           "color": "#19D3F3",
           "dash": "dash",
           "width": 2
          },
          "type": "line",
          "x0": "2026-01-01T00:00:00",
          "x1": "2027-12-01T00:00:00",
          "y0": 3.3333333333333335,
          "y1": 3.3333333333333335
         }
        ],
        "template": {
         "data": {
          "bar": [
           {
            "error_x": {
             "color": "#2a3f5f"
            },
            "error_y": {
             "color": "#2a3f5f"
            },
            "marker": {
             "line": {
              "color": "#E5ECF6",
              "width": 0.5
             },
             "pattern": {
              "fillmode": "overlay",
              "size": 10,
              "solidity": 0.2
             }
            },
            "type": "bar"
           }
          ],
          "barpolar": [
           {
            "marker": {
             "line": {
              "color": "#E5ECF6",
              "width": 0.5
             },
             "pattern": {
              "fillmode": "overlay",
              "size": 10,
              "solidity": 0.2
             }
            },
            "type": "barpolar"
           }
          ],
          "carpet": [
           {
            "aaxis": {
             "endlinecolor": "#2a3f5f",
             "gridcolor": "white",
             "linecolor": "white",
             "minorgridcolor": "white",
             "startlinecolor": "#2a3f5f"
            },
            "baxis": {
             "endlinecolor": "#2a3f5f",
             "gridcolor": "white",
             "linecolor": "white",
             "minorgridcolor": "white",
             "startlinecolor": "#2a3f5f"
            },
            "type": "carpet"
           }
          ],
          "choropleth": [
           {
            "colorbar": {
             "outlinewidth": 0,
             "ticks": ""
            },
            "type": "choropleth"
           }
          ],
          "contour": [
           {
            "colorbar": {
             "outlinewidth": 0,
             "ticks": ""
            },
            "colorscale": [
             [
              0,
              "#0d0887"
             ],
             [
              0.1111111111111111,
              "#46039f"
             ],
             [
              0.2222222222222222,
              "#7201a8"
             ],
             [
              0.3333333333333333,
              "#9c179e"
             ],
             [
              0.4444444444444444,
              "#bd3786"
             ],
             [
              0.5555555555555556,
              "#d8576b"
             ],
             [
              0.6666666666666666,
              "#ed7953"
             ],
             [
              0.7777777777777778,
              "#fb9f3a"
             ],
             [
              0.8888888888888888,
              "#fdca26"
             ],
             [
              1,
              "#f0f921"
             ]
            ],
            "type": "contour"
           }
          ],
          "contourcarpet": [
           {
            "colorbar": {
             "outlinewidth": 0,
             "ticks": ""
            },
            "type": "contourcarpet"
           }
          ],
          "heatmap": [
           {
            "colorbar": {
             "outlinewidth": 0,
             "ticks": ""
            },
            "colorscale": [
             [
              0,
              "#0d0887"
             ],
             [
              0.1111111111111111,
              "#46039f"
             ],
             [
              0.2222222222222222,
              "#7201a8"
             ],
             [
              0.3333333333333333,
              "#9c179e"
             ],
             [
              0.4444444444444444,
              "#bd3786"
             ],
             [
              0.5555555555555556,
              "#d8576b"
             ],
             [
              0.6666666666666666,
              "#ed7953"
             ],
             [
              0.7777777777777778,
              "#fb9f3a"
             ],
             [
              0.8888888888888888,
              "#fdca26"
             ],
             [
              1,
              "#f0f921"
             ]
            ],
            "type": "heatmap"
           }
          ],
          "histogram": [
           {
            "marker": {
             "pattern": {
              "fillmode": "overlay",
              "size": 10,
              "solidity": 0.2
             }
            },
            "type": "histogram"
           }
          ],
          "histogram2d": [
           {
            "colorbar": {
             "outlinewidth": 0,
             "ticks": ""
            },
            "colorscale": [
             [
              0,
              "#0d0887"
             ],
             [
              0.1111111111111111,
              "#46039f"
             ],
             [
              0.2222222222222222,
              "#7201a8"
             ],
             [
              0.3333333333333333,
              "#9c179e"
             ],
             [
              0.4444444444444444,
              "#bd3786"
             ],
             [
              0.5555555555555556,
              "#d8576b"
             ],
             [
              0.6666666666666666,
              "#ed7953"
             ],
             [
              0.7777777777777778,
              "#fb9f3a"
             ],
             [
              0.8888888888888888,
              "#fdca26"
             ],
             [
              1,
              "#f0f921"
             ]
            ],
            "type": "histogram2d"
           }
          ],
          "histogram2dcontour": [
           {
            "colorbar": {
             "outlinewidth": 0,
             "ticks": ""
            },
            "colorscale": [
             [
              0,
              "#0d0887"
             ],
             [
              0.1111111111111111,
              "#46039f"
             ],
             [
              0.2222222222222222,
              "#7201a8"
             ],
             [
              0.3333333333333333,
              "#9c179e"
             ],
             [
              0.4444444444444444,
              "#bd3786"
             ],
             [
              0.5555555555555556,
              "#d8576b"
             ],
             [
              0.6666666666666666,
              "#ed7953"
             ],
             [
              0.7777777777777778,
              "#fb9f3a"
             ],
             [
              0.8888888888888888,
              "#fdca26"
             ],
             [
              1,
              "#f0f921"
             ]
            ],
            "type": "histogram2dcontour"
           }
          ],
          "mesh3d": [
           {
            "colorbar": {
             "outlinewidth": 0,
             "ticks": ""
            },
            "type": "mesh3d"
           }
          ],
          "parcoords": [
           {
            "line": {
             "colorbar": {
              "outlinewidth": 0,
              "ticks": ""
             }
            },
            "type": "parcoords"
           }
          ],
          "pie": [
           {
            "automargin": true,
            "type": "pie"
           }
          ],
          "scatter": [
           {
            "fillpattern": {
             "fillmode": "overlay",
             "size": 10,
             "solidity": 0.2
            },
            "type": "scatter"
           }
          ],
          "scatter3d": [
           {
            "line": {
             "colorbar": {
              "outlinewidth": 0,
              "ticks": ""
             }
            },
            "marker": {
             "colorbar": {
              "outlinewidth": 0,
              "ticks": ""
             }
            },
            "type": "scatter3d"
           }
          ],
          "scattercarpet": [
           {
            "marker": {
             "colorbar": {
              "outlinewidth": 0,
              "ticks": ""
             }
            },
            "type": "scattercarpet"
           }
          ],
          "scattergeo": [
           {
            "marker": {
             "colorbar": {
              "outlinewidth": 0,
              "ticks": ""
             }
            },
            "type": "scattergeo"
           }
          ],
          "scattergl": [
           {
            "marker": {
             "colorbar": {
              "outlinewidth": 0,
              "ticks": ""
             }
            },
            "type": "scattergl"
           }
          ],
          "scattermap": [
           {
            "marker": {
             "colorbar": {
              "outlinewidth": 0,
              "ticks": ""
             }
            },
            "type": "scattermap"
           }
          ],
          "scattermapbox": [
           {
            "marker": {
             "colorbar": {
              "outlinewidth": 0,
              "ticks": ""
             }
            },
            "type": "scattermapbox"
           }
          ],
          "scatterpolar": [
           {
            "marker": {
             "colorbar": {
              "outlinewidth": 0,
              "ticks": ""
             }
            },
            "type": "scatterpolar"
           }
          ],
          "scatterpolargl": [
           {
            "marker": {
             "colorbar": {
              "outlinewidth": 0,
              "ticks": ""
             }
            },
            "type": "scatterpolargl"
           }
          ],
          "scatterternary": [
           {
            "marker": {
             "colorbar": {
              "outlinewidth": 0,
              "ticks": ""
             }
            },
            "type": "scatterternary"
           }
          ],
          "surface": [
           {
            "colorbar": {
             "outlinewidth": 0,
             "ticks": ""
            },
            "colorscale": [
             [
              0,
              "#0d0887"
             ],
             [
              0.1111111111111111,
              "#46039f"
             ],
             [
              0.2222222222222222,
              "#7201a8"
             ],
             [
              0.3333333333333333,
              "#9c179e"
             ],
             [
              0.4444444444444444,
              "#bd3786"
             ],
             [
              0.5555555555555556,
              "#d8576b"
             ],
             [
              0.6666666666666666,
              "#ed7953"
             ],
             [
              0.7777777777777778,
              "#fb9f3a"
             ],
             [
              0.8888888888888888,
              "#fdca26"
             ],
             [
              1,
              "#f0f921"
             ]
            ],
            "type": "surface"
           }
          ],
          "table": [
           {
            "cells": {
             "fill": {
              "color": "#EBF0F8"
             },
             "line": {
              "color": "white"
             }
            },
            "header": {
             "fill": {
              "color": "#C8D4E3"
             },
             "line": {
              "color": "white"
             }
            },
            "type": "table"
           }
          ]
         },
         "layout": {
          "annotationdefaults": {
           "arrowcolor": "#2a3f5f",
           "arrowhead": 0,
           "arrowwidth": 1
          },
          "autotypenumbers": "strict",
          "coloraxis": {
           "colorbar": {
            "outlinewidth": 0,
            "ticks": ""
           }
          },
          "colorscale": {
           "diverging": [
            [
             0,
             "#8e0152"
            ],
            [
             0.1,
             "#c51b7d"
            ],
            [
             0.2,
             "#de77ae"
            ],
            [
             0.3,
             "#f1b6da"
            ],
            [
             0.4,
             "#fde0ef"
            ],
            [
             0.5,
             "#f7f7f7"
            ],
            [
             0.6,
             "#e6f5d0"
            ],
            [
             0.7,
             "#b8e186"
            ],
            [
             0.8,
             "#7fbc41"
            ],
            [
             0.9,
             "#4d9221"
            ],
            [
             1,
             "#276419"
            ]
           ],
           "sequential": [
            [
             0,
             "#0d0887"
            ],
            [
             0.1111111111111111,
             "#46039f"
            ],
            [
             0.2222222222222222,
             "#7201a8"
            ],
            [
             0.3333333333333333,
             "#9c179e"
            ],
            [
             0.4444444444444444,
             "#bd3786"
            ],
            [
             0.5555555555555556,
             "#d8576b"
            ],
            [
             0.6666666666666666,
             "#ed7953"
            ],
            [
             0.7777777777777778,
             "#fb9f3a"
            ],
            [
             0.8888888888888888,
             "#fdca26"
            ],
            [
             1,
             "#f0f921"
            ]
           ],
           "sequentialminus": [
            [
             0,
             "#0d0887"
            ],
            [
             0.1111111111111111,
             "#46039f"
            ],
            [
             0.2222222222222222,
             "#7201a8"
            ],
            [
             0.3333333333333333,
             "#9c179e"
            ],
            [
             0.4444444444444444,
             "#bd3786"
            ],
            [
             0.5555555555555556,
             "#d8576b"
            ],
            [
             0.6666666666666666,
             "#ed7953"
            ],
            [
             0.7777777777777778,
             "#fb9f3a"
            ],
            [
             0.8888888888888888,
             "#fdca26"
            ],
            [
             1,
             "#f0f921"
            ]
           ]
          },
          "colorway": [
           "#636efa",
           "#EF553B",
           "#00cc96",
           "#ab63fa",
           "#FFA15A",
           "#19d3f3",
           "#FF6692",
           "#B6E880",
           "#FF97FF",
           "#FECB52"
          ],
          "font": {
           "color": "#2a3f5f"
          },
          "geo": {
           "bgcolor": "white",
           "lakecolor": "white",
           "landcolor": "#E5ECF6",
           "showlakes": true,
           "showland": true,
           "subunitcolor": "white"
          },
          "hoverlabel": {
           "align": "left"
          },
          "hovermode": "closest",
          "mapbox": {
           "style": "light"
          },
          "paper_bgcolor": "white",
          "plot_bgcolor": "#E5ECF6",
          "polar": {
           "angularaxis": {
            "gridcolor": "white",
            "linecolor": "white",
            "ticks": ""
           },
           "bgcolor": "#E5ECF6",
           "radialaxis": {
            "gridcolor": "white",
            "linecolor": "white",
            "ticks": ""
           }
          },
          "scene": {
           "xaxis": {
            "backgroundcolor": "#E5ECF6",
            "gridcolor": "white",
            "gridwidth": 2,
            "linecolor": "white",
            "showbackground": true,
            "ticks": "",
            "zerolinecolor": "white"
           },
           "yaxis": {
            "backgroundcolor": "#E5ECF6",
            "gridcolor": "white",
            "gridwidth": 2,
            "linecolor": "white",
            "showbackground": true,
            "ticks": "",
            "zerolinecolor": "white"
           },
           "zaxis": {
            "backgroundcolor": "#E5ECF6",
            "gridcolor": "white",
            "gridwidth": 2,
            "linecolor": "white",
            "showbackground": true,
            "ticks": "",
            "zerolinecolor": "white"
           }
          },
          "shapedefaults": {
           "line": {
            "color": "#2a3f5f"
           }
          },
          "ternary": {
           "aaxis": {
            "gridcolor": "white",
            "linecolor": "white",
            "ticks": ""
           },
           "baxis": {
            "gridcolor": "white",
            "linecolor": "white",
            "ticks": ""
           },
           "bgcolor": "#E5ECF6",
           "caxis": {
            "gridcolor": "white",
            "linecolor": "white",
            "ticks": ""
           }
          },
          "title": {
           "x": 0.05
          },
          "xaxis": {
           "automargin": true,
           "gridcolor": "white",
           "linecolor": "white",
           "ticks": "",
           "title": {
            "standoff": 15
           },
           "zerolinecolor": "white",
           "zerolinewidth": 2
          },
          "yaxis": {
           "automargin": true,
           "gridcolor": "white",
           "linecolor": "white",
           "ticks": "",
           "title": {
            "standoff": 15
           },
           "zerolinecolor": "white",
           "zerolinewidth": 2
          }
         }
        },
        "title": {
         "text": "Total Hired Employees by Role Over Time (with Mean)"
        },
        "xaxis": {
         "anchor": "y",
         "domain": [
          0,
          1
         ],
         "title": {
          "text": "Date"
         }
        },
        "yaxis": {
         "anchor": "x",
         "domain": [
          0,
          1
         ],
         "title": {
          "text": "Number of Employees"
         }
        }
       }
      }
     },
     "metadata": {},
     "output_type": "display_data"
    }
   ],
   "source": [
    "import plotly.express as px\n",
    "import plotly.graph_objects as go # We need to import graph_objects to add shapes\n",
    "\n",
    "# --- Plot 1: Total Hired Employees by Role with Mean Lines ---\n",
    "\n",
    "# Make sure 'Date' is a column for plotting, if it's the index, reset it.\n",
    "plot_df = simulation_df.reset_index()\n",
    "\n",
    "# Select the columns that represent the total hired staff for each role\n",
    "hired_total_columns = [col for col in plot_df.columns if 'Hired (Total)' in col]\n",
    "\n",
    "# Get the default color sequence used by Plotly Express\n",
    "colors = px.colors.qualitative.Plotly\n",
    "\n",
    "# Create the base line plot\n",
    "fig_employees = px.line(\n",
    "    plot_df,\n",
    "    x='Date',\n",
    "    y=hired_total_columns,\n",
    "    title='Total Hired Employees by Role Over Time (with Mean)',\n",
    "    labels={'value': 'Number of Employees', 'variable': 'Employee Role'}\n",
    ")\n",
    "\n",
    "# --- NEW: Add a dashed mean line for each role ---\n",
    "for i, col in enumerate(hired_total_columns):\n",
    "    # Calculate the mean for the current role\n",
    "    mean_value = plot_df[col].mean()\n",
    "    \n",
    "    # Get the corresponding color for the current trace\n",
    "    line_color = colors[i % len(colors)]\n",
    "    \n",
    "    # Add a horizontal dashed line for the mean\n",
    "    fig_employees.add_shape(\n",
    "        type=\"line\",\n",
    "        x0=plot_df['Date'].min(),\n",
    "        y0=mean_value,\n",
    "        x1=plot_df['Date'].max(),\n",
    "        y1=mean_value,\n",
    "        line=dict(\n",
    "            color=line_color,\n",
    "            width=2,\n",
    "            dash=\"dash\",\n",
    "        )\n",
    "    )\n",
    "    \n",
    "    # Add an annotation to label the mean line\n",
    "    fig_employees.add_annotation(\n",
    "        x=plot_df['Date'].max(),\n",
    "        y=mean_value,\n",
    "        text=f\"Mean: {mean_value:.1f}\",\n",
    "        showarrow=False,\n",
    "        xshift=40, # Shift text to the right of the line\n",
    "        font=dict(\n",
    "            color=line_color\n",
    "        )\n",
    "    )\n",
    "\n",
    "\n",
    "# Update the legend to show clean role names\n",
    "fig_employees.for_each_trace(lambda t: t.update(name = t.name.replace(\" Hired (Total)\", \"\")))\n",
    "\n",
    "# Show the plot\n",
    "fig_employees.show()"
   ]
  },
  {
   "cell_type": "code",
   "execution_count": 79,
   "id": "19ec77f2",
   "metadata": {},
   "outputs": [
    {
     "data": {
      "application/vnd.plotly.v1+json": {
       "config": {
        "plotlyServerURL": "https://plot.ly"
       },
       "data": [
        {
         "hovertemplate": "Project Type=PA Small<br>Date=%{x}<br>Number of Active Projects=%{y}<extra></extra>",
         "legendgroup": "PA Small",
         "marker": {
          "color": "#636efa",
          "pattern": {
           "shape": ""
          }
         },
         "name": "PA Small",
         "orientation": "v",
         "showlegend": true,
         "textposition": "auto",
         "type": "bar",
         "x": [
          "2026-01-01T00:00:00.000000000",
          "2026-02-01T00:00:00.000000000",
          "2026-03-01T00:00:00.000000000",
          "2026-04-01T00:00:00.000000000",
          "2026-05-01T00:00:00.000000000",
          "2026-06-01T00:00:00.000000000",
          "2026-07-01T00:00:00.000000000",
          "2026-08-01T00:00:00.000000000",
          "2026-09-01T00:00:00.000000000",
          "2026-10-01T00:00:00.000000000",
          "2026-11-01T00:00:00.000000000",
          "2026-12-01T00:00:00.000000000",
          "2027-01-01T00:00:00.000000000",
          "2027-02-01T00:00:00.000000000",
          "2027-03-01T00:00:00.000000000",
          "2027-04-01T00:00:00.000000000",
          "2027-05-01T00:00:00.000000000",
          "2027-06-01T00:00:00.000000000",
          "2027-07-01T00:00:00.000000000",
          "2027-08-01T00:00:00.000000000",
          "2027-09-01T00:00:00.000000000",
          "2027-10-01T00:00:00.000000000",
          "2027-11-01T00:00:00.000000000",
          "2027-12-01T00:00:00.000000000"
         ],
         "xaxis": "x",
         "y": {
          "bdata": "BAgMDAwMDAwLCgkJCQkIBwYGBgYGBgYG",
          "dtype": "i1"
         },
         "yaxis": "y"
        },
        {
         "hovertemplate": "Project Type=PA Medium<br>Date=%{x}<br>Number of Active Projects=%{y}<extra></extra>",
         "legendgroup": "PA Medium",
         "marker": {
          "color": "#EF553B",
          "pattern": {
           "shape": ""
          }
         },
         "name": "PA Medium",
         "orientation": "v",
         "showlegend": true,
         "textposition": "auto",
         "type": "bar",
         "x": [
          "2026-01-01T00:00:00.000000000",
          "2026-02-01T00:00:00.000000000",
          "2026-03-01T00:00:00.000000000",
          "2026-04-01T00:00:00.000000000",
          "2026-05-01T00:00:00.000000000",
          "2026-06-01T00:00:00.000000000",
          "2026-07-01T00:00:00.000000000",
          "2026-08-01T00:00:00.000000000",
          "2026-09-01T00:00:00.000000000",
          "2026-10-01T00:00:00.000000000",
          "2026-11-01T00:00:00.000000000",
          "2026-12-01T00:00:00.000000000",
          "2027-01-01T00:00:00.000000000",
          "2027-02-01T00:00:00.000000000",
          "2027-03-01T00:00:00.000000000",
          "2027-04-01T00:00:00.000000000",
          "2027-05-01T00:00:00.000000000",
          "2027-06-01T00:00:00.000000000",
          "2027-07-01T00:00:00.000000000",
          "2027-08-01T00:00:00.000000000",
          "2027-09-01T00:00:00.000000000",
          "2027-10-01T00:00:00.000000000",
          "2027-11-01T00:00:00.000000000",
          "2027-12-01T00:00:00.000000000"
         ],
         "xaxis": "x",
         "y": {
          "bdata": "BgwSGB0iISAfHh4eHRwaGBYUExISEhIS",
          "dtype": "i1"
         },
         "yaxis": "y"
        },
        {
         "hovertemplate": "Project Type=PA Large<br>Date=%{x}<br>Number of Active Projects=%{y}<extra></extra>",
         "legendgroup": "PA Large",
         "marker": {
          "color": "#00cc96",
          "pattern": {
           "shape": ""
          }
         },
         "name": "PA Large",
         "orientation": "v",
         "showlegend": true,
         "textposition": "auto",
         "type": "bar",
         "x": [
          "2026-01-01T00:00:00.000000000",
          "2026-02-01T00:00:00.000000000",
          "2026-03-01T00:00:00.000000000",
          "2026-04-01T00:00:00.000000000",
          "2026-05-01T00:00:00.000000000",
          "2026-06-01T00:00:00.000000000",
          "2026-07-01T00:00:00.000000000",
          "2026-08-01T00:00:00.000000000",
          "2026-09-01T00:00:00.000000000",
          "2026-10-01T00:00:00.000000000",
          "2026-11-01T00:00:00.000000000",
          "2026-12-01T00:00:00.000000000",
          "2027-01-01T00:00:00.000000000",
          "2027-02-01T00:00:00.000000000",
          "2027-03-01T00:00:00.000000000",
          "2027-04-01T00:00:00.000000000",
          "2027-05-01T00:00:00.000000000",
          "2027-06-01T00:00:00.000000000",
          "2027-07-01T00:00:00.000000000",
          "2027-08-01T00:00:00.000000000",
          "2027-09-01T00:00:00.000000000",
          "2027-10-01T00:00:00.000000000",
          "2027-11-01T00:00:00.000000000",
          "2027-12-01T00:00:00.000000000"
         ],
         "xaxis": "x",
         "y": {
          "bdata": "AQIDBAUGBwgICAgICAgICAgICAcGBQQD",
          "dtype": "i1"
         },
         "yaxis": "y"
        },
        {
         "hovertemplate": "Project Type=AW Small<br>Date=%{x}<br>Number of Active Projects=%{y}<extra></extra>",
         "legendgroup": "AW Small",
         "marker": {
          "color": "#ab63fa",
          "pattern": {
           "shape": ""
          }
         },
         "name": "AW Small",
         "orientation": "v",
         "showlegend": true,
         "textposition": "auto",
         "type": "bar",
         "x": [
          "2026-01-01T00:00:00.000000000",
          "2026-02-01T00:00:00.000000000",
          "2026-03-01T00:00:00.000000000",
          "2026-04-01T00:00:00.000000000",
          "2026-05-01T00:00:00.000000000",
          "2026-06-01T00:00:00.000000000",
          "2026-07-01T00:00:00.000000000",
          "2026-08-01T00:00:00.000000000",
          "2026-09-01T00:00:00.000000000",
          "2026-10-01T00:00:00.000000000",
          "2026-11-01T00:00:00.000000000",
          "2026-12-01T00:00:00.000000000",
          "2027-01-01T00:00:00.000000000",
          "2027-02-01T00:00:00.000000000",
          "2027-03-01T00:00:00.000000000",
          "2027-04-01T00:00:00.000000000",
          "2027-05-01T00:00:00.000000000",
          "2027-06-01T00:00:00.000000000",
          "2027-07-01T00:00:00.000000000",
          "2027-08-01T00:00:00.000000000",
          "2027-09-01T00:00:00.000000000",
          "2027-10-01T00:00:00.000000000",
          "2027-11-01T00:00:00.000000000",
          "2027-12-01T00:00:00.000000000"
         ],
         "xaxis": "x",
         "y": {
          "bdata": "BAgMEBQYHCAjJikoJiQiIB4cGhkXFRMS",
          "dtype": "i1"
         },
         "yaxis": "y"
        },
        {
         "hovertemplate": "Project Type=AW Medium<br>Date=%{x}<br>Number of Active Projects=%{y}<extra></extra>",
         "legendgroup": "AW Medium",
         "marker": {
          "color": "#FFA15A",
          "pattern": {
           "shape": ""
          }
         },
         "name": "AW Medium",
         "orientation": "v",
         "showlegend": true,
         "textposition": "auto",
         "type": "bar",
         "x": [
          "2026-01-01T00:00:00.000000000",
          "2026-02-01T00:00:00.000000000",
          "2026-03-01T00:00:00.000000000",
          "2026-04-01T00:00:00.000000000",
          "2026-05-01T00:00:00.000000000",
          "2026-06-01T00:00:00.000000000",
          "2026-07-01T00:00:00.000000000",
          "2026-08-01T00:00:00.000000000",
          "2026-09-01T00:00:00.000000000",
          "2026-10-01T00:00:00.000000000",
          "2026-11-01T00:00:00.000000000",
          "2026-12-01T00:00:00.000000000",
          "2027-01-01T00:00:00.000000000",
          "2027-02-01T00:00:00.000000000",
          "2027-03-01T00:00:00.000000000",
          "2027-04-01T00:00:00.000000000",
          "2027-05-01T00:00:00.000000000",
          "2027-06-01T00:00:00.000000000",
          "2027-07-01T00:00:00.000000000",
          "2027-08-01T00:00:00.000000000",
          "2027-09-01T00:00:00.000000000",
          "2027-10-01T00:00:00.000000000",
          "2027-11-01T00:00:00.000000000",
          "2027-12-01T00:00:00.000000000"
         ],
         "xaxis": "x",
         "y": {
          "bdata": "AQIDBAUFBQUFBQUFBgcICAgICAgHBgUE",
          "dtype": "i1"
         },
         "yaxis": "y"
        },
        {
         "hovertemplate": "Project Type=AW Large<br>Date=%{x}<br>Number of Active Projects=%{y}<extra></extra>",
         "legendgroup": "AW Large",
         "marker": {
          "color": "#19d3f3",
          "pattern": {
           "shape": ""
          }
         },
         "name": "AW Large",
         "orientation": "v",
         "showlegend": true,
         "textposition": "auto",
         "type": "bar",
         "x": [
          "2026-01-01T00:00:00.000000000",
          "2026-02-01T00:00:00.000000000",
          "2026-03-01T00:00:00.000000000",
          "2026-04-01T00:00:00.000000000",
          "2026-05-01T00:00:00.000000000",
          "2026-06-01T00:00:00.000000000",
          "2026-07-01T00:00:00.000000000",
          "2026-08-01T00:00:00.000000000",
          "2026-09-01T00:00:00.000000000",
          "2026-10-01T00:00:00.000000000",
          "2026-11-01T00:00:00.000000000",
          "2026-12-01T00:00:00.000000000",
          "2027-01-01T00:00:00.000000000",
          "2027-02-01T00:00:00.000000000",
          "2027-03-01T00:00:00.000000000",
          "2027-04-01T00:00:00.000000000",
          "2027-05-01T00:00:00.000000000",
          "2027-06-01T00:00:00.000000000",
          "2027-07-01T00:00:00.000000000",
          "2027-08-01T00:00:00.000000000",
          "2027-09-01T00:00:00.000000000",
          "2027-10-01T00:00:00.000000000",
          "2027-11-01T00:00:00.000000000",
          "2027-12-01T00:00:00.000000000"
         ],
         "xaxis": "x",
         "y": {
          "bdata": "AQIDBAUGBwgJCgoKCwwNDg8QERITFBUW",
          "dtype": "i1"
         },
         "yaxis": "y"
        }
       ],
       "layout": {
        "barmode": "relative",
        "legend": {
         "title": {
          "text": "Project Type"
         },
         "tracegroupgap": 0
        },
        "template": {
         "data": {
          "bar": [
           {
            "error_x": {
             "color": "#2a3f5f"
            },
            "error_y": {
             "color": "#2a3f5f"
            },
            "marker": {
             "line": {
              "color": "#E5ECF6",
              "width": 0.5
             },
             "pattern": {
              "fillmode": "overlay",
              "size": 10,
              "solidity": 0.2
             }
            },
            "type": "bar"
           }
          ],
          "barpolar": [
           {
            "marker": {
             "line": {
              "color": "#E5ECF6",
              "width": 0.5
             },
             "pattern": {
              "fillmode": "overlay",
              "size": 10,
              "solidity": 0.2
             }
            },
            "type": "barpolar"
           }
          ],
          "carpet": [
           {
            "aaxis": {
             "endlinecolor": "#2a3f5f",
             "gridcolor": "white",
             "linecolor": "white",
             "minorgridcolor": "white",
             "startlinecolor": "#2a3f5f"
            },
            "baxis": {
             "endlinecolor": "#2a3f5f",
             "gridcolor": "white",
             "linecolor": "white",
             "minorgridcolor": "white",
             "startlinecolor": "#2a3f5f"
            },
            "type": "carpet"
           }
          ],
          "choropleth": [
           {
            "colorbar": {
             "outlinewidth": 0,
             "ticks": ""
            },
            "type": "choropleth"
           }
          ],
          "contour": [
           {
            "colorbar": {
             "outlinewidth": 0,
             "ticks": ""
            },
            "colorscale": [
             [
              0,
              "#0d0887"
             ],
             [
              0.1111111111111111,
              "#46039f"
             ],
             [
              0.2222222222222222,
              "#7201a8"
             ],
             [
              0.3333333333333333,
              "#9c179e"
             ],
             [
              0.4444444444444444,
              "#bd3786"
             ],
             [
              0.5555555555555556,
              "#d8576b"
             ],
             [
              0.6666666666666666,
              "#ed7953"
             ],
             [
              0.7777777777777778,
              "#fb9f3a"
             ],
             [
              0.8888888888888888,
              "#fdca26"
             ],
             [
              1,
              "#f0f921"
             ]
            ],
            "type": "contour"
           }
          ],
          "contourcarpet": [
           {
            "colorbar": {
             "outlinewidth": 0,
             "ticks": ""
            },
            "type": "contourcarpet"
           }
          ],
          "heatmap": [
           {
            "colorbar": {
             "outlinewidth": 0,
             "ticks": ""
            },
            "colorscale": [
             [
              0,
              "#0d0887"
             ],
             [
              0.1111111111111111,
              "#46039f"
             ],
             [
              0.2222222222222222,
              "#7201a8"
             ],
             [
              0.3333333333333333,
              "#9c179e"
             ],
             [
              0.4444444444444444,
              "#bd3786"
             ],
             [
              0.5555555555555556,
              "#d8576b"
             ],
             [
              0.6666666666666666,
              "#ed7953"
             ],
             [
              0.7777777777777778,
              "#fb9f3a"
             ],
             [
              0.8888888888888888,
              "#fdca26"
             ],
             [
              1,
              "#f0f921"
             ]
            ],
            "type": "heatmap"
           }
          ],
          "histogram": [
           {
            "marker": {
             "pattern": {
              "fillmode": "overlay",
              "size": 10,
              "solidity": 0.2
             }
            },
            "type": "histogram"
           }
          ],
          "histogram2d": [
           {
            "colorbar": {
             "outlinewidth": 0,
             "ticks": ""
            },
            "colorscale": [
             [
              0,
              "#0d0887"
             ],
             [
              0.1111111111111111,
              "#46039f"
             ],
             [
              0.2222222222222222,
              "#7201a8"
             ],
             [
              0.3333333333333333,
              "#9c179e"
             ],
             [
              0.4444444444444444,
              "#bd3786"
             ],
             [
              0.5555555555555556,
              "#d8576b"
             ],
             [
              0.6666666666666666,
              "#ed7953"
             ],
             [
              0.7777777777777778,
              "#fb9f3a"
             ],
             [
              0.8888888888888888,
              "#fdca26"
             ],
             [
              1,
              "#f0f921"
             ]
            ],
            "type": "histogram2d"
           }
          ],
          "histogram2dcontour": [
           {
            "colorbar": {
             "outlinewidth": 0,
             "ticks": ""
            },
            "colorscale": [
             [
              0,
              "#0d0887"
             ],
             [
              0.1111111111111111,
              "#46039f"
             ],
             [
              0.2222222222222222,
              "#7201a8"
             ],
             [
              0.3333333333333333,
              "#9c179e"
             ],
             [
              0.4444444444444444,
              "#bd3786"
             ],
             [
              0.5555555555555556,
              "#d8576b"
             ],
             [
              0.6666666666666666,
              "#ed7953"
             ],
             [
              0.7777777777777778,
              "#fb9f3a"
             ],
             [
              0.8888888888888888,
              "#fdca26"
             ],
             [
              1,
              "#f0f921"
             ]
            ],
            "type": "histogram2dcontour"
           }
          ],
          "mesh3d": [
           {
            "colorbar": {
             "outlinewidth": 0,
             "ticks": ""
            },
            "type": "mesh3d"
           }
          ],
          "parcoords": [
           {
            "line": {
             "colorbar": {
              "outlinewidth": 0,
              "ticks": ""
             }
            },
            "type": "parcoords"
           }
          ],
          "pie": [
           {
            "automargin": true,
            "type": "pie"
           }
          ],
          "scatter": [
           {
            "fillpattern": {
             "fillmode": "overlay",
             "size": 10,
             "solidity": 0.2
            },
            "type": "scatter"
           }
          ],
          "scatter3d": [
           {
            "line": {
             "colorbar": {
              "outlinewidth": 0,
              "ticks": ""
             }
            },
            "marker": {
             "colorbar": {
              "outlinewidth": 0,
              "ticks": ""
             }
            },
            "type": "scatter3d"
           }
          ],
          "scattercarpet": [
           {
            "marker": {
             "colorbar": {
              "outlinewidth": 0,
              "ticks": ""
             }
            },
            "type": "scattercarpet"
           }
          ],
          "scattergeo": [
           {
            "marker": {
             "colorbar": {
              "outlinewidth": 0,
              "ticks": ""
             }
            },
            "type": "scattergeo"
           }
          ],
          "scattergl": [
           {
            "marker": {
             "colorbar": {
              "outlinewidth": 0,
              "ticks": ""
             }
            },
            "type": "scattergl"
           }
          ],
          "scattermap": [
           {
            "marker": {
             "colorbar": {
              "outlinewidth": 0,
              "ticks": ""
             }
            },
            "type": "scattermap"
           }
          ],
          "scattermapbox": [
           {
            "marker": {
             "colorbar": {
              "outlinewidth": 0,
              "ticks": ""
             }
            },
            "type": "scattermapbox"
           }
          ],
          "scatterpolar": [
           {
            "marker": {
             "colorbar": {
              "outlinewidth": 0,
              "ticks": ""
             }
            },
            "type": "scatterpolar"
           }
          ],
          "scatterpolargl": [
           {
            "marker": {
             "colorbar": {
              "outlinewidth": 0,
              "ticks": ""
             }
            },
            "type": "scatterpolargl"
           }
          ],
          "scatterternary": [
           {
            "marker": {
             "colorbar": {
              "outlinewidth": 0,
              "ticks": ""
             }
            },
            "type": "scatterternary"
           }
          ],
          "surface": [
           {
            "colorbar": {
             "outlinewidth": 0,
             "ticks": ""
            },
            "colorscale": [
             [
              0,
              "#0d0887"
             ],
             [
              0.1111111111111111,
              "#46039f"
             ],
             [
              0.2222222222222222,
              "#7201a8"
             ],
             [
              0.3333333333333333,
              "#9c179e"
             ],
             [
              0.4444444444444444,
              "#bd3786"
             ],
             [
              0.5555555555555556,
              "#d8576b"
             ],
             [
              0.6666666666666666,
              "#ed7953"
             ],
             [
              0.7777777777777778,
              "#fb9f3a"
             ],
             [
              0.8888888888888888,
              "#fdca26"
             ],
             [
              1,
              "#f0f921"
             ]
            ],
            "type": "surface"
           }
          ],
          "table": [
           {
            "cells": {
             "fill": {
              "color": "#EBF0F8"
             },
             "line": {
              "color": "white"
             }
            },
            "header": {
             "fill": {
              "color": "#C8D4E3"
             },
             "line": {
              "color": "white"
             }
            },
            "type": "table"
           }
          ]
         },
         "layout": {
          "annotationdefaults": {
           "arrowcolor": "#2a3f5f",
           "arrowhead": 0,
           "arrowwidth": 1
          },
          "autotypenumbers": "strict",
          "coloraxis": {
           "colorbar": {
            "outlinewidth": 0,
            "ticks": ""
           }
          },
          "colorscale": {
           "diverging": [
            [
             0,
             "#8e0152"
            ],
            [
             0.1,
             "#c51b7d"
            ],
            [
             0.2,
             "#de77ae"
            ],
            [
             0.3,
             "#f1b6da"
            ],
            [
             0.4,
             "#fde0ef"
            ],
            [
             0.5,
             "#f7f7f7"
            ],
            [
             0.6,
             "#e6f5d0"
            ],
            [
             0.7,
             "#b8e186"
            ],
            [
             0.8,
             "#7fbc41"
            ],
            [
             0.9,
             "#4d9221"
            ],
            [
             1,
             "#276419"
            ]
           ],
           "sequential": [
            [
             0,
             "#0d0887"
            ],
            [
             0.1111111111111111,
             "#46039f"
            ],
            [
             0.2222222222222222,
             "#7201a8"
            ],
            [
             0.3333333333333333,
             "#9c179e"
            ],
            [
             0.4444444444444444,
             "#bd3786"
            ],
            [
             0.5555555555555556,
             "#d8576b"
            ],
            [
             0.6666666666666666,
             "#ed7953"
            ],
            [
             0.7777777777777778,
             "#fb9f3a"
            ],
            [
             0.8888888888888888,
             "#fdca26"
            ],
            [
             1,
             "#f0f921"
            ]
           ],
           "sequentialminus": [
            [
             0,
             "#0d0887"
            ],
            [
             0.1111111111111111,
             "#46039f"
            ],
            [
             0.2222222222222222,
             "#7201a8"
            ],
            [
             0.3333333333333333,
             "#9c179e"
            ],
            [
             0.4444444444444444,
             "#bd3786"
            ],
            [
             0.5555555555555556,
             "#d8576b"
            ],
            [
             0.6666666666666666,
             "#ed7953"
            ],
            [
             0.7777777777777778,
             "#fb9f3a"
            ],
            [
             0.8888888888888888,
             "#fdca26"
            ],
            [
             1,
             "#f0f921"
            ]
           ]
          },
          "colorway": [
           "#636efa",
           "#EF553B",
           "#00cc96",
           "#ab63fa",
           "#FFA15A",
           "#19d3f3",
           "#FF6692",
           "#B6E880",
           "#FF97FF",
           "#FECB52"
          ],
          "font": {
           "color": "#2a3f5f"
          },
          "geo": {
           "bgcolor": "white",
           "lakecolor": "white",
           "landcolor": "#E5ECF6",
           "showlakes": true,
           "showland": true,
           "subunitcolor": "white"
          },
          "hoverlabel": {
           "align": "left"
          },
          "hovermode": "closest",
          "mapbox": {
           "style": "light"
          },
          "paper_bgcolor": "white",
          "plot_bgcolor": "#E5ECF6",
          "polar": {
           "angularaxis": {
            "gridcolor": "white",
            "linecolor": "white",
            "ticks": ""
           },
           "bgcolor": "#E5ECF6",
           "radialaxis": {
            "gridcolor": "white",
            "linecolor": "white",
            "ticks": ""
           }
          },
          "scene": {
           "xaxis": {
            "backgroundcolor": "#E5ECF6",
            "gridcolor": "white",
            "gridwidth": 2,
            "linecolor": "white",
            "showbackground": true,
            "ticks": "",
            "zerolinecolor": "white"
           },
           "yaxis": {
            "backgroundcolor": "#E5ECF6",
            "gridcolor": "white",
            "gridwidth": 2,
            "linecolor": "white",
            "showbackground": true,
            "ticks": "",
            "zerolinecolor": "white"
           },
           "zaxis": {
            "backgroundcolor": "#E5ECF6",
            "gridcolor": "white",
            "gridwidth": 2,
            "linecolor": "white",
            "showbackground": true,
            "ticks": "",
            "zerolinecolor": "white"
           }
          },
          "shapedefaults": {
           "line": {
            "color": "#2a3f5f"
           }
          },
          "ternary": {
           "aaxis": {
            "gridcolor": "white",
            "linecolor": "white",
            "ticks": ""
           },
           "baxis": {
            "gridcolor": "white",
            "linecolor": "white",
            "ticks": ""
           },
           "bgcolor": "#E5ECF6",
           "caxis": {
            "gridcolor": "white",
            "linecolor": "white",
            "ticks": ""
           }
          },
          "title": {
           "x": 0.05
          },
          "xaxis": {
           "automargin": true,
           "gridcolor": "white",
           "linecolor": "white",
           "ticks": "",
           "title": {
            "standoff": 15
           },
           "zerolinecolor": "white",
           "zerolinewidth": 2
          },
          "yaxis": {
           "automargin": true,
           "gridcolor": "white",
           "linecolor": "white",
           "ticks": "",
           "title": {
            "standoff": 15
           },
           "zerolinecolor": "white",
           "zerolinewidth": 2
          }
         }
        },
        "title": {
         "text": "Active Projects by Type and Scale Over Time"
        },
        "xaxis": {
         "anchor": "y",
         "domain": [
          0,
          1
         ],
         "title": {
          "text": "Date"
         }
        },
        "yaxis": {
         "anchor": "x",
         "domain": [
          0,
          1
         ],
         "title": {
          "text": "Number of Active Projects"
         }
        }
       }
      }
     },
     "metadata": {},
     "output_type": "display_data"
    }
   ],
   "source": [
    "import plotly.express as px\n",
    "\n",
    "# --- Plot 2: Active Projects by Type and Scale ---\n",
    "\n",
    "# Select the columns that represent the active project counts\n",
    "active_project_columns = [\n",
    "    \"PA Small\", \"PA Medium\", \"PA Large\",\n",
    "    \"AW Small\", \"AW Medium\", \"AW Large\"\n",
    "]\n",
    "\n",
    "# Create the stacked bar chart\n",
    "fig_projects = px.bar(\n",
    "    simulation_df,\n",
    "    x='Date',\n",
    "    y=active_project_columns,\n",
    "    title='Active Projects by Type and Scale Over Time',\n",
    "    labels={'value': 'Number of Active Projects', 'variable': 'Project Type'}\n",
    ")\n",
    "\n",
    "# Show the plot\n",
    "fig_projects.show()"
   ]
  }
 ],
 "metadata": {
  "kernelspec": {
   "display_name": ".venv",
   "language": "python",
   "name": "python3"
  },
  "language_info": {
   "codemirror_mode": {
    "name": "ipython",
    "version": 3
   },
   "file_extension": ".py",
   "mimetype": "text/x-python",
   "name": "python",
   "nbconvert_exporter": "python",
   "pygments_lexer": "ipython3",
   "version": "3.11.9"
  }
 },
 "nbformat": 4,
 "nbformat_minor": 5
}
