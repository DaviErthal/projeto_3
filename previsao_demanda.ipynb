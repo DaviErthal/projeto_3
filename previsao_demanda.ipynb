{
 "cells": [
  {
   "cell_type": "code",
   "execution_count": 1,
   "id": "f3ef21e9",
   "metadata": {},
   "outputs": [
    {
     "data": {
      "text/plain": [
       "\"\\nScript de Previsão de Demanda para Gerenciamento de Estoque.\\n\\nEste script realiza as seguintes etapas:\\n1.  Gera um arquivo de dados de vendas fictício ('vendas.csv').\\n2.  Carrega e pré-processa os dados.\\n3.  Divide os dados em conjuntos de treino e teste.\\n4.  Treina e compara dois modelos de regressão: Regressão Linear e Random Forest.\\n5.  Implementa técnicas de interpretabilidade para o melhor modelo.\\n6.  Avalia o desempenho dos modelos usando o Erro Absoluto Médio (MAE).\\n7.  Usa o melhor modelo para prever a demanda para os próximos 7 dias.\\n8.  (Bônus) Visualiza a demanda real vs. prevista.\\n9.  (Bônus) Permite a previsão para um SKU específico fornecido pelo usuário.\\n\""
      ]
     },
     "execution_count": 1,
     "metadata": {},
     "output_type": "execute_result"
    }
   ],
   "source": [
    "# -*- coding: utf-8 -*-\n",
    "\"\"\"\n",
    "Script de Previsão de Demanda para Gerenciamento de Estoque.\n",
    "\n",
    "Este script realiza as seguintes etapas:\n",
    "1.  Gera um arquivo de dados de vendas fictício ('vendas.csv').\n",
    "2.  Carrega e pré-processa os dados.\n",
    "3.  Divide os dados em conjuntos de treino e teste.\n",
    "4.  Treina e compara dois modelos de regressão: Regressão Linear e Random Forest.\n",
    "5.  Implementa técnicas de interpretabilidade para o melhor modelo.\n",
    "6.  Avalia o desempenho dos modelos usando o Erro Absoluto Médio (MAE).\n",
    "7.  Usa o melhor modelo para prever a demanda para os próximos 7 dias.\n",
    "8.  (Bônus) Visualiza a demanda real vs. prevista.\n",
    "9.  (Bônus) Permite a previsão para um SKU específico fornecido pelo usuário.\n",
    "\"\"\""
   ]
  },
  {
   "cell_type": "code",
   "execution_count": 2,
   "id": "31a6d029",
   "metadata": {},
   "outputs": [],
   "source": [
    "# --- ETAPA 0: Importação de Bibliotecas  ---\n",
    "import pandas as pd\n",
    "import numpy as np\n",
    "import matplotlib.pyplot as plt\n",
    "import seaborn as sns\n",
    "from sklearn.model_selection import train_test_split\n",
    "from sklearn.linear_model import LinearRegression\n",
    "from sklearn.ensemble import RandomForestRegressor\n",
    "from sklearn.metrics import mean_absolute_error\n",
    "from sklearn.inspection import permutation_importance\n",
    "import os"
   ]
  },
  {
   "cell_type": "code",
   "execution_count": 3,
   "id": "ae572ba0",
   "metadata": {},
   "outputs": [
    {
     "name": "stdout",
     "output_type": "stream",
     "text": [
      "\n",
      "--- ETAPA 1: Carregando os Dados ---\n",
      "Dados carregados com sucesso.\n",
      "Primeiras 5 linhas dos dados:\n",
      "   sku data_venda  venda\n",
      "0  336 2024-01-14     15\n",
      "1  336 2024-01-18     28\n",
      "2  336 2024-01-20     34\n",
      "3  336 2024-01-23     32\n",
      "4  336 2024-01-25     27\n",
      "\n",
      "Informações do DataFrame:\n",
      "<class 'pandas.core.frame.DataFrame'>\n",
      "RangeIndex: 135226 entries, 0 to 135225\n",
      "Data columns (total 3 columns):\n",
      " #   Column      Non-Null Count   Dtype         \n",
      "---  ------      --------------   -----         \n",
      " 0   sku         135226 non-null  int64         \n",
      " 1   data_venda  135226 non-null  datetime64[ns]\n",
      " 2   venda       135226 non-null  int64         \n",
      "dtypes: datetime64[ns](1), int64(2)\n",
      "memory usage: 3.1 MB\n"
     ]
    }
   ],
   "source": [
    "# --- ETAPA 1: Carregamento dos Dados ---\n",
    "print(\"\\n--- ETAPA 1: Carregando os Dados ---\")\n",
    "try:\n",
    "    dados = pd.read_csv('vendas.csv', parse_dates=['data_venda'])\n",
    "    print(\"Dados carregados com sucesso.\")\n",
    "    print(\"Primeiras 5 linhas dos dados:\")\n",
    "    print(dados.head())\n",
    "    print(\"\\nInformações do DataFrame:\")\n",
    "    dados.info()\n",
    "except FileNotFoundError:\n",
    "    print(\"ERRO: Arquivo 'vendas.csv' não encontrado. Execute a geração de dados primeiro.\")\n",
    "    exit()"
   ]
  },
  {
   "cell_type": "code",
   "execution_count": 4,
   "id": "54793c31",
   "metadata": {},
   "outputs": [
    {
     "name": "stdout",
     "output_type": "stream",
     "text": [
      "\n",
      "--- ETAPA 2: Pré-processamento e Engenharia de Atributos ---\n",
      "Dados pré-processados. Novos atributos criados.\n",
      "Exemplo de dados processados:\n",
      "   data_venda  venda  dia_da_semana  dia_do_mes  mes   ano  semana_do_ano  \\\n",
      "7  2024-01-28     16              6          28    1  2024              4   \n",
      "8  2024-01-31     27              2          31    1  2024              5   \n",
      "9  2024-02-01     28              3           1    2  2024              5   \n",
      "10 2024-02-02     24              4           2    2  2024              5   \n",
      "11 2024-02-03     56              5           3    2  2024              5   \n",
      "\n",
      "    vendas_lag_7  sku_2  sku_3  ...  sku_5666  sku_5667  sku_5668  sku_5669  \\\n",
      "7           15.0  False  False  ...     False     False     False     False   \n",
      "8           28.0  False  False  ...     False     False     False     False   \n",
      "9           34.0  False  False  ...     False     False     False     False   \n",
      "10          32.0  False  False  ...     False     False     False     False   \n",
      "11          27.0  False  False  ...     False     False     False     False   \n",
      "\n",
      "    sku_5670  sku_5671  sku_5674  sku_5675  sku_5676  sku_5695  \n",
      "7      False     False     False     False     False     False  \n",
      "8      False     False     False     False     False     False  \n",
      "9      False     False     False     False     False     False  \n",
      "10     False     False     False     False     False     False  \n",
      "11     False     False     False     False     False     False  \n",
      "\n",
      "[5 rows x 3395 columns]\n"
     ]
    }
   ],
   "source": [
    "# --- ETAPA 2: Pré-processamento e Engenharia de Atributos ---\n",
    "print(\"\\n--- ETAPA 2: Pré-processamento e Engenharia de Atributos ---\")\n",
    "\n",
    "def preprocessar_dados(df):\n",
    "    \"\"\"Cria novos atributos a partir da data para o modelo.\"\"\"\n",
    "    df_proc = df.copy()\n",
    "    df_proc['dia_da_semana'] = df_proc['data_venda'].dt.dayofweek\n",
    "    df_proc['dia_do_mes'] = df_proc['data_venda'].dt.day\n",
    "    df_proc['mes'] = df_proc['data_venda'].dt.month\n",
    "    df_proc['ano'] = df_proc['data_venda'].dt.year\n",
    "    df_proc['semana_do_ano'] = df_proc['data_venda'].dt.isocalendar().week.astype(int)\n",
    "    \n",
    "    # Lag feature: vendas da semana anterior (importante para capturar sazonalidade semanal)\n",
    "    df_proc['vendas_lag_7'] = df_proc.groupby('sku')['venda'].shift(7)\n",
    "    \n",
    "    # Lidando com valores ausentes criados pelo lag\n",
    "    df_proc = df_proc.dropna()\n",
    "\n",
    "    # One-Hot Encoding para a variável categórica 'sku'\n",
    "    df_proc = pd.get_dummies(df_proc, columns=['sku'], drop_first=True)\n",
    "    \n",
    "    return df_proc\n",
    "\n",
    "dados_proc = preprocessar_dados(dados)\n",
    "print(\"Dados pré-processados. Novos atributos criados.\")\n",
    "print(\"Exemplo de dados processados:\")\n",
    "print(dados_proc.head())"
   ]
  },
  {
   "cell_type": "code",
   "execution_count": 5,
   "id": "f775ae22",
   "metadata": {},
   "outputs": [
    {
     "name": "stdout",
     "output_type": "stream",
     "text": [
      "\n",
      "--- ETAPA 3: Divisão dos Dados ---\n",
      "Dados divididos em treino e teste.\n",
      "Tamanho do conjunto de treino: 77494 amostras\n",
      "Tamanho do conjunto de teste: 27147 amostras\n",
      "Data de corte para divisão: 2024-03-18\n"
     ]
    }
   ],
   "source": [
    "# --- ETAPA 3: Divisão dos Dados em Treinamento e Teste ---\n",
    "print(\"\\n--- ETAPA 3: Divisão dos Dados ---\")\n",
    "# Para séries temporais, a divisão não deve ser aleatória.\n",
    "# Vamos usar al últimas 3 semanas como conjunto de teste.\n",
    "dados_proc = dados_proc.set_index('data_venda')\n",
    "data_corte = dados_proc.index.max() - pd.DateOffset(weeks=3)\n",
    "\n",
    "treino = dados_proc[dados_proc.index <= data_corte]\n",
    "teste = dados_proc[dados_proc.index > data_corte]\n",
    "\n",
    "X_treino = treino.drop('venda', axis=1)\n",
    "y_treino = treino['venda']\n",
    "X_teste = teste.drop('venda', axis=1)\n",
    "y_teste = teste['venda']\n",
    "\n",
    "print(f\"Dados divididos em treino e teste.\")\n",
    "print(f\"Tamanho do conjunto de treino: {len(X_treino)} amostras\")\n",
    "print(f\"Tamanho do conjunto de teste: {len(X_teste)} amostras\")\n",
    "print(f\"Data de corte para divisão: {data_corte.date()}\")"
   ]
  },
  {
   "cell_type": "code",
   "execution_count": 6,
   "id": "adfe4aa2",
   "metadata": {},
   "outputs": [
    {
     "name": "stdout",
     "output_type": "stream",
     "text": [
      "\n",
      "--- ETAPA 4: Treinamento e Comparação de Modelos ---\n",
      "Treinando modelo: Regressão Linear...\n",
      "Regressão Linear treinado.\n",
      "Treinando modelo: Random Forest...\n",
      "Random Forest treinado.\n"
     ]
    }
   ],
   "source": [
    "# --- ETAPA 4: Treinamento e Comparação de Modelos ---\n",
    "print(\"\\n--- ETAPA 4: Treinamento e Comparação de Modelos ---\")\n",
    "modelos = {\n",
    "    \"Regressão Linear\": LinearRegression(),\n",
    "    \"Random Forest\": RandomForestRegressor(n_estimators=100, random_state=42, n_jobs=-1)\n",
    "}\n",
    "\n",
    "for nome, modelo in modelos.items():\n",
    "    print(f\"Treinando modelo: {nome}...\")\n",
    "    modelo.fit(X_treino, y_treino)\n",
    "    print(f\"{nome} treinado.\")"
   ]
  },
  {
   "cell_type": "code",
   "execution_count": null,
   "id": "ea75ab4c",
   "metadata": {},
   "outputs": [],
   "source": []
  },
  {
   "cell_type": "code",
   "execution_count": null,
   "id": "0d03865f",
   "metadata": {},
   "outputs": [],
   "source": []
  },
  {
   "cell_type": "code",
   "execution_count": null,
   "id": "6df396e3",
   "metadata": {},
   "outputs": [],
   "source": []
  },
  {
   "cell_type": "code",
   "execution_count": null,
   "id": "a970b86c",
   "metadata": {},
   "outputs": [],
   "source": []
  }
 ],
 "metadata": {
  "kernelspec": {
   "display_name": ".venv",
   "language": "python",
   "name": "python3"
  },
  "language_info": {
   "codemirror_mode": {
    "name": "ipython",
    "version": 3
   },
   "file_extension": ".py",
   "mimetype": "text/x-python",
   "name": "python",
   "nbconvert_exporter": "python",
   "pygments_lexer": "ipython3",
   "version": "3.11.9"
  }
 },
 "nbformat": 4,
 "nbformat_minor": 5
}
