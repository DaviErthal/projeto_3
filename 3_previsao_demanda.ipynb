{
 "cells": [
  {
   "cell_type": "code",
   "execution_count": null,
   "id": "1c07aa17",
   "metadata": {},
   "outputs": [],
   "source": [
    "# -*- coding: utf-8 -*-\n",
    "\"\"\"\n",
    "================================================================================\n",
    "SCRIPT FINAL (v1.2) - PROJETO DE PREVISÃO DE DEMANDA AGREGADA\n",
    "================================================================================\n",
    "\n",
    "Cenário: Previsão de demanda para uma empresa de varejo com muitos produtos e\n",
    "         vendas intermitentes (esparsas).\n",
    "\n",
    "Estratégia Adotada:\n",
    "1.  **Agregação de Dados:** As vendas de todos os produtos são somadas por dia\n",
    "    para criar uma única série temporal de \"demanda total\".\n",
    "2.  **Comparação de Modelos Especialistas:** Compara Prophet, SARIMA Manual e\n",
    "    Auto-SARIMA.\n",
    "3.  **Seleção e Interpretação:** Seleciona o melhor modelo via MAE e aplica\n",
    "    técnicas de interpretação.\n",
    "4.  **Previsão e Alocação:** Usa o melhor modelo para prever a demanda futura.\n",
    "    Permite filtragem por SKU via alocação proporcional.\n",
    "5.  **Visualização Final:** Um gráfico consolidado mostra o histórico, as\n",
    "    previsões de teste e a previsão futura do melhor modelo.\n",
    "\n",
    "Correção v1.2:\n",
    "-   Sincronizada a definição da função `prever_demanda_filtrada` com suas\n",
    "    chamadas, corrigindo o `TypeError` de 'unexpected keyword argument'.\n",
    "-   Integrado o bloco de visualização final diretamente no script.\n",
    "\"\"\""
   ]
  },
  {
   "cell_type": "code",
   "execution_count": null,
   "id": "b1784d28",
   "metadata": {},
   "outputs": [],
   "source": [
    "# --- Importação das Bibliotecas Necessárias ---\n",
    "import pandas as pd\n",
    "import numpy as np\n",
    "import matplotlib.pyplot as plt\n",
    "import matplotlib.dates as mdates\n",
    "from sklearn.metrics import mean_squared_error, mean_absolute_error\n",
    "import warnings\n",
    "import sys\n",
    "\n",
    "# Modelos de Séries Temporais\n",
    "from statsmodels.tsa.statespace.sarimax import SARIMAX\n",
    "from statsmodels.tsa.stattools import adfuller\n",
    "from statsmodels.tsa.seasonal import seasonal_decompose\n",
    "from statsmodels.graphics.tsaplots import plot_acf, plot_pacf\n",
    "import itertools\n",
    "# import pmdarima as pm\n",
    "from prophet import Prophet"
   ]
  },
  {
   "cell_type": "code",
   "execution_count": null,
   "id": "f7067b70",
   "metadata": {},
   "outputs": [],
   "source": []
  },
  {
   "cell_type": "code",
   "execution_count": null,
   "id": "639545b0",
   "metadata": {},
   "outputs": [],
   "source": []
  },
  {
   "cell_type": "code",
   "execution_count": null,
   "id": "b150b4bf",
   "metadata": {},
   "outputs": [],
   "source": []
  }
 ],
 "metadata": {
  "kernelspec": {
   "display_name": ".venv",
   "language": "python",
   "name": "python3"
  },
  "language_info": {
   "name": "python",
   "version": "3.11.9"
  }
 },
 "nbformat": 4,
 "nbformat_minor": 5
}
